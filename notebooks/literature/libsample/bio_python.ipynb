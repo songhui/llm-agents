{
 "cells": [
  {
   "cell_type": "code",
   "execution_count": null,
   "id": "107f58d4",
   "metadata": {},
   "outputs": [],
   "source": [
    "from Bio import Entrez\n",
    "\n",
    "# Set your email address\n",
    "Entrez.email = \"hui.song@sintef.no\"\n",
    "\n",
    "# Search for articles related to 'cancer'\n",
    "handle = Entrez.esearch(db=\"pubmed\", term=\"A biliary immune landscape map of primary sclerosing cholangitis reveals a dominant network of neutrophils and tissue-resident T cells\", retmax=10)\n",
    "record = Entrez.read(handle)\n",
    "\n",
    "# Get a list of PubMed IDs (PMIDs)\n",
    "pmids = record[\"IdList\"]\n",
    "print(pmids)\n",
    "\n",
    "# Fetch the details for each PMID\n",
    "handle = Entrez.efetch(db=\"pubmed\", id=pmids, rettype=\"abstract\", retmode=\"text\")\n",
    "abstracts = handle.read()\n",
    "print(abstracts)"
   ]
  },
  {
   "cell_type": "code",
   "execution_count": null,
   "id": "185603ff",
   "metadata": {},
   "outputs": [],
   "source": [
    "from tools.citation_tools import get_references\n",
    "\n",
    "# Example DOI to test\n",
    "doi = \"10.1126/scitranslmed.abb3107\"  # Replace with the DOI of interest\n",
    "references = get_references(doi)\n",
    "\n",
    "print(references)"
   ]
  }
 ],
 "metadata": {
  "kernelspec": {
   "display_name": "base",
   "language": "python",
   "name": "python3"
  },
  "language_info": {
   "codemirror_mode": {
    "name": "ipython",
    "version": 3
   },
   "file_extension": ".py",
   "mimetype": "text/x-python",
   "name": "python",
   "nbconvert_exporter": "python",
   "pygments_lexer": "ipython3",
   "version": "3.11.9"
  }
 },
 "nbformat": 4,
 "nbformat_minor": 5
}
