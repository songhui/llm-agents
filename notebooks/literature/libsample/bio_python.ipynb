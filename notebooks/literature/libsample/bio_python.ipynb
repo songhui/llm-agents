{
 "cells": [
  {
   "cell_type": "code",
   "execution_count": 1,
   "id": "c9ff4e11-079c-4817-9bf7-642769b0e4b6",
   "metadata": {},
   "outputs": [
    {
     "name": "stdout",
     "output_type": "stream",
     "text": [
      "Requirement already satisfied: Biopython in /opt/conda/lib/python3.11/site-packages (1.84)\n",
      "Requirement already satisfied: numpy in /opt/conda/lib/python3.11/site-packages (from Biopython) (1.26.4)\n",
      "Note: you may need to restart the kernel to use updated packages.\n"
     ]
    }
   ],
   "source": [
    "pip install Biopython"
   ]
  },
  {
   "cell_type": "code",
   "execution_count": 2,
   "id": "107f58d4",
   "metadata": {},
   "outputs": [
    {
     "name": "stdout",
     "output_type": "stream",
     "text": [
      "['34162753']\n",
      "1. Sci Transl Med. 2021 Jun 23;13(599):eabb3107. doi:\n",
      "10.1126/scitranslmed.abb3107.\n",
      "\n",
      "A biliary immune landscape map of primary sclerosing cholangitis reveals a \n",
      "dominant network of neutrophils and tissue-resident T cells.\n",
      "\n",
      "Zimmer CL(1), von Seth E(2)(3), Buggert M(1), Strauss O(1), Hertwig L(1), Nguyen \n",
      "S(4)(5), Wong AYW(6), Zotter C(1), Berglin L(1), Michaëlsson J(1), Hansson \n",
      "MR(7), Arnelo U(7)(8), Sparrelid E(7), Ellis ECS(9), Söderholm JD(10)(11), Keita \n",
      "ÅV(10), Holm K(12)(13), Özenci V(6), Hov JR(12)(13)(14)(15), Mold JE(16), \n",
      "Cornillet M(1), Ponzetta A(1), Bergquist A(2)(3), Björkström NK(17).\n",
      "\n",
      "Author information:\n",
      "(1)Center for Infectious Medicine, Department of Medicine Huddinge, Karolinska \n",
      "Institutet, Karolinska University Hospital, 14152 Stockholm, Sweden.\n",
      "(2)Division of Upper GI Diseases, Karolinska University Hospital, 14157 \n",
      "Stockholm, Sweden.\n",
      "(3)Unit of Gastroenterology and Rheumatology, Department of Medicine Huddinge, \n",
      "Karolinska Institutet, Karolinska University Hospital, 14157 Stockholm, Sweden.\n",
      "(4)Department of Microbiology, Perelman School of Medicine, University of \n",
      "Pennsylvania, Philadelphia, PA 19104-6076, USA.\n",
      "(5)Institute for Immunology, Perelman School of Medicine, University of \n",
      "Pennsylvania, Philadelphia, PA 19104, USA.\n",
      "(6)Division of Clinical Microbiology, Department of Laboratory Medicine, \n",
      "Karolinska Institutet, 14152 Stockholm, Sweden.\n",
      "(7)Division of Surgery, Department of Clinical Science, Intervention, and \n",
      "Technology, Karolinska Institutet, 14152 Stockholm, Sweden.\n",
      "(8)Department of Surgical and Perioperative sciences, Surgery, Umeå University, \n",
      "90187 Umeå, Sweden.\n",
      "(9)Division of Transplantation Surgery, Department of Clinical Science, \n",
      "Intervention and Technology, Karolinska Institutet, 14186 Stockholm, Sweden.\n",
      "(10)Department of Biomedical and Clinical Sciences, Linköping University, 58183 \n",
      "Linköping, Sweden.\n",
      "(11)Department of Surgery, Linköping University Hospital, 58185 Linköping, \n",
      "Sweden.\n",
      "(12)Institute of Clinical Medicine, University of Oslo, 0318 Oslo, Norway.\n",
      "(13)Norwegian PSC Research Center, Department of Transplantation Medicine, Oslo \n",
      "University Hospital, 0424 Oslo, Norway.\n",
      "(14)Section of Gastroenterology, Department of Transplantation Medicine, Oslo \n",
      "University Hospital, 0424 Oslo, Norway.\n",
      "(15)Research Institute of Internal Medicine, Oslo University Hospital, 0424 \n",
      "Oslo, Norway.\n",
      "(16)Department of Cell and Molecular Biology, Karolinska Institutet, 17177 \n",
      "Stockholm, Sweden.\n",
      "(17)Center for Infectious Medicine, Department of Medicine Huddinge, Karolinska \n",
      "Institutet, Karolinska University Hospital, 14152 Stockholm, Sweden. \n",
      "niklas.bjorkstrom@ki.se.\n",
      "\n",
      "The human biliary system, a mucosal barrier tissue connecting the liver and \n",
      "intestine, is an organ often affected by serious inflammatory and malignant \n",
      "diseases. Although these diseases are linked to immunological processes, the \n",
      "biliary system represents an unexplored immunological niche. By combining \n",
      "endoscopy-guided sampling of the biliary tree with a high-dimensional analysis \n",
      "approach, comprehensive mapping of the human biliary immunological landscape in \n",
      "patients with primary sclerosing cholangitis (PSC), a severe biliary \n",
      "inflammatory disease, was conducted. Major differences in immune cell \n",
      "composition in bile ducts compared to blood were revealed. Furthermore, biliary \n",
      "inflammation in patients with PSC was characterized by high presence of \n",
      "neutrophils and T cells as compared to control individuals without PSC. The \n",
      "biliary T cells displayed a CD103+CD69+ effector memory phenotype, a combined \n",
      "gut and liver homing profile, and produced interleukin-17 (IL-17) and IL-22. \n",
      "Biliary neutrophil infiltration in PSC associated with CXCL8, possibly produced \n",
      "by resident T cells, and CXCL16 was linked to the enrichment of T cells. This \n",
      "study uncovers the immunological niche of human bile ducts, defines a local \n",
      "immune network between neutrophils and biliary-resident T cells in PSC, and \n",
      "provides a resource for future studies of the immune responses in biliary \n",
      "disorders.\n",
      "\n",
      "Copyright © 2021 The Authors, some rights reserved; exclusive licensee American \n",
      "Association for the Advancement of Science. No claim to original U.S. Government \n",
      "Works.\n",
      "\n",
      "DOI: 10.1126/scitranslmed.abb3107\n",
      "PMID: 34162753 [Indexed for MEDLINE]\n"
     ]
    }
   ],
   "source": [
    "from Bio import Entrez\n",
    "import pprint\n",
    "from typing import List\n",
    "\n",
    "\n",
    "# Set your email address\n",
    "Entrez.email = \"hui.song@sintef.no\"\n",
    "\n",
    "# Search for articles related to 'cancer'\n",
    "handle = Entrez.esearch(db=\"pubmed\", term=\"A biliary immune landscape map of primary sclerosing cholangitis reveals a dominant network of neutrophils and tissue-resident T cells\", retmax=10)\n",
    "record = Entrez.read(handle)\n",
    "\n",
    "# Get a list of PubMed IDs (PMIDs)\n",
    "pmids = record[\"IdList\"]\n",
    "print(pmids)\n",
    "\n",
    "# Fetch the details for each PMID\n",
    "handle = Entrez.efetch(db=\"pubmed\", id=pmids, rettype=\"abstract\", retmode=\"text\")\n",
    "abstracts = handle.read()\n",
    "print(abstracts)"
   ]
  },
  {
   "cell_type": "code",
   "execution_count": 3,
   "id": "185603ff",
   "metadata": {},
   "outputs": [
    {
     "name": "stdout",
     "output_type": "stream",
     "text": [
      "['10.1016/j.immuni.2012.09.020', '10.1016/j.immuni.2016.07.007', '10.1016/j.immuni.2016.11.005', '10.1016/j.immuni.2016.08.015', '10.1038/nbt.3942', '10.1016/j.immuni.2013.04.004', '10.4049/jimmunol.1200402', '10.4049/jimmunol.176.4.2079', '10.1016/j.celrep.2017.08.078', '10.1016/j.jhep.2017.07.022', '10.1038/nri.2016.34', '10.1016/j.cell.2015.03.031', '10.1126/science.aac9593', 'Unknown DOI', '10.1016/j.cell.2016.02.048', '10.1016/j.cub.2017.05.073', 'Unknown DOI', '10.1038/s41385-018-0016-5', '10.1038/ni.2744', '10.1126/sciimmunol.aas9673', '10.4049/jimmunol.1500515', '10.1038/nri3567', '10.1016/S0140-6736(13)60096-3', '10.1056/NEJMra1506330', '10.4049/jimmunol.157.7.3183', '10.1111/j.1440-1827.2006.01913.x', '10.1016/S0168-8278(03)00481-1', '10.1084/jem.20162115', '10.1016/j.celrep.2019.12.050', '10.4049/jimmunol.1701704', '10.1053/j.gastro.2014.04.003', '10.1038/ni.3589', '10.1038/nature21379', '10.1126/sciimmunol.abb4432', '10.1016/j.immuni.2016.08.011', '10.1016/j.it.2018.06.003', '10.1146/annurev-immunol-032713-120145', '10.1007/s00281-009-0167-2', '10.1016/j.immuni.2017.01.009', '10.1111/liv.13092', '10.1016/j.jhep.2017.01.019', '10.1038/s41467-021-21533-5', 'Unknown DOI', '10.1038/nature04606', '10.1038/ni.1718', '10.1182/blood-2010-08-303339', '10.1084/jem.20041035', '10.1053/j.gastro.2009.02.046', '10.1016/j.jhep.2012.07.008', '10.1093/femspd/ftw111', '10.1007/s40139-018-0157-y', '10.1084/jem.20081463', '10.1002/hep.30470', '10.1053/j.gastro.2012.05.049', '10.1111/j.1365-2249.2009.03947.x', '10.1002/hep.26447', '10.1002/eji.201646890', '10.4049/jimmunol.133.4.1857', '10.1038/nprot.2014.006', '10.1101/gr.177881.114', '10.1038/ng1180', 'Unknown DOI', '10.1002/eji.201445369', '10.1073/pnas.1708981114', '10.1186/2049-2618-2-6', '10.14806/ej.17.1.200', '10.1371/journal.pone.0185056', '10.1128/mSystems.00191-16', '10.1038/s41587-019-0209-9', 'Unknown DOI', '10.1093/nar/gks1219', '10.1038/s41598-017-17204-5']\n"
     ]
    }
   ],
   "source": [
    "import requests\n",
    "\n",
    "# Function to fetch references from CrossRef using DOI\n",
    "def get_references(doi) -> List[str]:\n",
    "    url = f\"https://api.crossref.org/works/{doi}\"\n",
    "    response = requests.get(url)\n",
    "    \n",
    "    if response.status_code == 200:\n",
    "        data = response.json()\n",
    "        references = data.get(\"message\", {}).get(\"reference\", [])\n",
    "        return [ref.get('DOI', 'Unknown DOI') for ref in references]\n",
    "    else:\n",
    "        print(f\"Error: {response.status_code}\")\n",
    "        return []\n",
    "\n",
    "# Example DOI to test\n",
    "doi = \"10.1126/scitranslmed.abb3107\"  # Replace with the DOI of interest\n",
    "references = get_references(doi)\n",
    "\n",
    "print(references)"
   ]
  }
 ],
 "metadata": {
  "kernelspec": {
   "display_name": "Python 3 (ipykernel)",
   "language": "python",
   "name": "python3"
  },
  "language_info": {
   "codemirror_mode": {
    "name": "ipython",
    "version": 3
   },
   "file_extension": ".py",
   "mimetype": "text/x-python",
   "name": "python",
   "nbconvert_exporter": "python",
   "pygments_lexer": "ipython3",
   "version": "3.11.9"
  }
 },
 "nbformat": 4,
 "nbformat_minor": 5
}
