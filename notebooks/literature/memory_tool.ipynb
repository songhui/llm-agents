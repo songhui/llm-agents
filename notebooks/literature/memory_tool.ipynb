{
 "cells": [
  {
   "cell_type": "markdown",
   "id": "908494f7-6a00-43a8-b17d-8061a45f349d",
   "metadata": {},
   "source": [
    "# LLM agents with memory in neo4j\n"
   ]
  },
  {
   "cell_type": "markdown",
   "id": "e6996e2e-c01c-4bc4-85e4-2ed67e135854",
   "metadata": {},
   "source": [
    "## Import libaries and prepare the API credential"
   ]
  },
  {
   "cell_type": "code",
   "execution_count": 2,
   "id": "c9ff4e11-079c-4817-9bf7-642769b0e4b6",
   "metadata": {},
   "outputs": [],
   "source": [
    "\n",
    "from autogen import ConversableAgent, register_function\n",
    "from autogen import config_list_from_json\n",
    "\n",
    "with open('../openai.credential', 'r') as file:\n",
    "    key = file.read()\n",
    "MODEL = 'gpt-4o'\n",
    "\n",
    "config_list = config_list_from_json(env_or_file=\"../CONFIG_LIST\", filter_dict={\"model\": MODEL})\n",
    "config_list[0][\"api_key\"] = key"
   ]
  },
  {
   "cell_type": "markdown",
   "id": "71b14701",
   "metadata": {},
   "source": [
    "## A nested tool agents to retrieve paper info"
   ]
  },
  {
   "cell_type": "markdown",
   "id": "b40dc390-df09-4791-a87d-517d75dacec5",
   "metadata": {},
   "source": [
    "### Python functions \n",
    "\n",
    "A set of functions to get citations and abstracts of a paper, search for a paper from its title, and covert between DOIs and PubMed IDs.\n"
   ]
  },
  {
   "cell_type": "code",
   "execution_count": 2,
   "id": "906bdf11",
   "metadata": {},
   "outputs": [],
   "source": [
    "from tools.neo4j import query_neo4j"
   ]
  },
  {
   "cell_type": "markdown",
   "id": "691ee968-b9bf-4b2a-9c52-acba6a2ae41b",
   "metadata": {},
   "source": [
    "### Tool executor (just to wrap up the function)"
   ]
  },
  {
   "cell_type": "code",
   "execution_count": 4,
   "id": "cdfd657a-9eb7-4fa0-87a9-3b2c04c2412d",
   "metadata": {},
   "outputs": [],
   "source": [
    "\n",
    "graph_tool_executor = ConversableAgent(\n",
    "    \"graph_tool_executor\",\n",
    "    llm_config=False,  # Turn off LLM for this agent.\n",
    "    code_execution_config=False,\n",
    "    is_termination_msg=lambda msg: (msg[\"content\"]) and (\"terminate\" in msg[\"content\"].lower())\n",
    ")"
   ]
  },
  {
   "cell_type": "markdown",
   "id": "4e40a94d-e683-46af-9a1a-ba4410c21404",
   "metadata": {},
   "source": [
    "### Tool driver (caller of the function)"
   ]
  },
  {
   "cell_type": "code",
   "execution_count": null,
   "id": "15f407d3-38b2-4d4d-a633-a069b5ad0bc1",
   "metadata": {},
   "outputs": [],
   "source": [
    "graph_tool_driver = ConversableAgent(\n",
    "    \"graph_tool_driver\",\n",
    "    system_message = \"You are curious about person, and you can use a tool (linked to a graph database) to store the information about the persons you heard. Once you get a description about a person, find the person in the graph database as a node (or create one node if the this person does not exist in the database), and save the description for this node. After that, please identify all the other persons mentiond in this description, save them into the graph as nodes, together with the relation between the original person and the other person. Finally, find one person from the graph who does not have a description yet, and say 'I want to know more about <the name of this person>. TERMINATE'. Try not to query the database too often\",\n",
    "    llm_config = {\"config_list\": config_list},\n",
    "    code_execution_config=False\n",
    ")"
   ]
  },
  {
   "cell_type": "markdown",
   "id": "5a553d80-4f70-4eb4-be18-437626460b6f",
   "metadata": {},
   "source": [
    "### Register the tool to both caller and executor\n"
   ]
  },
  {
   "cell_type": "code",
   "execution_count": null,
   "id": "45a6c1bc-8ef5-42ff-87ff-fa7880728dfc",
   "metadata": {},
   "outputs": [],
   "source": [
    "register_function(\n",
    "    query_neo4j,\n",
    "    caller = graph_tool_driver,\n",
    "    executor = graph_tool_executor,\n",
    "    description = \"Query or modify the neo4j graph database. The input is a cypher query, and the output is a list of records returned from the query. We assume that the graph has nodes with label 'Person', which has 'name' and 'description' as attribute. A person may have 'Relation' with other person, and the relation has a property 'name'. Remember that 'Person' is the only allowed label of nodes. Do not introduce or use other labels.\"\n",
    ")"
   ]
  },
  {
   "cell_type": "markdown",
   "id": "d99696aa-394c-4620-b8ec-0775b1cbf18a",
   "metadata": {},
   "source": [
    "### Make the nested agent for tools. \n",
    "Now lib_tool_executor is the only one exposed to the group"
   ]
  },
  {
   "cell_type": "code",
   "execution_count": 7,
   "id": "042c02b5-36d3-4c6e-8526-51f4c102eb33",
   "metadata": {},
   "outputs": [],
   "source": [
    "from tools.tools import second_last_msg\n",
    "\n",
    "nested_chats = [\n",
    "    {\n",
    "        \"recipient\": graph_tool_driver,\n",
    "        \"max_turns\": 6,\n",
    "        \"summary_method\": \"last_msg\"\n",
    "    }\n",
    "]\n",
    "\n",
    "graph_tool_executor.register_nested_chats(\n",
    "    nested_chats, \n",
    "    trigger = lambda sender: sender not in [graph_tool_driver]\n",
    ")"
   ]
  },
  {
   "cell_type": "code",
   "execution_count": null,
   "id": "01e45ad7",
   "metadata": {},
   "outputs": [],
   "source": [
    "person_expert = ConversableAgent(\n",
    "    \"person_expert\",\n",
    "    system_message = \"You are a helpful assistant. Once you were asked about a person, reply a short description (<100 words) about this person, including his/her relation with some other persons in the description.\",\n",
    "    llm_config = {\"config_list\": config_list},\n",
    "    #is_termination_msg=lambda msg: \"\" in msg[\"content\"].lower(),\n",
    "    human_input_mode=\"ALWAYS\",\n",
    ")\n",
    "\n",
    "chat_result = graph_tool_executor.initiate_chat(\n",
    "    person_expert,\n",
    "    message=\"I want to know something about Zhou Shuren\",\n",
    "    max_turns=10\n",
    ")"
   ]
  }
 ],
 "metadata": {
  "kernelspec": {
   "display_name": "base",
   "language": "python",
   "name": "python3"
  },
  "language_info": {
   "codemirror_mode": {
    "name": "ipython",
    "version": 3
   },
   "file_extension": ".py",
   "mimetype": "text/x-python",
   "name": "python",
   "nbconvert_exporter": "python",
   "pygments_lexer": "ipython3",
   "version": "3.11.9"
  }
 },
 "nbformat": 4,
 "nbformat_minor": 5
}
