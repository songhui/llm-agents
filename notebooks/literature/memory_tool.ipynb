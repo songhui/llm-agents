{
 "cells": [
  {
   "cell_type": "markdown",
   "id": "908494f7-6a00-43a8-b17d-8061a45f349d",
   "metadata": {},
   "source": [
    "# LLM agents with memory in neo4j\n"
   ]
  },
  {
   "cell_type": "markdown",
   "id": "e6996e2e-c01c-4bc4-85e4-2ed67e135854",
   "metadata": {},
   "source": [
    "## Prepare the API credential"
   ]
  },
  {
   "cell_type": "code",
   "execution_count": 1,
   "id": "c9ff4e11-079c-4817-9bf7-642769b0e4b6",
   "metadata": {},
   "outputs": [],
   "source": [
    "from autogen import ConversableAgent\n",
    "from autogen import config_list_from_json\n",
    "\n",
    "with open('../openai.credential', 'r') as file:\n",
    "    key = file.read()\n",
    "MODEL = 'gpt-4o-mini'\n",
    "\n",
    "config_list = config_list_from_json(env_or_file=\"../CONFIG_LIST\", filter_dict={\"model\": MODEL})\n",
    "config_list[0][\"api_key\"] = key"
   ]
  },
  {
   "cell_type": "markdown",
   "id": "71b14701",
   "metadata": {},
   "source": [
    "### A cypher executor"
   ]
  },
  {
   "cell_type": "code",
   "execution_count": 2,
   "id": "b40dc390-df09-4791-a87d-517d75dacec5",
   "metadata": {},
   "outputs": [],
   "source": [
    "from tools.CypherExecutor import CypherCodeExecutor\n",
    "\n",
    "cypher_executor = ConversableAgent(\n",
    "    \"cypher_executor\",\n",
    "    human_input_mode= \"NEVER\",\n",
    "    llm_config=False,  # Turn off LLM for this agent.\n",
    "    code_execution_config={\"executor\": CypherCodeExecutor()})"
   ]
  },
  {
   "cell_type": "markdown",
   "id": "906bdf11",
   "metadata": {},
   "source": [
    "### A graph expert"
   ]
  },
  {
   "cell_type": "code",
   "execution_count": 3,
   "id": "691ee968-b9bf-4b2a-9c52-acba6a2ae41b",
   "metadata": {},
   "outputs": [],
   "source": [
    "graph_expert = ConversableAgent(\n",
    "    \"graph_expert\",\n",
    "    system_message = \"\"\"You are curious about person, and you can use a tool (linked to a graph database) to store the information about the persons you heard. Once you get a description about a person, find the person in the graph database as a node (or create one if it does not exist in the database), and save the description as well. After that, please identify all the other persons mentioned in this description, save them into the graph as nodes, together with the relation between the original person and the other person. Finally, find one person from the graph who does not have a description yet, and say 'I want to know more about <the name of this person>. TERMINATE'. Try not to query the database too often and to do so use cypher format\"\"\",\n",
    "    llm_config = {\"config_list\": config_list},\n",
    "    code_execution_config=False\n",
    ")"
   ]
  },
  {
   "cell_type": "markdown",
   "id": "cdfd657a-9eb7-4fa0-87a9-3b2c04c2412d",
   "metadata": {},
   "source": [
    "### A schema dumper"
   ]
  },
  {
   "cell_type": "code",
   "execution_count": 4,
   "id": "4e40a94d-e683-46af-9a1a-ba4410c21404",
   "metadata": {},
   "outputs": [],
   "source": [
    "from autogen import GroupChat, GroupChatManager\n",
    "from tools.tools import retrieve_content\n",
    "\n",
    "#TODO: is there a way to have this as a generic function? in tools.tools\n",
    "def state_transition(last_speaker, groupchat):\n",
    "    if \"cypher\" in groupchat.messages[-1][\"content\"]: return cypher_executor\n",
    "    elif last_speaker is person_expert: return graph_expert\n",
    "    else: return person_expert\n",
    "\n",
    "ret = retrieve_content(config_list)\n",
    "\n",
    "person_expert = ConversableAgent(\n",
    "    \"person_expert\",\n",
    "    system_message = \"You are a helpful assistant. Once you were asked about a person, reply a short description (<100 words) about this person, including his/her relation with some other persons in the description.\",\n",
    "    llm_config = {\"config_list\": config_list},\n",
    "    #is_termination_msg=lambda msg: \"\" in msg[\"content\"].lower(),\n",
    "    human_input_mode=\"NEVER\",\n",
    ")\n",
    "\n",
    "groupchat = GroupChat(agents=[person_expert, graph_expert, cypher_executor, ret], messages=[],\n",
    "                          max_round=10, speaker_selection_method=state_transition)\n",
    "    \n",
    "manager   = GroupChatManager(groupchat=groupchat, llm_config={\"config_list\": config_list})\n",
    "\n",
    "PROBLEM = \"I want to know something about Zhou Shuren\"\n",
    "\n",
    "for a in groupchat.agents: a.reset() #TODO: create a new function"
   ]
  },
  {
   "cell_type": "code",
   "execution_count": 5,
   "id": "15f407d3-38b2-4d4d-a633-a069b5ad0bc1",
   "metadata": {},
   "outputs": [
    {
     "name": "stdout",
     "output_type": "stream",
     "text": [
      "Trying to create collection.\n"
     ]
    },
    {
     "name": "stderr",
     "output_type": "stream",
     "text": [
      "/opt/conda/lib/python3.11/site-packages/sentence_transformers/cross_encoder/CrossEncoder.py:13: TqdmExperimentalWarning: Using `tqdm.autonotebook.tqdm` in notebook mode. Use `tqdm.tqdm` instead to force console mode (e.g. in jupyter console)\n",
      "  from tqdm.autonotebook import tqdm, trange\n",
      "Number of requested results 20 is greater than number of elements in index 1, updating n_results = 1\n"
     ]
    },
    {
     "name": "stdout",
     "output_type": "stream",
     "text": [
      "doc_ids:  [['doc_0']]\n",
      "\u001b[32mAdding content of doc doc_0 to context.\u001b[0m\n",
      "\u001b[33mretriever\u001b[0m (to chat_manager):\n",
      "\n",
      "DATABASE SCHEMA\n",
      "[\n",
      "    {\n",
      "        \"nodes\": [\n",
      "            {\n",
      "                \"name\": \"Person\",\n",
      "                \"indexes\": [],\n",
      "                \"constraints\": [],\n",
      "                \"properties\": [\n",
      "                    \"name\",\n",
      "                    \"description\",\n",
      "                    \"alias\"\n",
      "                ]\n",
      "            }\n",
      "        ],\n",
      "        \"relationships\": [\n",
      "            {\n",
      "                \"name\": \"ASSOCIATE\",\n",
      "                \"node1\": \"Person\",\n",
      "                \"node2\": \"Person\",\n",
      "                \"properties\": [\n",
      "                    null\n",
      "                ]\n",
      "            }\n",
      "        ]\n",
      "    }\n",
      "]\n",
      "\n",
      "\n",
      "TASK\n",
      "I want to know something about Zhou Shuren\n",
      "\n",
      "--------------------------------------------------------------------------------\n",
      "\u001b[32m\n",
      "Next speaker: person_expert\n",
      "\u001b[0m\n",
      "[autogen.oai.client: 10-25 07:44:23] {315} WARNING - Model gpt-4o-mini is not found. The cost will be 0. In your config_list, add field {\"price\" : [prompt_price_per_1k, completion_token_price_per_1k]} for customized pricing.\n",
      "\u001b[33mperson_expert\u001b[0m (to chat_manager):\n",
      "\n",
      "Zhou Shuren, better known by his pen name Lu Xun, was a prominent Chinese writer and thinker in the early 20th century. He is often regarded as the father of modern Chinese literature. Lu Xun had significant relationships with contemporaries like Zhou Zuoren, his younger brother, who was also an influential writer. Together, they contributed to the cultural and literary movements of their time, with Lu Xun advocating for social reform through his sharp critiques of traditional society. His works, such as \"A Madman's Diary,\" reflect deep psychological insights and a commitment to change.\n",
      "\n",
      "--------------------------------------------------------------------------------\n",
      "\u001b[32m\n",
      "Next speaker: graph_expert\n",
      "\u001b[0m\n",
      "\u001b[31m\n",
      ">>>>>>>> USING AUTO REPLY...\u001b[0m\n",
      "[autogen.oai.client: 10-25 07:44:29] {315} WARNING - Model gpt-4o-mini is not found. The cost will be 0. In your config_list, add field {\"price\" : [prompt_price_per_1k, completion_token_price_per_1k]} for customized pricing.\n",
      "\u001b[33mgraph_expert\u001b[0m (to chat_manager):\n",
      "\n",
      "Let's start by adding Zhou Shuren (Lu Xun) to the database if he doesn't exist, along with his description. We will also look for Zhou Zuoren and add him as a related person.\n",
      "\n",
      "### Cypher Queries\n",
      "\n",
      "1. **Create or Update Zhou Shuren (Lu Xun)**:\n",
      "   ```cypher\n",
      "   MERGE (luXun:Person {name: 'Zhou Shuren', alias: 'Lu Xun'})\n",
      "   SET luXun.description = 'Zhou Shuren, better known by his pen name Lu Xun, was a prominent Chinese writer and thinker in the early 20th century. He is often regarded as the father of modern Chinese literature. Lu Xun had significant relationships with contemporaries like Zhou Zuoren, his younger brother, who was also an influential writer. Together, they contributed to the cultural and literary movements of their time, with Lu Xun advocating for social reform through his sharp critiques of traditional society. His works, such as \"A Madman\\'s Diary,\" reflect deep psychological insights and a commitment to change.'\n",
      "   ```\n",
      "\n",
      "2. **Create or Update Zhou Zuoren**:\n",
      "   ```cypher\n",
      "   MERGE (zhouZuoren:Person {name: 'Zhou Zuoren'})\n",
      "   ```\n",
      "\n",
      "3. **Create Relationship Between Lu Xun and Zhou Zuoren**:\n",
      "   ```cypher\n",
      "   MERGE (luXun)-[:ASSOCIATE]->(zhouZuoren)\n",
      "   ```\n",
      "\n",
      "Now I will check for another person in the database who does not have a description yet. Let's see...\n",
      "\n",
      "### Cypher Query to Find Person without Description\n",
      "```cypher\n",
      "MATCH (p:Person)\n",
      "WHERE p.description IS NULL\n",
      "RETURN p.name LIMIT 1\n",
      "```\n",
      "\n",
      "Assuming the query returns \"Zhou Zuoren\" as a person without a description:\n",
      "\n",
      "I want to know more about Zhou Zuoren. TERMINATE.\n",
      "\n",
      "--------------------------------------------------------------------------------\n",
      "\u001b[32m\n",
      "Next speaker: cypher_executor\n",
      "\u001b[0m\n",
      "\u001b[31m\n",
      ">>>>>>>> EXECUTING 4 CODE BLOCKS (inferred languages are [cypher, cypher, cypher, cypher])...\u001b[0m\n"
     ]
    },
    {
     "data": {
      "text/plain": [
       "[]"
      ]
     },
     "execution_count": 5,
     "metadata": {},
     "output_type": "execute_result"
    },
    {
     "data": {
      "text/plain": [
       "[]"
      ]
     },
     "execution_count": 5,
     "metadata": {},
     "output_type": "execute_result"
    },
    {
     "data": {
      "text/plain": [
       "[]"
      ]
     },
     "execution_count": 5,
     "metadata": {},
     "output_type": "execute_result"
    },
    {
     "data": {
      "text/plain": [
       "[{'p.name': 'Zhou Zuoren'}]"
      ]
     },
     "execution_count": 5,
     "metadata": {},
     "output_type": "execute_result"
    },
    {
     "name": "stdout",
     "output_type": "stream",
     "text": [
      "\u001b[33mcypher_executor\u001b[0m (to chat_manager):\n",
      "\n",
      "exitcode: 0 (execution succeeded)\n",
      "Code output: [{'p.name': 'Zhou Zuoren'}]\n",
      "\n",
      "--------------------------------------------------------------------------------\n",
      "\u001b[32m\n",
      "Next speaker: person_expert\n",
      "\u001b[0m\n",
      "[autogen.oai.client: 10-25 07:44:37] {315} WARNING - Model gpt-4o-mini is not found. The cost will be 0. In your config_list, add field {\"price\" : [prompt_price_per_1k, completion_token_price_per_1k]} for customized pricing.\n",
      "\u001b[33mperson_expert\u001b[0m (to chat_manager):\n",
      "\n",
      "Zhou Zuoren was a Chinese writer and translator, born in 1885, and is best known for his contributions to modern Chinese literature and for his relationship with his older brother, Zhou Shuren (Lu Xun). While Lu Xun took a more critical approach to social issues, Zhou Zuoren focused on cultural and folkloric studies, promoting traditional Chinese culture in a modern context. His works include essays and translations, and he played a crucial role in the New Culture Movement, advocating for intellectual freedom and reform alongside his brother.\n",
      "\n",
      "--------------------------------------------------------------------------------\n",
      "\u001b[32m\n",
      "Next speaker: graph_expert\n",
      "\u001b[0m\n",
      "\u001b[31m\n",
      ">>>>>>>> USING AUTO REPLY...\u001b[0m\n",
      "[autogen.oai.client: 10-25 07:44:40] {315} WARNING - Model gpt-4o-mini is not found. The cost will be 0. In your config_list, add field {\"price\" : [prompt_price_per_1k, completion_token_price_per_1k]} for customized pricing.\n",
      "\u001b[33mgraph_expert\u001b[0m (to chat_manager):\n",
      "\n",
      "Let's proceed to add Zhou Zuoren's description to the database and ensure the relationship with Zhou Shuren (Lu Xun) is appropriately noted.\n",
      "\n",
      "### Cypher Queries\n",
      "\n",
      "1. **Update Zhou Zuoren with Description**:\n",
      "   ```cypher\n",
      "   MATCH (zhouZuoren:Person {name: 'Zhou Zuoren'})\n",
      "   SET zhouZuoren.description = 'Zhou Zuoren was a Chinese writer and translator, born in 1885, and is best known for his contributions to modern Chinese literature and for his relationship with his older brother, Zhou Shuren (Lu Xun). While Lu Xun took a more critical approach to social issues, Zhou Zuoren focused on cultural and folkloric studies, promoting traditional Chinese culture in a modern context. His works include essays and translations, and he played a crucial role in the New Culture Movement, advocating for intellectual freedom and reform alongside his brother.'\n",
      "   ```\n",
      "\n",
      "Now both Zhou Shuren (Lu Xun) and Zhou Zuoren have their descriptions updated in the database. If you want to know more about another person or have any further requests, feel free to ask!\n",
      "\n",
      "--------------------------------------------------------------------------------\n",
      "\u001b[32m\n",
      "Next speaker: cypher_executor\n",
      "\u001b[0m\n",
      "\u001b[31m\n",
      ">>>>>>>> EXECUTING CODE BLOCK (inferred language is cypher)...\u001b[0m\n"
     ]
    },
    {
     "data": {
      "text/plain": [
       "[]"
      ]
     },
     "execution_count": 5,
     "metadata": {},
     "output_type": "execute_result"
    },
    {
     "name": "stdout",
     "output_type": "stream",
     "text": [
      "\u001b[33mcypher_executor\u001b[0m (to chat_manager):\n",
      "\n",
      "exitcode: 0 (execution succeeded)\n",
      "Code output: \n",
      "\n",
      "--------------------------------------------------------------------------------\n",
      "\u001b[32m\n",
      "Next speaker: person_expert\n",
      "\u001b[0m\n",
      "[autogen.oai.client: 10-25 07:44:49] {315} WARNING - Model gpt-4o-mini is not found. The cost will be 0. In your config_list, add field {\"price\" : [prompt_price_per_1k, completion_token_price_per_1k]} for customized pricing.\n",
      "\u001b[33mperson_expert\u001b[0m (to chat_manager):\n",
      "\n",
      "Both Zhou Shuren (Lu Xun) and Zhou Zuoren have been successfully added to the database with their descriptions updated. If you have any further inquiries about other individuals or tasks, please let me know!\n",
      "\n",
      "--------------------------------------------------------------------------------\n",
      "\u001b[32m\n",
      "Next speaker: graph_expert\n",
      "\u001b[0m\n",
      "\u001b[31m\n",
      ">>>>>>>> USING AUTO REPLY...\u001b[0m\n",
      "[autogen.oai.client: 10-25 07:44:54] {315} WARNING - Model gpt-4o-mini is not found. The cost will be 0. In your config_list, add field {\"price\" : [prompt_price_per_1k, completion_token_price_per_1k]} for customized pricing.\n",
      "\u001b[33mgraph_expert\u001b[0m (to chat_manager):\n",
      "\n",
      "I want to know more about another individual in the database who might not have a description yet. Let's check again for any other person without a description.\n",
      "\n",
      "### Cypher Query to Find Another Person without Description:\n",
      "```cypher\n",
      "MATCH (p:Person)\n",
      "WHERE p.description IS NULL\n",
      "RETURN p.name LIMIT 1\n",
      "```\n",
      "\n",
      "Please execute the query to see if any additional persons need descriptions!\n",
      "\n",
      "--------------------------------------------------------------------------------\n",
      "\u001b[32m\n",
      "Next speaker: cypher_executor\n",
      "\u001b[0m\n",
      "\u001b[31m\n",
      ">>>>>>>> EXECUTING CODE BLOCK (inferred language is cypher)...\u001b[0m\n"
     ]
    },
    {
     "data": {
      "text/plain": [
       "[]"
      ]
     },
     "execution_count": 5,
     "metadata": {},
     "output_type": "execute_result"
    },
    {
     "name": "stdout",
     "output_type": "stream",
     "text": [
      "\u001b[33mcypher_executor\u001b[0m (to chat_manager):\n",
      "\n",
      "exitcode: 0 (execution succeeded)\n",
      "Code output: \n",
      "\n",
      "--------------------------------------------------------------------------------\n"
     ]
    },
    {
     "data": {
      "text/plain": [
       "ChatResult(chat_id=None, chat_history=[{'content': 'DATABASE SCHEMA\\n[\\n    {\\n        \"nodes\": [\\n            {\\n                \"name\": \"Person\",\\n                \"indexes\": [],\\n                \"constraints\": [],\\n                \"properties\": [\\n                    \"name\",\\n                    \"description\",\\n                    \"alias\"\\n                ]\\n            }\\n        ],\\n        \"relationships\": [\\n            {\\n                \"name\": \"ASSOCIATE\",\\n                \"node1\": \"Person\",\\n                \"node2\": \"Person\",\\n                \"properties\": [\\n                    null\\n                ]\\n            }\\n        ]\\n    }\\n]\\n\\n\\nTASK\\nI want to know something about Zhou Shuren', 'role': 'assistant'}, {'content': 'Zhou Shuren, better known by his pen name Lu Xun, was a prominent Chinese writer and thinker in the early 20th century. He is often regarded as the father of modern Chinese literature. Lu Xun had significant relationships with contemporaries like Zhou Zuoren, his younger brother, who was also an influential writer. Together, they contributed to the cultural and literary movements of their time, with Lu Xun advocating for social reform through his sharp critiques of traditional society. His works, such as \"A Madman\\'s Diary,\" reflect deep psychological insights and a commitment to change.', 'name': 'person_expert', 'role': 'user'}, {'content': 'Let\\'s start by adding Zhou Shuren (Lu Xun) to the database if he doesn\\'t exist, along with his description. We will also look for Zhou Zuoren and add him as a related person.\\n\\n### Cypher Queries\\n\\n1. **Create or Update Zhou Shuren (Lu Xun)**:\\n   ```cypher\\n   MERGE (luXun:Person {name: \\'Zhou Shuren\\', alias: \\'Lu Xun\\'})\\n   SET luXun.description = \\'Zhou Shuren, better known by his pen name Lu Xun, was a prominent Chinese writer and thinker in the early 20th century. He is often regarded as the father of modern Chinese literature. Lu Xun had significant relationships with contemporaries like Zhou Zuoren, his younger brother, who was also an influential writer. Together, they contributed to the cultural and literary movements of their time, with Lu Xun advocating for social reform through his sharp critiques of traditional society. His works, such as \"A Madman\\\\\\'s Diary,\" reflect deep psychological insights and a commitment to change.\\'\\n   ```\\n\\n2. **Create or Update Zhou Zuoren**:\\n   ```cypher\\n   MERGE (zhouZuoren:Person {name: \\'Zhou Zuoren\\'})\\n   ```\\n\\n3. **Create Relationship Between Lu Xun and Zhou Zuoren**:\\n   ```cypher\\n   MERGE (luXun)-[:ASSOCIATE]->(zhouZuoren)\\n   ```\\n\\nNow I will check for another person in the database who does not have a description yet. Let\\'s see...\\n\\n### Cypher Query to Find Person without Description\\n```cypher\\nMATCH (p:Person)\\nWHERE p.description IS NULL\\nRETURN p.name LIMIT 1\\n```\\n\\nAssuming the query returns \"Zhou Zuoren\" as a person without a description:\\n\\nI want to know more about Zhou Zuoren. TERMINATE.', 'name': 'graph_expert', 'role': 'user'}, {'content': \"exitcode: 0 (execution succeeded)\\nCode output: [{'p.name': 'Zhou Zuoren'}]\", 'name': 'cypher_executor', 'role': 'user'}, {'content': 'Zhou Zuoren was a Chinese writer and translator, born in 1885, and is best known for his contributions to modern Chinese literature and for his relationship with his older brother, Zhou Shuren (Lu Xun). While Lu Xun took a more critical approach to social issues, Zhou Zuoren focused on cultural and folkloric studies, promoting traditional Chinese culture in a modern context. His works include essays and translations, and he played a crucial role in the New Culture Movement, advocating for intellectual freedom and reform alongside his brother.', 'name': 'person_expert', 'role': 'user'}, {'content': \"Let's proceed to add Zhou Zuoren's description to the database and ensure the relationship with Zhou Shuren (Lu Xun) is appropriately noted.\\n\\n### Cypher Queries\\n\\n1. **Update Zhou Zuoren with Description**:\\n   ```cypher\\n   MATCH (zhouZuoren:Person {name: 'Zhou Zuoren'})\\n   SET zhouZuoren.description = 'Zhou Zuoren was a Chinese writer and translator, born in 1885, and is best known for his contributions to modern Chinese literature and for his relationship with his older brother, Zhou Shuren (Lu Xun). While Lu Xun took a more critical approach to social issues, Zhou Zuoren focused on cultural and folkloric studies, promoting traditional Chinese culture in a modern context. His works include essays and translations, and he played a crucial role in the New Culture Movement, advocating for intellectual freedom and reform alongside his brother.'\\n   ```\\n\\nNow both Zhou Shuren (Lu Xun) and Zhou Zuoren have their descriptions updated in the database. If you want to know more about another person or have any further requests, feel free to ask!\", 'name': 'graph_expert', 'role': 'user'}, {'content': 'exitcode: 0 (execution succeeded)\\nCode output: ', 'name': 'cypher_executor', 'role': 'user'}, {'content': 'Both Zhou Shuren (Lu Xun) and Zhou Zuoren have been successfully added to the database with their descriptions updated. If you have any further inquiries about other individuals or tasks, please let me know!', 'name': 'person_expert', 'role': 'user'}, {'content': \"I want to know more about another individual in the database who might not have a description yet. Let's check again for any other person without a description.\\n\\n### Cypher Query to Find Another Person without Description:\\n```cypher\\nMATCH (p:Person)\\nWHERE p.description IS NULL\\nRETURN p.name LIMIT 1\\n```\\n\\nPlease execute the query to see if any additional persons need descriptions!\", 'name': 'graph_expert', 'role': 'user'}, {'content': 'exitcode: 0 (execution succeeded)\\nCode output: ', 'name': 'cypher_executor', 'role': 'user'}], summary='exitcode: 0 (execution succeeded)\\nCode output: ', cost={'usage_including_cached_inference': {'total_cost': 0}, 'usage_excluding_cached_inference': {'total_cost': 0}}, human_input=[])"
      ]
     },
     "execution_count": 5,
     "metadata": {},
     "output_type": "execute_result"
    }
   ],
   "source": [
    "ret.initiate_chat(\n",
    "    manager,\n",
    "    message=ret.message_generator,\n",
    "    problem=PROBLEM,\n",
    "    max_turns=2)"
   ]
  }
 ],
 "metadata": {
  "kernelspec": {
   "display_name": "base",
   "language": "python",
   "name": "python3"
  },
  "language_info": {
   "codemirror_mode": {
    "name": "ipython",
    "version": 3
   },
   "file_extension": ".py",
   "mimetype": "text/x-python",
   "name": "python",
   "nbconvert_exporter": "python",
   "pygments_lexer": "ipython3",
   "version": "3.11.9"
  }
 },
 "nbformat": 4,
 "nbformat_minor": 5
}
