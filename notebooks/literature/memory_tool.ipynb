{
 "cells": [
  {
   "cell_type": "markdown",
   "id": "908494f7-6a00-43a8-b17d-8061a45f349d",
   "metadata": {},
   "source": [
    "# LLM agents with memory in neo4j\n"
   ]
  },
  {
   "cell_type": "markdown",
   "id": "e6996e2e-c01c-4bc4-85e4-2ed67e135854",
   "metadata": {},
   "source": [
    "## Prepare the API credential"
   ]
  },
  {
   "cell_type": "code",
   "execution_count": 1,
   "id": "c9ff4e11-079c-4817-9bf7-642769b0e4b6",
   "metadata": {},
   "outputs": [],
   "source": [
    "from autogen import ConversableAgent\n",
    "from autogen import config_list_from_json\n",
    "\n",
    "with open('../openai.credential', 'r') as file:\n",
    "    key = file.read()\n",
    "MODEL = 'gpt-4o-mini'\n",
    "\n",
    "config_list = config_list_from_json(env_or_file=\"../CONFIG_LIST\", filter_dict={\"model\": MODEL})\n",
    "config_list[0][\"api_key\"] = key"
   ]
  },
  {
   "cell_type": "markdown",
   "id": "71b14701",
   "metadata": {},
   "source": [
    "### A cypher executor"
   ]
  },
  {
   "cell_type": "code",
   "execution_count": 2,
   "id": "b40dc390-df09-4791-a87d-517d75dacec5",
   "metadata": {},
   "outputs": [],
   "source": [
    "from tools.CypherExecutor import CypherCodeExecutor\n",
    "\n",
    "cypher_executor = ConversableAgent(\n",
    "    \"cypher_executor\",\n",
    "    human_input_mode= \"NEVER\",\n",
    "    llm_config=False,  # Turn off LLM for this agent.\n",
    "    code_execution_config={\"executor\": CypherCodeExecutor()})"
   ]
  },
  {
   "cell_type": "markdown",
   "id": "906bdf11",
   "metadata": {},
   "source": [
    "### A graph expert"
   ]
  },
  {
   "cell_type": "code",
   "execution_count": 3,
   "id": "691ee968-b9bf-4b2a-9c52-acba6a2ae41b",
   "metadata": {},
   "outputs": [],
   "source": [
    "#TODO: should there something on how to use the schema?\n",
    "graph_expert = ConversableAgent(\n",
    "    \"graph_expert\",\n",
    "    system_message = \"\"\"You are curious about person, and you can use a tool (linked to a graph database) to store the information about the persons you heard. Once you get a description about a person, find the person in the graph database as a node (or create one if it does not exist in the database), and save the description as well. After that, please identify all the other persons mentioned in this description, save them into the graph as nodes, together with the relation between the original person and the other person. Finally, find one person from the graph who does not have a description yet, and say 'I want to know more about <the name of this person>. TERMINATE'. Try not to query the database too often and to do so use cypher format\"\"\",\n",
    "    llm_config = {\"config_list\": config_list},\n",
    "    code_execution_config=False\n",
    ")"
   ]
  },
  {
   "cell_type": "markdown",
   "id": "cdfd657a-9eb7-4fa0-87a9-3b2c04c2412d",
   "metadata": {},
   "source": [
    "### A schema dumper"
   ]
  },
  {
   "cell_type": "code",
   "execution_count": 4,
   "id": "4e40a94d-e683-46af-9a1a-ba4410c21404",
   "metadata": {},
   "outputs": [],
   "source": [
    "from autogen import GroupChat, GroupChatManager\n",
    "from tools.tools import retrieve_content, _reset_agents\n",
    "\n",
    "#TODO: is there a way to have this as a generic function? in tools.tools\n",
    "def state_transition(last_speaker, groupchat):\n",
    "    if \"cypher\" in groupchat.messages[-1][\"content\"]: return cypher_executor\n",
    "    elif last_speaker is person_expert: return graph_expert\n",
    "    else: return person_expert\n",
    "\n",
    "ret = retrieve_content()\n",
    "\n",
    "person_expert = ConversableAgent(\n",
    "    \"person_expert\",\n",
    "    system_message = \"You are a helpful assistant. Once you were asked about a person, reply a short description (<100 words) about this person, including his/her relation with some other persons in the description.\",\n",
    "    llm_config = {\"config_list\": config_list},\n",
    "    #is_termination_msg=lambda msg: \"\" in msg[\"content\"].lower(),\n",
    "    human_input_mode=\"NEVER\",\n",
    ")\n",
    "\n",
    "groupchat = GroupChat(agents=[person_expert, graph_expert, cypher_executor, ret], messages=[],\n",
    "                          max_round=10, speaker_selection_method=state_transition)\n",
    "    \n",
    "manager   = GroupChatManager(groupchat=groupchat, llm_config={\"config_list\": config_list})\n",
    "\n",
    "PROBLEM = \"I want to know something about Zhou Shuren\"\n",
    "\n",
    "_reset_agents(groupchat)"
   ]
  },
  {
   "cell_type": "code",
   "execution_count": 5,
   "id": "15f407d3-38b2-4d4d-a633-a069b5ad0bc1",
   "metadata": {},
   "outputs": [
    {
     "name": "stdout",
     "output_type": "stream",
     "text": [
      "Trying to create collection.\n"
     ]
    },
    {
     "name": "stderr",
     "output_type": "stream",
     "text": [
      "/opt/conda/lib/python3.11/site-packages/sentence_transformers/cross_encoder/CrossEncoder.py:13: TqdmExperimentalWarning: Using `tqdm.autonotebook.tqdm` in notebook mode. Use `tqdm.tqdm` instead to force console mode (e.g. in jupyter console)\n",
      "  from tqdm.autonotebook import tqdm, trange\n",
      "Number of requested results 20 is greater than number of elements in index 1, updating n_results = 1\n"
     ]
    },
    {
     "name": "stdout",
     "output_type": "stream",
     "text": [
      "doc_ids:  [['doc_0']]\n",
      "\u001b[32mAdding content of doc doc_0 to context.\u001b[0m\n",
      "\u001b[33mretriever\u001b[0m (to chat_manager):\n",
      "\n",
      "DATABASE SCHEMA\n",
      "[\n",
      "    {\n",
      "        \"nodes\": [],\n",
      "        \"relationships\": []\n",
      "    }\n",
      "]\n",
      "\n",
      "\n",
      "TASK\n",
      "I want to know something about Zhou Shuren\n",
      "\n",
      "--------------------------------------------------------------------------------\n",
      "\u001b[32m\n",
      "Next speaker: person_expert\n",
      "\u001b[0m\n",
      "[autogen.oai.client: 10-25 08:43:16] {315} WARNING - Model gpt-4o-mini is not found. The cost will be 0. In your config_list, add field {\"price\" : [prompt_price_per_1k, completion_token_price_per_1k]} for customized pricing.\n",
      "\u001b[33mperson_expert\u001b[0m (to chat_manager):\n",
      "\n",
      "Zhou Shuren, better known by his pen name Lu Xun, was a prominent Chinese writer and thinker in the early 20th century. He is celebrated for his critical essays and short stories that explored social issues and the human condition. Lu Xun was also a key figure in the May Fourth Movement, advocating for cultural reform. He was deeply influenced by fellow intellectuals such as Chen Duxiu, and he often commented on the tumultuous relationships within Chinese society during his time. His works remain influential in modern Chinese literature.\n",
      "\n",
      "--------------------------------------------------------------------------------\n",
      "\u001b[32m\n",
      "Next speaker: graph_expert\n",
      "\u001b[0m\n",
      "\u001b[31m\n",
      ">>>>>>>> USING AUTO REPLY...\u001b[0m\n",
      "[autogen.oai.client: 10-25 08:43:22] {315} WARNING - Model gpt-4o-mini is not found. The cost will be 0. In your config_list, add field {\"price\" : [prompt_price_per_1k, completion_token_price_per_1k]} for customized pricing.\n",
      "\u001b[33mgraph_expert\u001b[0m (to chat_manager):\n",
      "\n",
      "```cypher\n",
      "MERGE (zhoushuren:Person {name: \"Zhou Shuren\", pen_name: \"Lu Xun\"})\n",
      "SET zhoushuren.description = \"Zhou Shuren, better known by his pen name Lu Xun, was a prominent Chinese writer and thinker in the early 20th century. He is celebrated for his critical essays and short stories that explored social issues and the human condition. Lu Xun was also a key figure in the May Fourth Movement, advocating for cultural reform. He was deeply influenced by fellow intellectuals such as Chen Duxiu, and he often commented on the tumultuous relationships within Chinese society during his time. His works remain influential in modern Chinese literature.\"\n",
      "\n",
      "MERGE (chenduxiu:Person {name: \"Chen Duxiu\"})\n",
      "MERGE (zhoushuren)-[:INFLUENCED_BY]->(chenduxiu)\n",
      "```\n",
      "\n",
      "I want to know more about Chen Duxiu. TERMINATE\n",
      "\n",
      "--------------------------------------------------------------------------------\n",
      "\u001b[32m\n",
      "Next speaker: cypher_executor\n",
      "\u001b[0m\n",
      "\u001b[31m\n",
      ">>>>>>>> EXECUTING CODE BLOCK (inferred language is cypher)...\u001b[0m\n"
     ]
    },
    {
     "data": {
      "text/plain": [
       "[]"
      ]
     },
     "execution_count": 9,
     "metadata": {},
     "output_type": "execute_result"
    },
    {
     "name": "stdout",
     "output_type": "stream",
     "text": [
      "\u001b[33mcypher_executor\u001b[0m (to chat_manager):\n",
      "\n",
      "exitcode: 0 (execution succeeded)\n",
      "Code output: \n",
      "\n",
      "--------------------------------------------------------------------------------\n",
      "\u001b[32m\n",
      "Next speaker: person_expert\n",
      "\u001b[0m\n",
      "[autogen.oai.client: 10-25 08:43:29] {315} WARNING - Model gpt-4o-mini is not found. The cost will be 0. In your config_list, add field {\"price\" : [prompt_price_per_1k, completion_token_price_per_1k]} for customized pricing.\n",
      "\u001b[33mperson_expert\u001b[0m (to chat_manager):\n",
      "\n",
      "Chen Duxiu was a significant Chinese revolutionary and intellectual leader during the early 20th century, known for his role in the May Fourth Movement. He co-founded the Chinese Communist Party and was a prominent advocate for modernization and democracy in China. Chen was also a key figure in promoting new cultural and literary movements, often emphasizing the need for social reform. His interactions and ideological debates with contemporaries like Lu Xun profoundly shaped modern Chinese thought and literature.\n",
      "\n",
      "--------------------------------------------------------------------------------\n",
      "\u001b[32m\n",
      "Next speaker: graph_expert\n",
      "\u001b[0m\n",
      "\u001b[31m\n",
      ">>>>>>>> USING AUTO REPLY...\u001b[0m\n",
      "[autogen.oai.client: 10-25 08:43:33] {315} WARNING - Model gpt-4o-mini is not found. The cost will be 0. In your config_list, add field {\"price\" : [prompt_price_per_1k, completion_token_price_per_1k]} for customized pricing.\n",
      "\u001b[33mgraph_expert\u001b[0m (to chat_manager):\n",
      "\n",
      "```cypher\n",
      "MERGE (chenduxiu:Person {name: \"Chen Duxiu\"})\n",
      "SET chenduxiu.description = \"Chen Duxiu was a significant Chinese revolutionary and intellectual leader during the early 20th century, known for his role in the May Fourth Movement. He co-founded the Chinese Communist Party and was a prominent advocate for modernization and democracy in China. Chen was also a key figure in promoting new cultural and literary movements, often emphasizing the need for social reform. His interactions and ideological debates with contemporaries like Lu Xun profoundly shaped modern Chinese thought and literature.\"\n",
      "\n",
      "MERGE (zhoushuren:Person {name: \"Zhou Shuren\", pen_name: \"Lu Xun\"})\n",
      "MERGE (chenduxiu)-[:IDEOLOGICAL_DEBATE]->(zhoushuren)\n",
      "```\n",
      "\n",
      "I want to know more about Lu Xun. TERMINATE\n",
      "\n",
      "--------------------------------------------------------------------------------\n",
      "\u001b[32m\n",
      "Next speaker: cypher_executor\n",
      "\u001b[0m\n",
      "\u001b[31m\n",
      ">>>>>>>> EXECUTING CODE BLOCK (inferred language is cypher)...\u001b[0m\n"
     ]
    },
    {
     "data": {
      "text/plain": [
       "[]"
      ]
     },
     "execution_count": 9,
     "metadata": {},
     "output_type": "execute_result"
    },
    {
     "name": "stdout",
     "output_type": "stream",
     "text": [
      "\u001b[33mcypher_executor\u001b[0m (to chat_manager):\n",
      "\n",
      "exitcode: 0 (execution succeeded)\n",
      "Code output: \n",
      "\n",
      "--------------------------------------------------------------------------------\n",
      "\u001b[32m\n",
      "Next speaker: person_expert\n",
      "\u001b[0m\n",
      "[autogen.oai.client: 10-25 08:43:37] {315} WARNING - Model gpt-4o-mini is not found. The cost will be 0. In your config_list, add field {\"price\" : [prompt_price_per_1k, completion_token_price_per_1k]} for customized pricing.\n",
      "\u001b[33mperson_expert\u001b[0m (to chat_manager):\n",
      "\n",
      "Lu Xun, born Zhou Shuren, was an influential Chinese writer and thinker known for his sharp critiques of society and exploration of human psychology. Active during the early 20th century, he challenged traditional norms through his essays and short stories, addressing issues of social injustice and cultural stagnation. Lu Xun was a leading figure in the May Fourth Movement, advocating for national rejuvenation and literary reform. His literary legacy continues to inspire and provoke thought, making him one of the most significant figures in modern Chinese literature.\n",
      "\n",
      "--------------------------------------------------------------------------------\n",
      "\u001b[32m\n",
      "Next speaker: graph_expert\n",
      "\u001b[0m\n",
      "\u001b[31m\n",
      ">>>>>>>> USING AUTO REPLY...\u001b[0m\n",
      "[autogen.oai.client: 10-25 08:43:40] {315} WARNING - Model gpt-4o-mini is not found. The cost will be 0. In your config_list, add field {\"price\" : [prompt_price_per_1k, completion_token_price_per_1k]} for customized pricing.\n",
      "\u001b[33mgraph_expert\u001b[0m (to chat_manager):\n",
      "\n",
      "```cypher\n",
      "MERGE (luxun:Person {name: \"Lu Xun\", birth_name: \"Zhou Shuren\"})\n",
      "SET luxun.description = \"Lu Xun, born Zhou Shuren, was an influential Chinese writer and thinker known for his sharp critiques of society and exploration of human psychology. Active during the early 20th century, he challenged traditional norms through his essays and short stories, addressing issues of social injustice and cultural stagnation. Lu Xun was a leading figure in the May Fourth Movement, advocating for national rejuvenation and literary reform. His literary legacy continues to inspire and provoke thought, making him one of the most significant figures in modern Chinese literature.\"\n",
      "\n",
      "MERGE (zhoushuren:Person {name: \"Zhou Shuren\", pen_name: \"Lu Xun\"})\n",
      "MERGE (luxun)-[:BIRTH_NAME]->(zhoushuren)\n",
      "```\n",
      "\n",
      "I want to know more about the person with the name \"Lu Xun\". TERMINATE\n",
      "\n",
      "--------------------------------------------------------------------------------\n",
      "\u001b[32m\n",
      "Next speaker: cypher_executor\n",
      "\u001b[0m\n",
      "\u001b[31m\n",
      ">>>>>>>> EXECUTING CODE BLOCK (inferred language is cypher)...\u001b[0m\n"
     ]
    },
    {
     "data": {
      "text/plain": [
       "[]"
      ]
     },
     "execution_count": 9,
     "metadata": {},
     "output_type": "execute_result"
    },
    {
     "name": "stdout",
     "output_type": "stream",
     "text": [
      "\u001b[33mcypher_executor\u001b[0m (to chat_manager):\n",
      "\n",
      "exitcode: 0 (execution succeeded)\n",
      "Code output: \n",
      "\n",
      "--------------------------------------------------------------------------------\n"
     ]
    },
    {
     "data": {
      "text/plain": [
       "ChatResult(chat_id=None, chat_history=[{'content': 'DATABASE SCHEMA\\n[\\n    {\\n        \"nodes\": [],\\n        \"relationships\": []\\n    }\\n]\\n\\n\\nTASK\\nI want to know something about Zhou Shuren', 'role': 'assistant'}, {'content': 'Zhou Shuren, better known by his pen name Lu Xun, was a prominent Chinese writer and thinker in the early 20th century. He is celebrated for his critical essays and short stories that explored social issues and the human condition. Lu Xun was also a key figure in the May Fourth Movement, advocating for cultural reform. He was deeply influenced by fellow intellectuals such as Chen Duxiu, and he often commented on the tumultuous relationships within Chinese society during his time. His works remain influential in modern Chinese literature.', 'name': 'person_expert', 'role': 'user'}, {'content': '```cypher\\nMERGE (zhoushuren:Person {name: \"Zhou Shuren\", pen_name: \"Lu Xun\"})\\nSET zhoushuren.description = \"Zhou Shuren, better known by his pen name Lu Xun, was a prominent Chinese writer and thinker in the early 20th century. He is celebrated for his critical essays and short stories that explored social issues and the human condition. Lu Xun was also a key figure in the May Fourth Movement, advocating for cultural reform. He was deeply influenced by fellow intellectuals such as Chen Duxiu, and he often commented on the tumultuous relationships within Chinese society during his time. His works remain influential in modern Chinese literature.\"\\n\\nMERGE (chenduxiu:Person {name: \"Chen Duxiu\"})\\nMERGE (zhoushuren)-[:INFLUENCED_BY]->(chenduxiu)\\n```\\n\\nI want to know more about Chen Duxiu. TERMINATE', 'name': 'graph_expert', 'role': 'user'}, {'content': 'exitcode: 0 (execution succeeded)\\nCode output: ', 'name': 'cypher_executor', 'role': 'user'}, {'content': 'Chen Duxiu was a significant Chinese revolutionary and intellectual leader during the early 20th century, known for his role in the May Fourth Movement. He co-founded the Chinese Communist Party and was a prominent advocate for modernization and democracy in China. Chen was also a key figure in promoting new cultural and literary movements, often emphasizing the need for social reform. His interactions and ideological debates with contemporaries like Lu Xun profoundly shaped modern Chinese thought and literature.', 'name': 'person_expert', 'role': 'user'}, {'content': '```cypher\\nMERGE (chenduxiu:Person {name: \"Chen Duxiu\"})\\nSET chenduxiu.description = \"Chen Duxiu was a significant Chinese revolutionary and intellectual leader during the early 20th century, known for his role in the May Fourth Movement. He co-founded the Chinese Communist Party and was a prominent advocate for modernization and democracy in China. Chen was also a key figure in promoting new cultural and literary movements, often emphasizing the need for social reform. His interactions and ideological debates with contemporaries like Lu Xun profoundly shaped modern Chinese thought and literature.\"\\n\\nMERGE (zhoushuren:Person {name: \"Zhou Shuren\", pen_name: \"Lu Xun\"})\\nMERGE (chenduxiu)-[:IDEOLOGICAL_DEBATE]->(zhoushuren)\\n```\\n\\nI want to know more about Lu Xun. TERMINATE', 'name': 'graph_expert', 'role': 'user'}, {'content': 'exitcode: 0 (execution succeeded)\\nCode output: ', 'name': 'cypher_executor', 'role': 'user'}, {'content': 'Lu Xun, born Zhou Shuren, was an influential Chinese writer and thinker known for his sharp critiques of society and exploration of human psychology. Active during the early 20th century, he challenged traditional norms through his essays and short stories, addressing issues of social injustice and cultural stagnation. Lu Xun was a leading figure in the May Fourth Movement, advocating for national rejuvenation and literary reform. His literary legacy continues to inspire and provoke thought, making him one of the most significant figures in modern Chinese literature.', 'name': 'person_expert', 'role': 'user'}, {'content': '```cypher\\nMERGE (luxun:Person {name: \"Lu Xun\", birth_name: \"Zhou Shuren\"})\\nSET luxun.description = \"Lu Xun, born Zhou Shuren, was an influential Chinese writer and thinker known for his sharp critiques of society and exploration of human psychology. Active during the early 20th century, he challenged traditional norms through his essays and short stories, addressing issues of social injustice and cultural stagnation. Lu Xun was a leading figure in the May Fourth Movement, advocating for national rejuvenation and literary reform. His literary legacy continues to inspire and provoke thought, making him one of the most significant figures in modern Chinese literature.\"\\n\\nMERGE (zhoushuren:Person {name: \"Zhou Shuren\", pen_name: \"Lu Xun\"})\\nMERGE (luxun)-[:BIRTH_NAME]->(zhoushuren)\\n```\\n\\nI want to know more about the person with the name \"Lu Xun\". TERMINATE', 'name': 'graph_expert', 'role': 'user'}, {'content': 'exitcode: 0 (execution succeeded)\\nCode output: ', 'name': 'cypher_executor', 'role': 'user'}], summary='exitcode: 0 (execution succeeded)\\nCode output: ', cost={'usage_including_cached_inference': {'total_cost': 0}, 'usage_excluding_cached_inference': {'total_cost': 0}}, human_input=[])"
      ]
     },
     "execution_count": 9,
     "metadata": {},
     "output_type": "execute_result"
    }
   ],
   "source": [
    "ret.initiate_chat(\n",
    "    manager,\n",
    "    message=ret.message_generator,\n",
    "    problem=PROBLEM,\n",
    "    max_turns=2)"
   ]
  }
 ],
 "metadata": {
  "kernelspec": {
   "display_name": "base",
   "language": "python",
   "name": "python3"
  },
  "language_info": {
   "codemirror_mode": {
    "name": "ipython",
    "version": 3
   },
   "file_extension": ".py",
   "mimetype": "text/x-python",
   "name": "python",
   "nbconvert_exporter": "python",
   "pygments_lexer": "ipython3",
   "version": "3.11.9"
  }
 },
 "nbformat": 4,
 "nbformat_minor": 5
}
