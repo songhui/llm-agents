{
 "cells": [
  {
   "cell_type": "markdown",
   "id": "52197759-12a6-4b77-9136-46fa6b65e1fe",
   "metadata": {},
   "source": [
    "# A simple chatbot agent"
   ]
  },
  {
   "cell_type": "markdown",
   "id": "672e980c-3aa3-4c5b-be86-fdd8d99ae070",
   "metadata": {},
   "source": [
    "## Prepare the environment"
   ]
  },
  {
   "cell_type": "code",
   "execution_count": 1,
   "id": "c9ff4e11-079c-4817-9bf7-642769b0e4b6",
   "metadata": {},
   "outputs": [],
   "source": [
    "from autogen import ConversableAgent\n",
    "\n",
    "with open('../openai.credential', 'r') as file:\n",
    "    key = file.read()\n",
    "MODEL = 'gpt-4o'"
   ]
  },
  {
   "cell_type": "markdown",
   "id": "21d92c90-69e1-4dba-8a28-d3575b6dbdf4",
   "metadata": {},
   "source": [
    "## Human proxy"
   ]
  },
  {
   "cell_type": "code",
   "execution_count": 2,
   "id": "cdfd657a-9eb7-4fa0-87a9-3b2c04c2412d",
   "metadata": {},
   "outputs": [],
   "source": [
    "human_proxy = ConversableAgent(\n",
    "    \"human_proxy\",\n",
    "    llm_config=False,  # Turn off LLM for this agent.\n",
    "    code_execution_config=False, #No code executor\n",
    "    human_input_mode=\"ALWAYS\",  # Always take human input for this agent for safety.\n",
    "    is_termination_msg=lambda msg: \"terminate\" in msg[\"content\"].lower(),\n",
    ")"
   ]
  },
  {
   "cell_type": "markdown",
   "id": "648d130c-3018-45e2-9087-9283eab064bd",
   "metadata": {},
   "source": [
    "## Chatbot"
   ]
  },
  {
   "cell_type": "code",
   "execution_count": 3,
   "id": "e9338485-9ca3-44b6-9540-e60d2f8782f9",
   "metadata": {},
   "outputs": [
    {
     "name": "stderr",
     "output_type": "stream",
     "text": [
      "OpenAI client config of GPTAssistantAgent(oai_agent) - model: gpt-4o\n",
      "Matching assistant found, using the first matching assistant: {'id': 'asst_aCqErEZkxjBQEIbgnryKDdLf', 'created_at': 1724793769, 'description': None, 'instructions': \"I'm an openai assistant running in autogen\", 'metadata': {}, 'model': 'gpt-4o', 'name': 'oai_agent', 'object': 'assistant', 'tools': [FileSearchTool(type='file_search', file_search=FileSearch(max_num_results=None))], 'response_format': 'auto', 'temperature': 1.0, 'tool_resources': ToolResources(code_interpreter=None, file_search=ToolResourcesFileSearch(vector_store_ids=['vs_M0J7bciC2QcZrncw4KT8QOY2'])), 'top_p': 1.0}\n"
     ]
    }
   ],
   "source": [
    "# chatbot_system_message = \"You are a helpful assistant\"\n",
    "\n",
    "# chatbot = ConversableAgent(\n",
    "#     \"chatbot_agent\",\n",
    "#     system_message = chatbot_system_message,\n",
    "#     llm_config = {\"config_list\": [{\"model\": MODEL, \"api_key\": key}]},\n",
    "#     code_execution_config=False,  # Turn off code execution for this agent.\n",
    "# )\n",
    "\n",
    "from autogen.agentchat.contrib.gpt_assistant_agent import GPTAssistantAgent\n",
    "\n",
    "assistant_id = \"asst_wswkhDyWDsi0jtDXfuKRfI7Z\"\n",
    "\n",
    "assistant_config = {\n",
    "    \"tools\": [\n",
    "        {\"type\": \"file_search\"},\n",
    "    ],\n",
    "    \"tool_resources\": {\n",
    "        \"file_search\": {\n",
    "            \"vector_store_ids\": [\"vs_M0J7bciC2QcZrncw4KT8QOY2\"]\n",
    "        }\n",
    "    }\n",
    "}\n",
    "\n",
    "oai_agent = GPTAssistantAgent(\n",
    "    name=\"oai_agent\",\n",
    "    instructions=\"I'm an openai assistant running in autogen\",\n",
    "    llm_config={\"config_list\": [{\"model\": MODEL, \"api_key\": key}]},\n",
    "    assistant_config=assistant_config,\n",
    ")"
   ]
  },
  {
   "cell_type": "markdown",
   "id": "900991d4-12d5-41d5-9d19-486ff5dd9386",
   "metadata": {},
   "source": [
    "### Now we start\n"
   ]
  },
  {
   "cell_type": "code",
   "execution_count": 4,
   "id": "042c02b5-36d3-4c6e-8526-51f4c102eb33",
   "metadata": {},
   "outputs": [
    {
     "name": "stdout",
     "output_type": "stream",
     "text": [
      "\u001b[33moai_agent\u001b[0m (to human_proxy):\n",
      "\n",
      "May I help you?\n",
      "\n",
      "--------------------------------------------------------------------------------\n",
      "\u001b[33mhuman_proxy\u001b[0m (to oai_agent):\n",
      "\n",
      "can you give me the title of citation number 12, and the sentence in the main text where it is first cited\n",
      "\n",
      "--------------------------------------------------------------------------------\n"
     ]
    },
    {
     "name": "stderr",
     "output_type": "stream",
     "text": [
      "Error retrieving file citation: 'FileCitation' object has no attribute 'quote'\n",
      "Error retrieving file citation: 'FileCitation' object has no attribute 'quote'\n"
     ]
    },
    {
     "name": "stdout",
     "output_type": "stream",
     "text": [
      "\u001b[33moai_agent\u001b[0m (to human_proxy):\n",
      "\n",
      "The title of citation number 12 is **\"Quantifying memory CD8 T cells reveals regionalization of immunosurveillance\"** by E. M. Steinert et al., published in Cell in 2015.\n",
      "\n",
      "The first occurrence of citation number 12 in the main text is:\n",
      "\n",
      "> \"CD69 and CD103 are commonly used as markers for tissue residency. IELs expressing CD69 and CD103 are present in barrier tissues, such as the skin, intestine, and lung (17, 18, 44). CD103+CD69+CD8+ T cells have also been reported to be present in the liver (8, 45).\"\n",
      "\n",
      " [0] [1].\n",
      "\n",
      "\n",
      "--------------------------------------------------------------------------------\n",
      "\u001b[33mhuman_proxy\u001b[0m (to oai_agent):\n",
      "\n",
      "can you list some more sentences that citated this same number 18?\n",
      "\n",
      "--------------------------------------------------------------------------------\n"
     ]
    },
    {
     "name": "stderr",
     "output_type": "stream",
     "text": [
      "Error retrieving file citation: 'FileCitation' object has no attribute 'quote'\n",
      "Error retrieving file citation: 'FileCitation' object has no attribute 'quote'\n",
      "Error retrieving file citation: 'FileCitation' object has no attribute 'quote'\n"
     ]
    },
    {
     "name": "stdout",
     "output_type": "stream",
     "text": [
      "\u001b[33moai_agent\u001b[0m (to human_proxy):\n",
      "\n",
      "Here are some sentences from the text that cite citation number 18:\n",
      "\n",
      "1. \"CD69 and CD103 are commonly used as markers for tissue residency. IELs expressing CD69 and CD103 are present in barrier tissues, such as the skin, intestine, and lung (17, 18, 44).\" [0] [1]\n",
      "\n",
      "2. \"A feature of IELs, well established in mice, is the expression of CD8αα as opposed to CD8αβ, which is characteristic of conventional CD8+ T cells (18, 30).\" [2]\n",
      "\n",
      "\n",
      "--------------------------------------------------------------------------------\n",
      "\u001b[33mhuman_proxy\u001b[0m (to oai_agent):\n",
      "\n",
      "escape\n",
      "\n",
      "--------------------------------------------------------------------------------\n"
     ]
    },
    {
     "name": "stderr",
     "output_type": "stream",
     "text": [
      "Error retrieving file citation: 'FileCitation' object has no attribute 'quote'\n",
      "Error retrieving file citation: 'FileCitation' object has no attribute 'quote'\n",
      "Error retrieving file citation: 'FileCitation' object has no attribute 'quote'\n"
     ]
    },
    {
     "name": "stdout",
     "output_type": "stream",
     "text": [
      "\u001b[33moai_agent\u001b[0m (to human_proxy):\n",
      "\n",
      "Here are some sentences from the text mentioning citation number 18:\n",
      "\n",
      "1. \"CD69 and CD103 are commonly used as markers for tissue residency. IELs expressing CD69 and CD103 are present in barrier tissues, such as the skin, intestine, and lung (17, 18, 44).\" [0] [1]\n",
      "\n",
      "2. \"A feature of IELs, well established in mice, is the expression of CD8αα as opposed to CD8αβ, which is characteristic of conventional CD8+ T cells (18, 30).\" [2]\n",
      "\n",
      "Is there anything else I can help you with concerning this document?\n",
      "\n",
      "\n",
      "--------------------------------------------------------------------------------\n"
     ]
    }
   ],
   "source": [
    "chat_result = oai_agent.initiate_chat(\n",
    "    human_proxy,\n",
    "    message=\"May I help you?\"\n",
    ")\n"
   ]
  },
  {
   "cell_type": "markdown",
   "id": "3d6659ca-031a-40a6-93b2-3d596ca27ed7",
   "metadata": {},
   "source": [
    "## Excise\n",
    "1. Try another topic to begin the dialog\n",
    "2. Create another chatbot with a different initial setting, e.g., a poet who always reply with poems (how?)"
   ]
  }
 ],
 "metadata": {
  "kernelspec": {
   "display_name": "Python 3 (ipykernel)",
   "language": "python",
   "name": "python3"
  },
  "language_info": {
   "codemirror_mode": {
    "name": "ipython",
    "version": 3
   },
   "file_extension": ".py",
   "mimetype": "text/x-python",
   "name": "python",
   "nbconvert_exporter": "python",
   "pygments_lexer": "ipython3",
   "version": "3.11.9"
  }
 },
 "nbformat": 4,
 "nbformat_minor": 5
}
