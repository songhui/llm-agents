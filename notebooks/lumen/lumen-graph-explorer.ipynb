{
 "cells": [
  {
   "cell_type": "markdown",
   "id": "908494f7-6a00-43a8-b17d-8061a45f349d",
   "metadata": {},
   "source": [
    "# LLM agents for literature review\n",
    "Get information about scientific papers and their citations, and check if they are relevant to the PSC disease"
   ]
  },
  {
   "cell_type": "markdown",
   "id": "e6996e2e-c01c-4bc4-85e4-2ed67e135854",
   "metadata": {},
   "source": [
    "## Import libaries and prepare the API credential"
   ]
  },
  {
   "cell_type": "code",
   "execution_count": 22,
   "id": "d76b9ceb",
   "metadata": {},
   "outputs": [],
   "source": []
  },
  {
   "cell_type": "code",
   "execution_count": 1,
   "id": "4d301400",
   "metadata": {
    "vscode": {
     "languageId": "bat"
    }
   },
   "outputs": [
    {
     "name": "stdout",
     "output_type": "stream",
     "text": [
      "Requirement already satisfied: pyautogen==0.3.1 in /opt/conda/lib/python3.11/site-packages (0.3.1)\n",
      "Requirement already satisfied: diskcache in /opt/conda/lib/python3.11/site-packages (from pyautogen==0.3.1) (5.6.3)\n",
      "Requirement already satisfied: docker in /opt/conda/lib/python3.11/site-packages (from pyautogen==0.3.1) (7.1.0)\n",
      "Requirement already satisfied: flaml in /opt/conda/lib/python3.11/site-packages (from pyautogen==0.3.1) (2.3.4)\n",
      "Requirement already satisfied: numpy<2,>=1.17.0 in /opt/conda/lib/python3.11/site-packages (from pyautogen==0.3.1) (1.26.4)\n",
      "Requirement already satisfied: openai>=1.3 in /opt/conda/lib/python3.11/site-packages (from pyautogen==0.3.1) (1.63.2)\n",
      "Requirement already satisfied: packaging in /opt/conda/lib/python3.11/site-packages (from pyautogen==0.3.1) (24.0)\n",
      "Requirement already satisfied: pydantic!=2.6.0,<3,>=1.10 in /opt/conda/lib/python3.11/site-packages (from pyautogen==0.3.1) (2.7.1)\n",
      "Requirement already satisfied: python-dotenv in /opt/conda/lib/python3.11/site-packages (from pyautogen==0.3.1) (1.0.1)\n",
      "Requirement already satisfied: termcolor in /opt/conda/lib/python3.11/site-packages (from pyautogen==0.3.1) (2.5.0)\n",
      "Requirement already satisfied: tiktoken in /opt/conda/lib/python3.11/site-packages (from pyautogen==0.3.1) (0.9.0)\n",
      "Requirement already satisfied: anyio<5,>=3.5.0 in /opt/conda/lib/python3.11/site-packages (from openai>=1.3->pyautogen==0.3.1) (4.3.0)\n",
      "Requirement already satisfied: distro<2,>=1.7.0 in /opt/conda/lib/python3.11/site-packages (from openai>=1.3->pyautogen==0.3.1) (1.9.0)\n",
      "Requirement already satisfied: httpx<1,>=0.23.0 in /opt/conda/lib/python3.11/site-packages (from openai>=1.3->pyautogen==0.3.1) (0.27.0)\n",
      "Requirement already satisfied: jiter<1,>=0.4.0 in /opt/conda/lib/python3.11/site-packages (from openai>=1.3->pyautogen==0.3.1) (0.8.2)\n",
      "Requirement already satisfied: sniffio in /opt/conda/lib/python3.11/site-packages (from openai>=1.3->pyautogen==0.3.1) (1.3.1)\n",
      "Requirement already satisfied: tqdm>4 in /opt/conda/lib/python3.11/site-packages (from openai>=1.3->pyautogen==0.3.1) (4.66.4)\n",
      "Requirement already satisfied: typing-extensions<5,>=4.11 in /opt/conda/lib/python3.11/site-packages (from openai>=1.3->pyautogen==0.3.1) (4.11.0)\n",
      "Requirement already satisfied: annotated-types>=0.4.0 in /opt/conda/lib/python3.11/site-packages (from pydantic!=2.6.0,<3,>=1.10->pyautogen==0.3.1) (0.7.0)\n",
      "Requirement already satisfied: pydantic-core==2.18.2 in /opt/conda/lib/python3.11/site-packages (from pydantic!=2.6.0,<3,>=1.10->pyautogen==0.3.1) (2.18.2)\n",
      "Requirement already satisfied: requests>=2.26.0 in /opt/conda/lib/python3.11/site-packages (from docker->pyautogen==0.3.1) (2.32.2)\n",
      "Requirement already satisfied: urllib3>=1.26.0 in /opt/conda/lib/python3.11/site-packages (from docker->pyautogen==0.3.1) (2.2.1)\n",
      "Requirement already satisfied: regex>=2022.1.18 in /opt/conda/lib/python3.11/site-packages (from tiktoken->pyautogen==0.3.1) (2024.11.6)\n",
      "Requirement already satisfied: idna>=2.8 in /opt/conda/lib/python3.11/site-packages (from anyio<5,>=3.5.0->openai>=1.3->pyautogen==0.3.1) (3.7)\n",
      "Requirement already satisfied: certifi in /opt/conda/lib/python3.11/site-packages (from httpx<1,>=0.23.0->openai>=1.3->pyautogen==0.3.1) (2024.2.2)\n",
      "Requirement already satisfied: httpcore==1.* in /opt/conda/lib/python3.11/site-packages (from httpx<1,>=0.23.0->openai>=1.3->pyautogen==0.3.1) (1.0.5)\n",
      "Requirement already satisfied: h11<0.15,>=0.13 in /opt/conda/lib/python3.11/site-packages (from httpcore==1.*->httpx<1,>=0.23.0->openai>=1.3->pyautogen==0.3.1) (0.14.0)\n",
      "Requirement already satisfied: charset-normalizer<4,>=2 in /opt/conda/lib/python3.11/site-packages (from requests>=2.26.0->docker->pyautogen==0.3.1) (3.3.2)\n",
      "Note: you may need to restart the kernel to use updated packages.\n"
     ]
    }
   ],
   "source": [
    "pip install pyautogen==0.3.1"
   ]
  },
  {
   "cell_type": "code",
   "execution_count": 2,
   "id": "94b7b00a",
   "metadata": {
    "vscode": {
     "languageId": "bat"
    }
   },
   "outputs": [
    {
     "name": "stdout",
     "output_type": "stream",
     "text": [
      "Requirement already satisfied: neo4j in /opt/conda/lib/python3.11/site-packages (5.28.1)\n",
      "Requirement already satisfied: pytz in /opt/conda/lib/python3.11/site-packages (from neo4j) (2024.1)\n",
      "Note: you may need to restart the kernel to use updated packages.\n"
     ]
    }
   ],
   "source": [
    "pip install neo4j"
   ]
  },
  {
   "cell_type": "markdown",
   "id": "830899a8",
   "metadata": {
    "vscode": {
     "languageId": "bat"
    }
   },
   "source": [
    "\n",
    "> Feature 1 Snowballing"
   ]
  },
  {
   "cell_type": "code",
   "execution_count": 3,
   "id": "c9ff4e11-079c-4817-9bf7-642769b0e4b6",
   "metadata": {},
   "outputs": [
    {
     "name": "stderr",
     "output_type": "stream",
     "text": [
      "/opt/conda/lib/python3.11/site-packages/flaml/__init__.py:20: UserWarning: flaml.automl is not available. Please install flaml[automl] to enable AutoML functionalities.\n",
      "  warnings.warn(\"flaml.automl is not available. Please install flaml[automl] to enable AutoML functionalities.\")\n"
     ]
    }
   ],
   "source": [
    "\n",
    "\n",
    "from autogen import ConversableAgent, register_function, GroupChatManager, GroupChat\n",
    "from autogen.coding import LocalCommandLineCodeExecutor\n",
    "\n",
    "with open('openai.credential', 'r') as file:\n",
    "    key = file.read()\n",
    "\n",
    "MODEL = 'gpt-4o'\n",
    "\n",
    "# Decide if there is human interaction or not\n",
    "DEBUG_MODE = False\n"
   ]
  },
  {
   "cell_type": "code",
   "execution_count": 4,
   "id": "dfa32041",
   "metadata": {},
   "outputs": [],
   "source": [
    "from neo4j import GraphDatabase\n",
    "\n",
    "gdb = GraphDatabase.driver('neo4j://neo4j-lumen', auth = (\"neo4j\", \"llm-agents\"))\n",
    "gdb.verify_connectivity()\n",
    "\n",
    "def query_neo4j(query:str)->str:\n",
    "\n",
    "    try:\n",
    "        records, summary, keys = gdb.execute_query(query)\n",
    "        return repr(records)\n",
    "    except Exception as e:\n",
    "        return repr(e) \n",
    "    \n",
    "\n",
    "graph_tool_executor = ConversableAgent(\n",
    "    \"graph_tool_executor\",\n",
    "    llm_config=False,  # Turn off LLM for this agent.\n",
    "    code_execution_config=False,\n",
    "    human_input_mode= \"ALWAYS\" if DEBUG_MODE else \"NEVER\",\n",
    "    is_termination_msg=lambda msg: (msg[\"content\"]) and (\"terminate\" in msg[\"content\"].lower())\n",
    ")\n",
    "\n",
    "graph_tool_driver = ConversableAgent(\n",
    "    \"graph_tool_driver\",\n",
    "    system_message = \"You have connection to a Neo4j Graph Database, and you can answer questions by querying the database. To do so, you need to generate Cypher queries and use a registered tool to execute the query and retrive the knowledge you need from the graph.\"\n",
    "    \"The graph has the following schema:\"\n",
    "    \"An ASSEST has properties name, layer, ip and description.\"\n",
    "    \"An ASSET can DestributesTo or ConnectTo another ASSET.\"\n",
    "    \"A DATASOURCE has properties name, type, format, bucket, and endpoint, and is DataSourceOf an ASSET\"\n",
    "    \"A STATICDATA has properties name, type, file_name, add_date, format, and is DataOf an ASSET\"\n",
    "    \"be careful about the functions of the relationships, i.e., DATASOURCE-[:DataSourceOf]->ASSET, and STATICDATA-[:DataOf]->[ASSET]\",\n",
    "    llm_config = {\"config_list\": [{\"model\": MODEL, \"api_key\": key}]},\n",
    "    code_execution_config=False,\n",
    "    human_input_mode= \"ALWAYS\" if DEBUG_MODE else \"NEVER\"\n",
    ")\n",
    "\n",
    "register_function(\n",
    "    query_neo4j,\n",
    "    caller = graph_tool_driver,\n",
    "    executor = graph_tool_executor,\n",
    "    description = \"Query or modify the neo4j graph database. The input is a cypher query, and the output is a list of records returned from the query.\"\n",
    ")\n",
    "\n",
    "nested_chats = [\n",
    "    {\n",
    "        \"recipient\": graph_tool_driver,\n",
    "        \"max_turns\": 4,\n",
    "        \"summary_method\": \"last_msg\"\n",
    "    }\n",
    "]\n",
    "\n",
    "graph_tool_executor.register_nested_chats(\n",
    "    nested_chats, \n",
    "    trigger = lambda sender: sender not in [graph_tool_driver]\n",
    ")"
   ]
  },
  {
   "cell_type": "markdown",
   "id": "e6c75067",
   "metadata": {},
   "source": [
    "### Human interface agent\n",
    "\n",
    "> Feature 3: a human chat interface"
   ]
  },
  {
   "cell_type": "code",
   "execution_count": 5,
   "id": "93ec8a28",
   "metadata": {},
   "outputs": [],
   "source": [
    "human_proxy = ConversableAgent(\n",
    "    \"human_proxy\",\n",
    "    llm_config=False,  # Turn off LLM for this agent.\n",
    "    code_execution_config=False,\n",
    "    human_input_mode= \"ALWAYS\"\n",
    ")"
   ]
  },
  {
   "cell_type": "markdown",
   "id": "e859f063",
   "metadata": {},
   "source": [
    "## Feature 5: Chatbot for reading the paper graph"
   ]
  },
  {
   "cell_type": "code",
   "execution_count": 6,
   "id": "65613356",
   "metadata": {},
   "outputs": [],
   "source": [
    "def start_chat():\n",
    "    chat_result = graph_tool_executor.initiate_chat(\n",
    "        human_proxy,\n",
    "        message=\"Tell me what you want to know about the data graph?\"\n",
    "    )"
   ]
  },
  {
   "cell_type": "code",
   "execution_count": 7,
   "id": "b64bfa67",
   "metadata": {},
   "outputs": [
    {
     "name": "stdout",
     "output_type": "stream",
     "text": [
      "\u001b[33mgraph_tool_executor\u001b[0m (to human_proxy):\n",
      "\n",
      "Tell me what you want to know about the data graph?\n",
      "\n",
      "--------------------------------------------------------------------------------\n",
      "\u001b[33mhuman_proxy\u001b[0m (to graph_tool_executor):\n",
      "\n",
      "what is the endpoint to access the datasource of asset CSMS?\n",
      "\n",
      "--------------------------------------------------------------------------------\n",
      "\u001b[34m\n",
      "********************************************************************************\u001b[0m\n",
      "\u001b[34mStarting a new chat....\u001b[0m\n",
      "\u001b[34m\n",
      "********************************************************************************\u001b[0m\n",
      "\u001b[33mgraph_tool_executor\u001b[0m (to graph_tool_driver):\n",
      "\n",
      "what is the endpoint to access the datasource of asset CSMS?\n",
      "\n",
      "--------------------------------------------------------------------------------\n",
      "\u001b[33mgraph_tool_driver\u001b[0m (to graph_tool_executor):\n",
      "\n",
      "\u001b[32m***** Suggested tool call (call_c7OnxWwtA2w2ddKfpKhvT1d2): query_neo4j *****\u001b[0m\n",
      "Arguments: \n",
      "{\"query\":\"MATCH (a:ASSET {name: 'CSMS'})<-[:DataSourceOf]-(d:DATASOURCE) RETURN d.endpoint\"}\n",
      "\u001b[32m****************************************************************************\u001b[0m\n",
      "\n",
      "--------------------------------------------------------------------------------\n",
      "\u001b[35m\n",
      ">>>>>>>> EXECUTING FUNCTION query_neo4j...\u001b[0m\n",
      "\u001b[33mgraph_tool_executor\u001b[0m (to graph_tool_driver):\n",
      "\n",
      "\u001b[33mgraph_tool_executor\u001b[0m (to graph_tool_driver):\n",
      "\n",
      "\u001b[32m***** Response from calling tool (call_c7OnxWwtA2w2ddKfpKhvT1d2) *****\u001b[0m\n",
      "[<Record d.endpoint='UC1.csms.metricbeat'>]\n",
      "\u001b[32m**********************************************************************\u001b[0m\n",
      "\n",
      "--------------------------------------------------------------------------------\n",
      "\u001b[33mgraph_tool_driver\u001b[0m (to graph_tool_executor):\n",
      "\n",
      "The endpoint to access the datasource of the asset CSMS is `UC1.csms.metricbeat`.\n",
      "\n",
      "--------------------------------------------------------------------------------\n",
      "\u001b[33mgraph_tool_executor\u001b[0m (to graph_tool_driver):\n",
      "\n",
      "\n",
      "\n",
      "--------------------------------------------------------------------------------\n",
      "\u001b[33mgraph_tool_driver\u001b[0m (to graph_tool_executor):\n",
      "\n",
      "Is there anything else you would like to know?\n",
      "\n",
      "--------------------------------------------------------------------------------\n",
      "\u001b[33mgraph_tool_executor\u001b[0m (to graph_tool_driver):\n",
      "\n",
      "\n",
      "\n",
      "--------------------------------------------------------------------------------\n",
      "\u001b[33mgraph_tool_driver\u001b[0m (to graph_tool_executor):\n",
      "\n",
      "Please feel free to ask any other questions you might have!\n",
      "\n",
      "--------------------------------------------------------------------------------\n",
      "\u001b[33mgraph_tool_executor\u001b[0m (to human_proxy):\n",
      "\n",
      "Please feel free to ask any other questions you might have!\n",
      "\n",
      "--------------------------------------------------------------------------------\n"
     ]
    }
   ],
   "source": [
    "\n",
    "start_chat()\n"
   ]
  }
 ],
 "metadata": {
  "kernelspec": {
   "display_name": "base",
   "language": "python",
   "name": "python3"
  },
  "language_info": {
   "codemirror_mode": {
    "name": "ipython",
    "version": 3
   },
   "file_extension": ".py",
   "mimetype": "text/x-python",
   "name": "python",
   "nbconvert_exporter": "python",
   "pygments_lexer": "ipython3",
   "version": "3.11.9"
  }
 },
 "nbformat": 4,
 "nbformat_minor": 5
}
