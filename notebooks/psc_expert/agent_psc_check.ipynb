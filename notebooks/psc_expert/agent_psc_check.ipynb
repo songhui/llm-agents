{
 "cells": [
  {
   "cell_type": "markdown",
   "id": "52197759-12a6-4b77-9136-46fa6b65e1fe",
   "metadata": {},
   "source": [
    "# A simple chatbot agent"
   ]
  },
  {
   "cell_type": "markdown",
   "id": "672e980c-3aa3-4c5b-be86-fdd8d99ae070",
   "metadata": {},
   "source": [
    "## Prepare the environment"
   ]
  },
  {
   "cell_type": "code",
   "execution_count": 1,
   "id": "5f3297b4",
   "metadata": {},
   "outputs": [
    {
     "name": "stdout",
     "output_type": "stream",
     "text": [
      "Requirement already satisfied: pyautogen in /opt/conda/lib/python3.11/site-packages (0.2.35)\n",
      "Requirement already satisfied: diskcache in /opt/conda/lib/python3.11/site-packages (from pyautogen) (5.6.3)\n",
      "Requirement already satisfied: docker in /opt/conda/lib/python3.11/site-packages (from pyautogen) (7.1.0)\n",
      "Requirement already satisfied: flaml in /opt/conda/lib/python3.11/site-packages (from pyautogen) (2.2.0)\n",
      "Requirement already satisfied: numpy<2,>=1.17.0 in /opt/conda/lib/python3.11/site-packages (from pyautogen) (1.26.4)\n",
      "Requirement already satisfied: openai>=1.3 in /opt/conda/lib/python3.11/site-packages (from pyautogen) (1.42.0)\n",
      "Requirement already satisfied: packaging in /opt/conda/lib/python3.11/site-packages (from pyautogen) (24.0)\n",
      "Requirement already satisfied: pydantic!=2.6.0,<3,>=1.10 in /opt/conda/lib/python3.11/site-packages (from pyautogen) (2.7.1)\n",
      "Requirement already satisfied: python-dotenv in /opt/conda/lib/python3.11/site-packages (from pyautogen) (1.0.1)\n",
      "Requirement already satisfied: termcolor in /opt/conda/lib/python3.11/site-packages (from pyautogen) (2.4.0)\n",
      "Requirement already satisfied: tiktoken in /opt/conda/lib/python3.11/site-packages (from pyautogen) (0.7.0)\n",
      "Requirement already satisfied: anyio<5,>=3.5.0 in /opt/conda/lib/python3.11/site-packages (from openai>=1.3->pyautogen) (4.3.0)\n",
      "Requirement already satisfied: distro<2,>=1.7.0 in /opt/conda/lib/python3.11/site-packages (from openai>=1.3->pyautogen) (1.9.0)\n",
      "Requirement already satisfied: httpx<1,>=0.23.0 in /opt/conda/lib/python3.11/site-packages (from openai>=1.3->pyautogen) (0.27.0)\n",
      "Requirement already satisfied: jiter<1,>=0.4.0 in /opt/conda/lib/python3.11/site-packages (from openai>=1.3->pyautogen) (0.5.0)\n",
      "Requirement already satisfied: sniffio in /opt/conda/lib/python3.11/site-packages (from openai>=1.3->pyautogen) (1.3.1)\n",
      "Requirement already satisfied: tqdm>4 in /opt/conda/lib/python3.11/site-packages (from openai>=1.3->pyautogen) (4.66.4)\n",
      "Requirement already satisfied: typing-extensions<5,>=4.11 in /opt/conda/lib/python3.11/site-packages (from openai>=1.3->pyautogen) (4.11.0)\n",
      "Requirement already satisfied: annotated-types>=0.4.0 in /opt/conda/lib/python3.11/site-packages (from pydantic!=2.6.0,<3,>=1.10->pyautogen) (0.7.0)\n",
      "Requirement already satisfied: pydantic-core==2.18.2 in /opt/conda/lib/python3.11/site-packages (from pydantic!=2.6.0,<3,>=1.10->pyautogen) (2.18.2)\n",
      "Requirement already satisfied: requests>=2.26.0 in /opt/conda/lib/python3.11/site-packages (from docker->pyautogen) (2.32.2)\n",
      "Requirement already satisfied: urllib3>=1.26.0 in /opt/conda/lib/python3.11/site-packages (from docker->pyautogen) (2.2.1)\n",
      "Requirement already satisfied: regex>=2022.1.18 in /opt/conda/lib/python3.11/site-packages (from tiktoken->pyautogen) (2024.7.24)\n",
      "Requirement already satisfied: idna>=2.8 in /opt/conda/lib/python3.11/site-packages (from anyio<5,>=3.5.0->openai>=1.3->pyautogen) (3.7)\n",
      "Requirement already satisfied: certifi in /opt/conda/lib/python3.11/site-packages (from httpx<1,>=0.23.0->openai>=1.3->pyautogen) (2024.2.2)\n",
      "Requirement already satisfied: httpcore==1.* in /opt/conda/lib/python3.11/site-packages (from httpx<1,>=0.23.0->openai>=1.3->pyautogen) (1.0.5)\n",
      "Requirement already satisfied: h11<0.15,>=0.13 in /opt/conda/lib/python3.11/site-packages (from httpcore==1.*->httpx<1,>=0.23.0->openai>=1.3->pyautogen) (0.14.0)\n",
      "Requirement already satisfied: charset-normalizer<4,>=2 in /opt/conda/lib/python3.11/site-packages (from requests>=2.26.0->docker->pyautogen) (3.3.2)\n",
      "Note: you may need to restart the kernel to use updated packages.\n"
     ]
    }
   ],
   "source": [
    "pip install pyautogen"
   ]
  },
  {
   "cell_type": "code",
   "execution_count": 2,
   "id": "c9ff4e11-079c-4817-9bf7-642769b0e4b6",
   "metadata": {},
   "outputs": [],
   "source": [
    "from autogen import ConversableAgent, GroupChatManager, GroupChat\n",
    "\n",
    "with open('openai.credential', 'r') as file:\n",
    "    key = file.read()\n",
    "MODEL = 'gpt-4o'"
   ]
  },
  {
   "cell_type": "markdown",
   "id": "21d92c90-69e1-4dba-8a28-d3575b6dbdf4",
   "metadata": {},
   "source": [
    "## Human proxy"
   ]
  },
  {
   "cell_type": "code",
   "execution_count": 3,
   "id": "cdfd657a-9eb7-4fa0-87a9-3b2c04c2412d",
   "metadata": {},
   "outputs": [],
   "source": [
    "human_proxy = ConversableAgent(\n",
    "    \"human_proxy\",\n",
    "    llm_config=False,  # Turn off LLM for this agent.\n",
    "    code_execution_config=False, #No code executor\n",
    "    human_input_mode=\"ALWAYS\",  # Always take human input for this agent for safety.\n",
    "    is_termination_msg=lambda msg: \"terminate\" in msg[\"content\"].lower(),\n",
    ")"
   ]
  },
  {
   "cell_type": "markdown",
   "id": "648d130c-3018-45e2-9087-9283eab064bd",
   "metadata": {},
   "source": [
    "## Agent to the read the abstract and check if the paper is about PSC or not."
   ]
  },
  {
   "cell_type": "code",
   "execution_count": 4,
   "id": "e9338485-9ca3-44b6-9540-e60d2f8782f9",
   "metadata": {},
   "outputs": [],
   "source": [
    "chatbot_system_message = \"You are a helpful assistant. You will receive the abstract of a scientific paper, and you judge if this paper is about a research for the PSC (Primary Sclerosing Cholangitis) disease. Please answer with simply a 'YES' or 'No' as the first line. If it is, please describe briefly what the research is about (in on sentence), If not, please give a short explanation why you don't think it is\"\n",
    "\n",
    "chatbot = ConversableAgent(\n",
    "    \"chatbot_agent\",\n",
    "    system_message = chatbot_system_message,\n",
    "    llm_config = {\"config_list\": [{\"model\": MODEL, \"api_key\": key}]},\n",
    "    code_execution_config=False,  # Turn off code execution for this agent.\n",
    ")"
   ]
  },
  {
   "cell_type": "markdown",
   "id": "900991d4-12d5-41d5-9d19-486ff5dd9386",
   "metadata": {},
   "source": [
    "### Now we start\n"
   ]
  },
  {
   "cell_type": "code",
   "execution_count": 5,
   "id": "042c02b5-36d3-4c6e-8526-51f4c102eb33",
   "metadata": {},
   "outputs": [
    {
     "name": "stdout",
     "output_type": "stream",
     "text": [
      "\u001b[33mchatbot_agent\u001b[0m (to human_proxy):\n",
      "\n",
      "May I help you?\n",
      "\n",
      "--------------------------------------------------------------------------------\n",
      "\u001b[33mhuman_proxy\u001b[0m (to chatbot_agent):\n",
      "\n",
      "The human biliary system, a mucosal barrier tissue connecting the liver and  intestine, is an organ often affected by serious inflammatory and malignant  diseases. Although these diseases are linked to immunological processes, the  biliary system represents an unexplored immunological niche. By combining  endoscopy-guided sampling of the biliary tree with a high-dimensional analysis  approach, comprehensive mapping of the human biliary immunological landscape in  patients with primary sclerosing cholangitis (PSC), a severe biliary  inflammatory disease, was conducted. Major differences in immune cell  composition in bile ducts compared to blood were revealed. Furthermore, biliary  inflammation in patients with PSC was characterized by high presence of  neutrophils and T cells as compared to control individuals without PSC. The  biliary T cells displayed a CD103+CD69+ effector memory phenotype, a combined  gut and liver homing profile, and produced interleukin-17 (IL-17) and IL-22.  Biliary neutrophil infiltration in PSC associated with CXCL8, possibly produced  by resident T cells, and CXCL16 was linked to the enrichment of T cells. This  study uncovers the immunological niche of human bile ducts, defines a local  immune network between neutrophils and biliary-resident T cells in PSC, and  provides a resource for future studies of the immune responses in biliary  disorders.\n",
      "\n",
      "--------------------------------------------------------------------------------\n",
      "\u001b[31m\n",
      ">>>>>>>> USING AUTO REPLY...\u001b[0m\n",
      "\u001b[33mchatbot_agent\u001b[0m (to human_proxy):\n",
      "\n",
      "This paper is about research on Primary Sclerosing Cholangitis (PSC). It involves a comprehensive mapping of the human biliary immunological landscape in PSC patients, revealing differences in immune cell composition and characterizing the biliary inflammation by studying the presence and roles of T cells and neutrophils within the bile ducts.\n",
      "\n",
      "--------------------------------------------------------------------------------\n"
     ]
    }
   ],
   "source": [
    "chat_result = chatbot.initiate_chat(\n",
    "    human_proxy,\n",
    "    message=\"May I help you?\"\n",
    ")\n"
   ]
  },
  {
   "cell_type": "markdown",
   "id": "3d6659ca-031a-40a6-93b2-3d596ca27ed7",
   "metadata": {},
   "source": [
    "## Excise\n",
    "1. Try another topic to begin the dialog\n",
    "2. Create another chatbot with a different initial setting, e.g., a poet who always reply with poems (how?)"
   ]
  }
 ],
 "metadata": {
  "kernelspec": {
   "display_name": "Python 3 (ipykernel)",
   "language": "python",
   "name": "python3"
  },
  "language_info": {
   "codemirror_mode": {
    "name": "ipython",
    "version": 3
   },
   "file_extension": ".py",
   "mimetype": "text/x-python",
   "name": "python",
   "nbconvert_exporter": "python",
   "pygments_lexer": "ipython3",
   "version": "3.11.9"
  }
 },
 "nbformat": 4,
 "nbformat_minor": 5
}
