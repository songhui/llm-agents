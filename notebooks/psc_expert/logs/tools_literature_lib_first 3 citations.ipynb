{
 "cells": [
  {
   "cell_type": "markdown",
   "id": "908494f7-6a00-43a8-b17d-8061a45f349d",
   "metadata": {},
   "source": [
    "# Using tool to get information about a country, from wikipedia\n",
    "\n",
    "\n"
   ]
  },
  {
   "cell_type": "markdown",
   "id": "e6996e2e-c01c-4bc4-85e4-2ed67e135854",
   "metadata": {},
   "source": [
    "## Import libaries and prepare the API credential"
   ]
  },
  {
   "cell_type": "code",
   "execution_count": 2,
   "id": "c9ff4e11-079c-4817-9bf7-642769b0e4b6",
   "metadata": {},
   "outputs": [],
   "source": [
    "from autogen import ConversableAgent, register_function, GroupChatManager, GroupChat\n",
    "from autogen import config_list_from_json\n",
    "\n",
    "with open('../openai.credential', 'r') as file:\n",
    "    key = file.read()\n",
    "MODEL = 'gpt-4o'\n",
    "\n",
    "config_list = config_list_from_json(env_or_file=\"../CONFIG_LIST\", filter_dict={\"model\": MODEL})\n",
    "config_list[0][\"api_key\"] = key"
   ]
  },
  {
   "cell_type": "markdown",
   "id": "b40dc390-df09-4791-a87d-517d75dacec5",
   "metadata": {},
   "source": [
    "## A Python function to get citations. \n",
    "The input is a DOI of the source paper, and the output is a list of DOIs of the papers that the source paper has cited.\n"
   ]
  },
  {
   "cell_type": "markdown",
   "id": "86d396a8",
   "metadata": {},
   "source": [
    "## A python function to get abstract from a DOI.\n",
    "Input: DOI in string. Output: Text of the title and abstract"
   ]
  },
  {
   "cell_type": "code",
   "execution_count": null,
   "id": "4d78684b",
   "metadata": {},
   "outputs": [],
   "source": [
    "from tools.citation_tools import *"
   ]
  },
  {
   "cell_type": "markdown",
   "id": "691ee968-b9bf-4b2a-9c52-acba6a2ae41b",
   "metadata": {},
   "source": [
    "## Agent 1: tool executor (just to wrap up the function)"
   ]
  },
  {
   "cell_type": "code",
   "execution_count": 6,
   "id": "cdfd657a-9eb7-4fa0-87a9-3b2c04c2412d",
   "metadata": {},
   "outputs": [],
   "source": [
    "\n",
    "lib_tool_executor = ConversableAgent(\n",
    "    \"lib_tool_executor\",\n",
    "    llm_config=False,  # Turn off LLM for this agent.\n",
    "    code_execution_config=False,\n",
    "    is_termination_msg=lambda msg: (msg[\"content\"]) and (\"terminate\" in msg[\"content\"].lower())\n",
    ")\n"
   ]
  },
  {
   "cell_type": "markdown",
   "id": "4e40a94d-e683-46af-9a1a-ba4410c21404",
   "metadata": {},
   "source": [
    "### Agent 2: Tool driver (caller of the function)"
   ]
  },
  {
   "cell_type": "code",
   "execution_count": 7,
   "id": "15f407d3-38b2-4d4d-a633-a069b5ad0bc1",
   "metadata": {},
   "outputs": [],
   "source": [
    "lib_tool_driver = ConversableAgent(\n",
    "    \"lib_tool_driver\",\n",
    "    system_message = \"You are a helpful assistant to help users understand scientific publication. You may decide to use some external tools to search papers, with their citations, titles, abstracts, if necessary.\"\n",
    "    \"Once you received the result you needed, or you believe the result from the tools satisfy the task, say 'TERMINATE' - no need to summarize or analyze the results\",\n",
    "    llm_config = {\"config_list\": config_list},\n",
    "    code_execution_config=False\n",
    ")"
   ]
  },
  {
   "cell_type": "markdown",
   "id": "5a553d80-4f70-4eb4-be18-437626460b6f",
   "metadata": {},
   "source": [
    "### Register the tool to both caller and executor\n",
    "\n",
    "*Question:* Why we need tool agents to use a tool?"
   ]
  },
  {
   "cell_type": "code",
   "execution_count": 8,
   "id": "45a6c1bc-8ef5-42ff-87ff-fa7880728dfc",
   "metadata": {},
   "outputs": [],
   "source": [
    "register_function(\n",
    "    get_title_abstract,\n",
    "    caller = lib_tool_driver,\n",
    "    executor = lib_tool_executor,\n",
    "    description = \"Get the title and abstract of a paper. The input is the PMID (pubmed id) of this paper\"\n",
    ")\n",
    "\n",
    "register_function(\n",
    "    get_pmid_from_doi,\n",
    "    caller = lib_tool_driver,\n",
    "    executor = lib_tool_executor,\n",
    "    description = \"Get the PMID (pubmed id) of a paper from its DOI as input\"\n",
    ")\n",
    "\n",
    "register_function(\n",
    "    get_doi_from_pmid,\n",
    "    caller = lib_tool_driver,\n",
    "    executor = lib_tool_executor,\n",
    "    description = \"Get the DOI of a paper from its PMID (pubmed id) as input\"\n",
    ")\n",
    "\n",
    "register_function(\n",
    "    get_pmid_from_title,\n",
    "    caller = lib_tool_driver,\n",
    "    executor = lib_tool_executor,\n",
    "    description = \"Search a paper from its title. The input is the title, and the output is the PMID of this paper\"\n",
    ")\n",
    "\n",
    "register_function(\n",
    "    get_citations,\n",
    "    caller = lib_tool_driver,\n",
    "    executor = lib_tool_executor,\n",
    "    description = \"Get the citations of a paper. The input is the DOI of the source paper, and the output is a list of DOIs of the papers that the source paper has cited\"\n",
    ")"
   ]
  },
  {
   "cell_type": "markdown",
   "id": "d99696aa-394c-4620-b8ec-0775b1cbf18a",
   "metadata": {},
   "source": [
    "## Make the nested agent for tools"
   ]
  },
  {
   "cell_type": "code",
   "execution_count": 9,
   "id": "042c02b5-36d3-4c6e-8526-51f4c102eb33",
   "metadata": {},
   "outputs": [],
   "source": [
    "from tools.tools import second_last_msg\n",
    "\n",
    "nested_chats = [\n",
    "    {\n",
    "        \"recipient\": lib_tool_driver,\n",
    "        \"max_turns\": 4,\n",
    "        \"summary_method\": second_last_msg\n",
    "    }\n",
    "]\n",
    "\n",
    "lib_tool_executor.register_nested_chats(\n",
    "    nested_chats, \n",
    "    trigger = lambda sender: sender not in [lib_tool_driver]\n",
    ")"
   ]
  },
  {
   "cell_type": "markdown",
   "id": "338c24d0",
   "metadata": {},
   "source": [
    "## Agent to the read the abstract and check if the paper is about PSC or not."
   ]
  },
  {
   "cell_type": "code",
   "execution_count": 10,
   "id": "c8caba8e-2062-4300-b192-6caf82e629c7",
   "metadata": {},
   "outputs": [],
   "source": [
    "chatbot_system_message = \"You are a helpful assistant. You will receive the abstract of a scientific paper, and you judge if this paper is about a research for the PSC (Primary Sclerosing Cholangitis) disease. Please answer with simply a 'YES' or 'No' as the first line. If it is, please describe briefly what the research is about (in on sentence), If not, please give a short explanation why you don't think it is\"\n",
    "\n",
    "psc_checker = ConversableAgent(\n",
    "    \"psc_checker\",\n",
    "    system_message = chatbot_system_message,\n",
    "    llm_config = {\"config_list\": config_list},\n",
    "    code_execution_config=False,  # Turn off code execution for this agent.\n",
    ")"
   ]
  },
  {
   "cell_type": "code",
   "execution_count": 11,
   "id": "16c775a1",
   "metadata": {},
   "outputs": [],
   "source": [
    "architect = ConversableAgent(\n",
    "    \"architect\",\n",
    "    system_message = \"You are an AI-based architect that make plans for the whole group.\"\n",
    "    \"When you get a task, break down it into sub tasks, and each can be performed by one of your 'partner agents'.\"\n",
    "    \"You will get an introduction about what each of your partner agents can do.\",\n",
    "    llm_config = {\"config_list\": config_list},\n",
    "    code_execution_config=False,  # Turn off code execution for this agent.\n",
    "    human_input_mode = \"ALWAYS\"\n",
    ")\n"
   ]
  },
  {
   "cell_type": "markdown",
   "id": "e7123c1c",
   "metadata": {},
   "source": [
    "## Now we make the group"
   ]
  },
  {
   "cell_type": "code",
   "execution_count": 12,
   "id": "a593aa37-6e8f-4107-b7fb-e4e087acdc25",
   "metadata": {},
   "outputs": [],
   "source": [
    "lib_tool_executor.description = \"I have a couple of tools to fetch paper informaiton from PubMed. I can search the DOI or PubMed Id from title, get the abstract of a paper, and find the citations of the paper\"\n",
    "psc_checker.description = \"I can read a paragraph of English text (such as the abstract of a paper), and try to tell if the paper is about the research on the PSC disease\"\n",
    "architect.description = \"I am the architect, and I break down a task into subtasks. I should always be the one to speak first, to make plan for sub-tasks\"\n",
    "\n",
    "\n",
    "group_chat = GroupChat(\n",
    "    agents = [lib_tool_executor, psc_checker, architect],\n",
    "    messages = [],\n",
    "    max_round = 20,\n",
    "    send_introductions = True\n",
    ")\n",
    "\n",
    "group_chat_manager = GroupChatManager(\n",
    "    groupchat = group_chat,\n",
    "    llm_config = {\"config_list\": config_list}\n",
    ")\n",
    "\n"
   ]
  },
  {
   "cell_type": "code",
   "execution_count": null,
   "id": "45967f3c",
   "metadata": {},
   "outputs": [],
   "source": [
    "chat_result = lib_tool_executor.initiate_chat(\n",
    "    group_chat_manager,\n",
    "    max_round = 6,\n",
    "    message = \"I have paper titled 'A biliary immune landscape map of primary sclerosing cholangitis reveals a dominant network of neutrophils and tissue-resident T cells'. Can you get all its citations, as a list DOIs. This ends the first sub-task, and then replan for the next sub-task: take the first citation (DOI), get its abstract and check if it is about PSC. Repeat this for the second and third citation.\"\n",
    ")"
   ]
  }
 ],
 "metadata": {
  "kernelspec": {
   "display_name": "base",
   "language": "python",
   "name": "python3"
  },
  "language_info": {
   "codemirror_mode": {
    "name": "ipython",
    "version": 3
   },
   "file_extension": ".py",
   "mimetype": "text/x-python",
   "name": "python",
   "nbconvert_exporter": "python",
   "pygments_lexer": "ipython3",
   "version": "3.11.9"
  }
 },
 "nbformat": 4,
 "nbformat_minor": 5
}
