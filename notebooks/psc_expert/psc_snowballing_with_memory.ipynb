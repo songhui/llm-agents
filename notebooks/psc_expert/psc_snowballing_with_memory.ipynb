{
 "cells": [
  {
   "cell_type": "markdown",
   "id": "908494f7-6a00-43a8-b17d-8061a45f349d",
   "metadata": {},
   "source": [
    "# LLM agents for literature review\n",
    "Get information about scientific papers and their citations, and check if they are relevant to the PSC disease"
   ]
  },
  {
   "cell_type": "markdown",
   "id": "e6996e2e-c01c-4bc4-85e4-2ed67e135854",
   "metadata": {},
   "source": [
    "## Import libaries and prepare the API credential"
   ]
  },
  {
   "cell_type": "code",
   "execution_count": 1,
   "id": "c9ff4e11-079c-4817-9bf7-642769b0e4b6",
   "metadata": {},
   "outputs": [],
   "source": [
    "from autogen import ConversableAgent, register_function, GroupChatManager, GroupChat\n",
    "from autogen import config_list_from_json\n",
    "\n",
    "with open('../openai.credential', 'r') as file:\n",
    "    key = file.read()\n",
    "MODEL = 'gpt-4o'\n",
    "\n",
    "config_list = config_list_from_json(env_or_file=\"../CONFIG_LIST\", filter_dict={\"model\": MODEL})\n",
    "config_list[0][\"api_key\"] = key"
   ]
  },
  {
   "cell_type": "markdown",
   "id": "71b14701",
   "metadata": {},
   "source": [
    "## A nested tool agents to retrieve paper info"
   ]
  },
  {
   "cell_type": "markdown",
   "id": "b40dc390-df09-4791-a87d-517d75dacec5",
   "metadata": {},
   "source": [
    "### Python functions \n",
    "\n",
    "A set of functions to get citations and abstracts of a paper, search for a paper from its title, and covert between DOIs and PubMed IDs.\n"
   ]
  },
  {
   "cell_type": "code",
   "execution_count": null,
   "id": "e39035c7",
   "metadata": {},
   "outputs": [],
   "source": [
    "from tools.citation_tools import *"
   ]
  },
  {
   "cell_type": "markdown",
   "id": "691ee968-b9bf-4b2a-9c52-acba6a2ae41b",
   "metadata": {},
   "source": [
    "### Tool executor (just to wrap up the function)"
   ]
  },
  {
   "cell_type": "code",
   "execution_count": 7,
   "id": "cdfd657a-9eb7-4fa0-87a9-3b2c04c2412d",
   "metadata": {},
   "outputs": [],
   "source": [
    "\n",
    "lib_tool_executor = ConversableAgent(\n",
    "    \"lib_tool_executor\",\n",
    "    llm_config=False,  # Turn off LLM for this agent.\n",
    "    code_execution_config=False,\n",
    "    is_termination_msg=lambda msg: (msg[\"content\"]) and (\"terminate\" in msg[\"content\"].lower())\n",
    ")\n"
   ]
  },
  {
   "cell_type": "markdown",
   "id": "4e40a94d-e683-46af-9a1a-ba4410c21404",
   "metadata": {},
   "source": [
    "### Tool driver (caller of the function)"
   ]
  },
  {
   "cell_type": "code",
   "execution_count": 16,
   "id": "15f407d3-38b2-4d4d-a633-a069b5ad0bc1",
   "metadata": {},
   "outputs": [],
   "source": [
    "lib_tool_driver = ConversableAgent(\n",
    "    \"lib_tool_driver\",\n",
    "    system_message = \"You are a helpful assistant to retrieve information of scientific papers, using some external tools search papers from their titles, get their citations, titles, abstracts, etc. The papers are in most cases identified by their DOIs\"\n",
    "    \"Once you received the result you needed from the tools, or you believe the result from the tools satisfy the task you were assigned, say 'TERMINATE' immediately. Do not try to repeat, summarize or analyze the results. Also, try to do one task each time. Once a task or subtask assigned to you was done, say 'TERMINATE', rather than jumpting into the next task immediately\",\n",
    "    llm_config = {\"config_list\": config_list},\n",
    "    code_execution_config=False\n",
    ")"
   ]
  },
  {
   "cell_type": "markdown",
   "id": "5a553d80-4f70-4eb4-be18-437626460b6f",
   "metadata": {},
   "source": [
    "### Register the tool to both caller and executor\n"
   ]
  },
  {
   "cell_type": "code",
   "execution_count": null,
   "id": "45a6c1bc-8ef5-42ff-87ff-fa7880728dfc",
   "metadata": {},
   "outputs": [],
   "source": [
    "register_function(\n",
    "    get_title_abstract,\n",
    "    caller = lib_tool_driver,\n",
    "    executor = lib_tool_executor,\n",
    "    description = \"Get the title and abstract of a paper. The input is the PMID (pubmed id) of this paper\"\n",
    ")\n",
    "\n",
    "# register_function(\n",
    "#     get_pmid_from_doi,\n",
    "#     caller = lib_tool_driver,\n",
    "#     executor = lib_tool_executor,\n",
    "#     description = \"Get the PMID (pubmed id) of a paper from its DOI as input\"\n",
    "# )\n",
    "\n",
    "# register_function(\n",
    "#     get_doi_from_pmid,\n",
    "#     caller = lib_tool_driver,\n",
    "#     executor = lib_tool_executor,\n",
    "#     description = \"Get the DOI of a paper from its PMID (pubmed id) as input\"\n",
    "# )\n",
    "\n",
    "register_function(\n",
    "    get_pmid_from_title,\n",
    "    caller = lib_tool_driver,\n",
    "    executor = lib_tool_executor,\n",
    "    description = \"Search a paper from its title. The input is the title, and the output is the PMID of this paper\"\n",
    ")\n",
    "\n",
    "register_function(\n",
    "    get_citations,\n",
    "    caller = lib_tool_driver,\n",
    "    executor = lib_tool_executor,\n",
    "    description = \"Get the citations of a paper. The input is the DOI of the source paper, and the output is a list of DOIs of the papers that the source paper has cited\"\n",
    ")\n",
    "\n",
    "register_function(\n",
    "    get_doi_from_title,\n",
    "    caller = lib_tool_driver,\n",
    "    executor = lib_tool_executor,\n",
    "    description = \"Search a paper from its title. The input is the title and the putput is the DOI of the found paper\"\n",
    ")\n",
    "\n",
    "register_function(\n",
    "    get_title_abstract_from_doi,\n",
    "    caller = lib_tool_driver,\n",
    "    executor = lib_tool_executor,\n",
    "    description = \"Get the title and abstract of a paper. The input is the DOI of this paper\"\n",
    ")\n"
   ]
  },
  {
   "cell_type": "markdown",
   "id": "d99696aa-394c-4620-b8ec-0775b1cbf18a",
   "metadata": {},
   "source": [
    "### Make the nested agent for tools. \n",
    "Now lib_tool_executor is the only one exposed to the group"
   ]
  },
  {
   "cell_type": "code",
   "execution_count": 18,
   "id": "042c02b5-36d3-4c6e-8526-51f4c102eb33",
   "metadata": {},
   "outputs": [],
   "source": [
    "from tools.tools import second_last_msg\n",
    "\n",
    "nested_chats = [\n",
    "    {\n",
    "        \"recipient\": lib_tool_driver,\n",
    "        \"max_turns\": 4,\n",
    "        \"summary_method\": second_last_msg\n",
    "    }\n",
    "]\n",
    "\n",
    "lib_tool_executor.register_nested_chats(\n",
    "    nested_chats, \n",
    "    trigger = lambda sender: sender not in [lib_tool_driver]\n",
    ")"
   ]
  },
  {
   "cell_type": "markdown",
   "id": "338c24d0",
   "metadata": {},
   "source": [
    "## Agent to the read the abstract and check if the paper is about PSC or not."
   ]
  },
  {
   "cell_type": "code",
   "execution_count": 19,
   "id": "c8caba8e-2062-4300-b192-6caf82e629c7",
   "metadata": {},
   "outputs": [],
   "source": [
    "chatbot_system_message = \"You are a helpful assistant. You will receive the abstract of a scientific paper, and you judge if this paper is about a research for the PSC (Primary Sclerosing Cholangitis) disease. Please answer with three lines: 1) 'My review for paper <it's DOI>:'; 2) simply 'YES' or 'No'; 3) If it is, please describe briefly what the research is about (in on sentence), If not, please give a short explanation why you don't think it is.\"\n",
    "\n",
    "psc_checker = ConversableAgent(\n",
    "    \"psc_checker\",\n",
    "    system_message = chatbot_system_message,\n",
    "    llm_config = {\"config_list\": config_list},\n",
    "    code_execution_config=False,  # Turn off code execution for this agent.\n",
    ")"
   ]
  },
  {
   "cell_type": "markdown",
   "id": "428cffbd",
   "metadata": {},
   "source": [
    "## Note taking agents\n",
    "Tools to save key information into a knowledge graph, and query the graph for saved information."
   ]
  },
  {
   "cell_type": "code",
   "execution_count": 20,
   "id": "dfa32041",
   "metadata": {},
   "outputs": [],
   "source": [
    "from tools.neo4j import query_neo4j\n",
    "\n",
    "graph_tool_executor = ConversableAgent(\n",
    "    \"graph_tool_executor\",\n",
    "    llm_config=False,  # Turn off LLM for this agent.\n",
    "    code_execution_config=False,\n",
    "    is_termination_msg=lambda msg: (msg[\"content\"]) and (\"terminate\" in msg[\"content\"].lower())\n",
    ")\n",
    "\n",
    "graph_tool_driver = ConversableAgent(\n",
    "    \"graph_tool_driver\",\n",
    "    system_message = \"You are taking notes about scientific paper mentiond by others.\"\n",
    "        \"Each paper is identified by DOI, and may have title and abstract.\"\n",
    "        \"You have a tool helping you saving paper information to a Neo4j graph, and to query informaiton you saved\"\n",
    "        \"When you receive a paper, with DOI, title or abstract, save them.\"\n",
    "        \"Once it is succesfully save, say TERMINATE to avoid the tool executing unnecessary tasks\"\n",
    "        \"When you were asked about papers you saved, query the Neo4j graph via the tool.\"\n",
    "        \"Once you received the satisfied results from the query, summarize them in concise text,\" \"followed by 'TERMINATE' to stop the tool from querying more.\",\n",
    "    llm_config = {\"config_list\": config_list},\n",
    "    code_execution_config=False\n",
    ")\n",
    "\n",
    "register_function(\n",
    "    query_neo4j,\n",
    "    caller = graph_tool_driver,\n",
    "    executor = graph_tool_executor,\n",
    "    description = \"Query or modify the neo4j graph database. The input is a cypher query, and the output is a list of records returned from the query. The graph has the following schema: There are only two labels for nodes: 'Paper' and 'Review'. \"\n",
    "        \"A Paper has properties: doi (its id), title, and abstract\"\n",
    "        \"A Review has properties: isPsc (YES, NO), reviewdBy, and comment\"\n",
    "        \"Two labels for relations: 'Cites' (a paper cites another paper), and 'ReviewOf' (a Review is a review of a Paper)\"\n",
    "        \"Each node or relation should have one and only one label\"\n",
    "        \"Note that The property existence syntax `... exists(variable.property)` is no longer supported by new Cypher. Please use `variable.property IS NOT NULL` instead.\"\n",
    "        \"Remember that DOI is the id of Paper. When you search or match a paper, try to use DOI as long as it is available.\"\n",
    "        \"When you are asked to create many nodes (e.g., to create many papers using their DOIs), try to use the batch and UNWIND keyword in Cypher to do creation/merging in one Cypher query, instead of doing them one by one\"\n",
    ")\n",
    "\n",
    "nested_chats = [\n",
    "    {\n",
    "        \"recipient\": graph_tool_driver,\n",
    "        \"max_turns\": 4,\n",
    "        \"summary_method\": \"last_msg\"\n",
    "    }\n",
    "]\n",
    "\n",
    "graph_tool_executor.register_nested_chats(\n",
    "    nested_chats, \n",
    "    trigger = lambda sender: sender not in [graph_tool_driver]\n",
    ")"
   ]
  },
  {
   "cell_type": "markdown",
   "id": "051ef73d",
   "metadata": {},
   "source": [
    "## Create the group of agents to conduct the task"
   ]
  },
  {
   "cell_type": "markdown",
   "id": "b3e09a74",
   "metadata": {},
   "source": [
    "### A moderator agent to plan and guide the group chat"
   ]
  },
  {
   "cell_type": "code",
   "execution_count": 21,
   "id": "16c775a1",
   "metadata": {},
   "outputs": [],
   "source": [
    "moderator = ConversableAgent(\n",
    "    \"moderator\",\n",
    "    system_message = \"You are an AI-based moderator that makes plans for the whole group.\"\n",
    "    \"When you get a task, break down it into sub tasks, and each can be performed by one of your 'partner agents'.\"\n",
    "    \"You will get an introduction about what each of your partner agents can do.\",\n",
    "    llm_config = {\"config_list\": config_list},\n",
    "    code_execution_config=False,  # Turn off code execution for this agent.\n",
    "    human_input_mode = \"ALWAYS\"\n",
    ")\n"
   ]
  },
  {
   "cell_type": "markdown",
   "id": "e7123c1c",
   "metadata": {},
   "source": [
    "### Create the group chat and assign it to a group manager"
   ]
  },
  {
   "cell_type": "code",
   "execution_count": 22,
   "id": "a593aa37-6e8f-4107-b7fb-e4e087acdc25",
   "metadata": {},
   "outputs": [],
   "source": [
    "lib_tool_executor.description = \"I have a couple of tools to fetch paper informaiton from PubMed. I can search the DOI or PubMed Id from title, get the abstract of a paper, and find the citations of the paper\"\n",
    "psc_checker.description = \"I can read a paragraph of English text (such as the abstract of a paper), and try to tell if the paper is about the research on the PSC disease\"\n",
    "moderator.description = \"I am the moderator, and I break down a task into subtasks. I should always be the one to speak first, to make plan for sub-tasks\"\n",
    "graph_tool_executor.description = \"I am the note-taker. I record the papers, citations and reviews mentioned by other speakers in a database, and help you query from what I noted.\"\n",
    "\n",
    "\n",
    "group_chat = GroupChat(\n",
    "    agents = [lib_tool_executor, psc_checker, graph_tool_executor, moderator],\n",
    "    messages = [],\n",
    "    max_round = 20,\n",
    "    send_introductions = True,\n",
    "    allow_repeat_speaker = False\n",
    ")\n",
    "\n",
    "group_chat_manager = GroupChatManager(\n",
    "    groupchat = group_chat,\n",
    "    system_message = \"You are an assistent to manage who speak next. \",\n",
    "        # \"Remember that once a paper is mentioned, or its abstracts or citations, or the review of a paper, is posted in the graph chat, you should ask the note-taker to speak next, so that it records the paper in the database\",\n",
    "    llm_config = {\"config_list\": config_list}\n",
    ")"
   ]
  },
  {
   "cell_type": "markdown",
   "id": "c5e32a10",
   "metadata": {},
   "source": [
    "## Initialize the knowledge graph with on sample paper"
   ]
  },
  {
   "cell_type": "code",
   "execution_count": null,
   "id": "ed300af7",
   "metadata": {},
   "outputs": [],
   "source": [
    "'''initialize(group_chat_manager, lib_tool_executor,\n",
    "            message=\"\"\"Let's start with paper 10.1126/scitranslmed.abb3107. Please get its title and abstract. After that, save the following review to the existing paper with DOI 10.1126/scitranslmed.abb3107: Xiaojun has reviewed the paper (DOI: 10.1126/scitranslmed.abb3107) and judges that is a paper about PSC, and she commented that it is one of the primary work in this field. For this paper, no need to ask an additional opinion on whether it is about PSC or not.\"\"\")'''"
   ]
  },
  {
   "cell_type": "markdown",
   "id": "247ef3fe",
   "metadata": {},
   "source": [
    "## Expand a YES paper with its references"
   ]
  },
  {
   "cell_type": "code",
   "execution_count": null,
   "id": "d29b4f0f",
   "metadata": {},
   "outputs": [],
   "source": [
    "'''initialize(group_chat_manager, lib_tool_executor,\n",
    "            message=\"\"\"Your task is as follows: \n",
    "            1. Please query from the notes (the knowledge graph) to find one paper which has been Reviewed as YES for PSC research, and get its DOI.\n",
    "            2. If you find such as paper, retrieve all its citations, as a list of DOIs.\n",
    "            3. For each DOI in the citation list, create a Paper node in the knowledge graph, with only the property of DOI, and create a 'Cites' relation from the original paper (matched by its DOI) to the newly created paper. \n",
    "            Since there will normally be many citations, \n",
    "            please use a batch of data and the UNWIND keyword to create/merge these nodes in one cypher query.\"\"\")'''"
   ]
  },
  {
   "cell_type": "markdown",
   "id": "39e76b41",
   "metadata": {},
   "source": [
    "## Review a paper"
   ]
  },
  {
   "cell_type": "markdown",
   "id": "3470f88c",
   "metadata": {},
   "source": [
    "## The \"main\" entry point of function calls."
   ]
  },
  {
   "cell_type": "code",
   "execution_count": null,
   "id": "b64bfa67",
   "metadata": {},
   "outputs": [],
   "source": [
    "from tools.tools import initialize\n",
    "\n",
    "# expand_references()\n",
    "for i in range (0, 2):\n",
    "    # REVIEWS THE PAPER\n",
    "    initialize(group_chat_manager, lib_tool_executor,\n",
    "    message=\"\"\"Your task is as follows: \n",
    "            1. Query your note (the graph) to find one paper which has not been reviewed. Done for the graph tool.\n",
    "            2. Use another tool to retrieve the title and abstract of this paper, and save the details into the graph.\n",
    "            3. Ask the psc_checker to see if it is about psc\n",
    "            4. Save the Review about this paper, with YES/NO and comment, and record that this review is done by generative AI\"\"\")"
   ]
  }
 ],
 "metadata": {
  "kernelspec": {
   "display_name": "base",
   "language": "python",
   "name": "python3"
  },
  "language_info": {
   "codemirror_mode": {
    "name": "ipython",
    "version": 3
   },
   "file_extension": ".py",
   "mimetype": "text/x-python",
   "name": "python",
   "nbconvert_exporter": "python",
   "pygments_lexer": "ipython3",
   "version": "3.11.9"
  }
 },
 "nbformat": 4,
 "nbformat_minor": 5
}
