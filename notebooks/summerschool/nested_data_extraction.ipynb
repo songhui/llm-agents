{
 "cells": [
  {
   "cell_type": "markdown",
   "id": "908494f7-6a00-43a8-b17d-8061a45f349d",
   "metadata": {},
   "source": [
    "# Sequence chat - extract data, draw image, and summarize\n",
    "\n",
    "\n"
   ]
  },
  {
   "cell_type": "markdown",
   "id": "e6996e2e-c01c-4bc4-85e4-2ed67e135854",
   "metadata": {},
   "source": [
    "## Import libaries and prepare the API credential"
   ]
  },
  {
   "cell_type": "code",
   "execution_count": 1,
   "id": "c9ff4e11-079c-4817-9bf7-642769b0e4b6",
   "metadata": {},
   "outputs": [],
   "source": [
    "import tempfile\n",
    "import os\n",
    "import subprocess\n",
    "\n",
    "from autogen import ConversableAgent\n",
    "from autogen.coding import LocalCommandLineCodeExecutor\n",
    "\n",
    "with open('openai.credential', 'r') as file:\n",
    "    key = file.read()\n",
    "MODEL = 'gpt-4o'"
   ]
  },
  {
   "cell_type": "markdown",
   "id": "b40dc390-df09-4791-a87d-517d75dacec5",
   "metadata": {},
   "source": [
    "## Create a temporary folder to execute code\n"
   ]
  },
  {
   "cell_type": "code",
   "execution_count": 2,
   "id": "636d880f-6203-49d6-a2f3-df5c678a8460",
   "metadata": {},
   "outputs": [
    {
     "name": "stdout",
     "output_type": "stream",
     "text": [
      "/tmp/tmpf53pxaix\n"
     ]
    },
    {
     "data": {
      "text/plain": [
       "['population.csv']"
      ]
     },
     "execution_count": 2,
     "metadata": {},
     "output_type": "execute_result"
    }
   ],
   "source": [
    "temp_dir = tempfile.TemporaryDirectory()\n",
    "print(temp_dir.name)\n",
    "\n",
    "subprocess.run([\"cp\", \"population.csv\", temp_dir.name+\"/\"])\n",
    "\n",
    "os.listdir(temp_dir.name)"
   ]
  },
  {
   "cell_type": "markdown",
   "id": "691ee968-b9bf-4b2a-9c52-acba6a2ae41b",
   "metadata": {},
   "source": [
    "## Agent 1: code executor, who can run python code locally"
   ]
  },
  {
   "cell_type": "code",
   "execution_count": 3,
   "id": "cdfd657a-9eb7-4fa0-87a9-3b2c04c2412d",
   "metadata": {},
   "outputs": [],
   "source": [
    "executor = LocalCommandLineCodeExecutor(\n",
    "    timeout=10,  # Timeout for each code execution in seconds.\n",
    "    work_dir=temp_dir.name,  # Use the temporary directory to store the code files.\n",
    ")\n",
    "\n",
    "# Create an agent with code executor configuration.\n",
    "code_executor = ConversableAgent(\n",
    "    \"code_executor_agent\",\n",
    "    llm_config=False,  # Turn off LLM for this agent.\n",
    "    code_execution_config={\"executor\": executor},  # Use the local command line code executor.\n",
    "    human_input_mode=\"ALWAYS\",  # Always take human input for this agent for safety.\n",
    "    is_termination_msg=lambda msg: \"terminate\" in msg[\"content\"].lower(),\n",
    ")"
   ]
  },
  {
   "cell_type": "markdown",
   "id": "20ac2be8-e3aa-4f7a-8827-c73676733f87",
   "metadata": {},
   "source": [
    "## Agent 2: data scientist, who can write python code"
   ]
  },
  {
   "cell_type": "code",
   "execution_count": 4,
   "id": "e9338485-9ca3-44b6-9540-e60d2f8782f9",
   "metadata": {},
   "outputs": [],
   "source": [
    "data_scientist_system_message = \"\"\"You are a data scientist, and you can solve problems by writing python code. \n",
    "In the following cases, suggest python code (in a python coding block) or shell script (in a sh coding block) for the user to execute.\n",
    "1. When you need to collect info, use the code to output the info you need, for example, browse or search the web, download/read a file, print the content of a webpage or a file, get the current date/time, check the operating system. After sufficient info is printed and the task is ready to be solved based on your language skill, you can solve the task by yourself.\n",
    "2. When you need to perform some task with code, use the code to perform the task and output the result. Finish the task smartly.\n",
    "Solve the task step by step if you need to. If a plan is not provided, explain your plan first. Be clear which step uses code, and which step uses your language skill.\n",
    "When using code, you must indicate the script type in the code block. The user cannot provide any other feedback or perform any other action beyond executing the code you suggest. The user can't modify your code. So do not suggest incomplete code which requires users to modify. Don't use a code block if it's not intended to be executed by the user.\n",
    "If you want the user to save the code in a file before executing it, put # filename: <filename> inside the code block as the first line. Don't include multiple code blocks in one response. Do not ask users to copy and paste the result. Instead, use 'print' function for the output when relevant. Check the execution result returned by the user.\n",
    "If the result indicates there is an error, fix the error and output the code again. Suggest the full code instead of partial code or code changes. If the error can't be fixed or if the task is not solved even after the code is executed successfully, analyze the problem, revisit your assumption, collect additional info you need, and think of a different approach to try.\n",
    "When you find an answer, verify the answer carefully. Include verifiable evidence in your response if possible.\n",
    "Reply 'TERMINATE' in the end when the anser is verified.\n",
    "Some of the tasks are about analyzing a csv file. If you don't know the structure of the csv file, you may provide code to the users to extract the csv structure, and use the feedback from the users to generate the csv analysis code. \n",
    "\"\"\"\n",
    "\n",
    "data_scientist = ConversableAgent(\n",
    "    \"data_scientist_agent\",\n",
    "    system_message = data_scientist_system_message,\n",
    "    llm_config = {\"config_list\": [{\"model\": MODEL, \"api_key\": key}]},\n",
    "    code_execution_config=False,  # Turn off code execution for this agent.\n",
    "    is_termination_msg=lambda msg: \"terminate\" in msg[\"content\"].lower(),\n",
    ")"
   ]
  },
  {
   "cell_type": "code",
   "execution_count": 5,
   "id": "042c02b5-36d3-4c6e-8526-51f4c102eb33",
   "metadata": {},
   "outputs": [],
   "source": [
    "from tools.tools import second_last_msg\n",
    "\n",
    "nested_chats = [\n",
    "    {\n",
    "        \"recipient\": data_scientist,\n",
    "        \"max_turns\": 8,\n",
    "        \"summary_method\": second_last_msg\n",
    "    }\n",
    "]\n",
    "\n",
    "code_executor.register_nested_chats(\n",
    "    nested_chats, \n",
    "    trigger = lambda sender: sender not in [data_scientist]\n",
    ")\n",
    "\n"
   ]
  },
  {
   "cell_type": "code",
   "execution_count": 6,
   "id": "f3fab508-c434-4872-a08b-c0570d9c5990",
   "metadata": {},
   "outputs": [],
   "source": [
    "quiz_master = ConversableAgent(\n",
    "    \"quiz_master\",\n",
    "    llm_config=False,\n",
    "    code_execution_config=False,\n",
    "    human_input_mode=\"ALWAYS\"\n",
    ")"
   ]
  },
  {
   "cell_type": "code",
   "execution_count": 7,
   "id": "c8caba8e-2062-4300-b192-6caf82e629c7",
   "metadata": {
    "scrolled": true
   },
   "outputs": [
    {
     "name": "stdout",
     "output_type": "stream",
     "text": [
      "\u001b[33mquiz_master\u001b[0m (to code_executor_agent):\n",
      "\n",
      "can you tell me the population norway the end of each decade from 1950 to 2020? I have a population.csv file, and you can find valuable data there\n",
      "\n",
      "--------------------------------------------------------------------------------\n"
     ]
    },
    {
     "name": "stdout",
     "output_type": "stream",
     "text": [
      "Provide feedback to quiz_master. Press enter to skip and use auto-reply, or type 'exit' to end the conversation:  \n"
     ]
    },
    {
     "name": "stdout",
     "output_type": "stream",
     "text": [
      "\u001b[31m\n",
      ">>>>>>>> NO HUMAN INPUT RECEIVED.\u001b[0m\n",
      "\u001b[31m\n",
      ">>>>>>>> USING AUTO REPLY...\u001b[0m\n",
      "\u001b[34m\n",
      "********************************************************************************\u001b[0m\n",
      "\u001b[34mStarting a new chat....\u001b[0m\n",
      "\u001b[34m\n",
      "********************************************************************************\u001b[0m\n",
      "\u001b[33mcode_executor_agent\u001b[0m (to data_scientist_agent):\n",
      "\n",
      "can you tell me the population norway the end of each decade from 1950 to 2020? I have a population.csv file, and you can find valuable data there\n",
      "\n",
      "--------------------------------------------------------------------------------\n",
      "\u001b[31m\n",
      ">>>>>>>> USING AUTO REPLY...\u001b[0m\n",
      "\u001b[33mdata_scientist_agent\u001b[0m (to code_executor_agent):\n",
      "\n",
      "To assist you with finding the population of Norway at the end of each decade from 1950 to 2020, let's first inspect the `population.csv` file to understand its structure. We'll read the CSV file and print the first few rows to get an idea of how the data is organized.\n",
      "\n",
      "Here's the plan:\n",
      "1. Read and print the first few rows of the `population.csv` file to understand its structure.\n",
      "2. Based on the structure, extract the relevant population data for Norway for the end of each decade from 1950 to 2020.\n",
      "\n",
      "Let's start with step 1:\n",
      "\n",
      "```python\n",
      "# filename: inspect_population_csv.py\n",
      "\n",
      "import pandas as pd\n",
      "\n",
      "# Load the CSV file\n",
      "df = pd.read_csv('population.csv')\n",
      "\n",
      "# Print the first few rows of the dataframe\n",
      "print(df.head())\n",
      "```\n",
      "\n",
      "Please execute the above code and share the printed output. This will help determine how to proceed to extract the necessary population data for Norway.\n",
      "\n",
      "--------------------------------------------------------------------------------\n"
     ]
    },
    {
     "name": "stdout",
     "output_type": "stream",
     "text": [
      "Provide feedback to data_scientist_agent. Press enter to skip and use auto-reply, or type 'exit' to end the conversation:  \n"
     ]
    },
    {
     "name": "stdout",
     "output_type": "stream",
     "text": [
      "\u001b[31m\n",
      ">>>>>>>> NO HUMAN INPUT RECEIVED.\u001b[0m\n",
      "\u001b[31m\n",
      ">>>>>>>> USING AUTO REPLY...\u001b[0m\n",
      "\u001b[31m\n",
      ">>>>>>>> EXECUTING CODE BLOCK (inferred language is python)...\u001b[0m\n",
      "\u001b[33mcode_executor_agent\u001b[0m (to data_scientist_agent):\n",
      "\n",
      "exitcode: 0 (execution succeeded)\n",
      "Code output:   Country name  ...  population__all__95_99__records\n",
      "0  Afghanistan  ...                                8\n",
      "1  Afghanistan  ...                                9\n",
      "2  Afghanistan  ...                               10\n",
      "3  Afghanistan  ...                               11\n",
      "4  Afghanistan  ...                               11\n",
      "\n",
      "[5 rows x 40 columns]\n",
      "\n",
      "\n",
      "--------------------------------------------------------------------------------\n",
      "\u001b[31m\n",
      ">>>>>>>> USING AUTO REPLY...\u001b[0m\n",
      "\u001b[33mdata_scientist_agent\u001b[0m (to code_executor_agent):\n",
      "\n",
      "Based on the structure of the CSV file, it appears that the columns include population records segmented across various years or age groups (assuming the columns names like `population__all__95_99__records`). We need to determine the relevant columns that indicate population totals for specific years, particularly for the end of each decade from 1950 to 2020.\n",
      "\n",
      "The next step involves filtering for Norway's rows and selecting the appropriate columns representing the end of each decade. Since we don't have the exact column names in the snapshot provided, we'll first print out all the column names to identify the relevant ones.\n",
      "\n",
      "Here's the plan:\n",
      "1. Print all column names to identify which ones represent the population at the end of each decade.\n",
      "2. Extract population data for Norway for those column names.\n",
      "\n",
      "Let's proceed with step 1:\n",
      "\n",
      "```python\n",
      "# filename: inspect_population_columns.py\n",
      "\n",
      "import pandas as pd\n",
      "\n",
      "# Load the CSV file\n",
      "df = pd.read_csv('population.csv')\n",
      "\n",
      "# Print all column names to identify those representing the end of each decade\n",
      "print(df.columns)\n",
      "```\n",
      "\n",
      "Please execute the above code and share the printed output. This will help determine which columns correspond to the population at the end of each decade from 1950 to 2020.\n",
      "\n",
      "--------------------------------------------------------------------------------\n"
     ]
    },
    {
     "name": "stdout",
     "output_type": "stream",
     "text": [
      "Provide feedback to data_scientist_agent. Press enter to skip and use auto-reply, or type 'exit' to end the conversation:  \n"
     ]
    },
    {
     "name": "stdout",
     "output_type": "stream",
     "text": [
      "\u001b[31m\n",
      ">>>>>>>> NO HUMAN INPUT RECEIVED.\u001b[0m\n",
      "\u001b[31m\n",
      ">>>>>>>> USING AUTO REPLY...\u001b[0m\n",
      "\u001b[31m\n",
      ">>>>>>>> EXECUTING CODE BLOCK (inferred language is python)...\u001b[0m\n",
      "\u001b[33mcode_executor_agent\u001b[0m (to data_scientist_agent):\n",
      "\n",
      "exitcode: 0 (execution succeeded)\n",
      "Code output: Index(['Country name', 'Year', 'Population',\n",
      "       'Population of children under the age of 1',\n",
      "       'Population of children under the age of 5',\n",
      "       'Population of children under the age of 15',\n",
      "       'Population under the age of 25', 'Population aged 15 to 64 years',\n",
      "       'Population older than 15 years', 'Population older than 18 years',\n",
      "       'Population at age 1', 'Population aged 1 to 4 years',\n",
      "       'Population aged 5 to 9 years', 'Population aged 10 to 14 years',\n",
      "       'Population aged 15 to 19 years', 'Population aged 20 to 29 years',\n",
      "       'Population aged 30 to 39 years', 'Population aged 40 to 49 years',\n",
      "       'Population aged 50 to 59 years', 'Population aged 60 to 69 years',\n",
      "       'Population aged 70 to 79 years', 'Population aged 80 to 89 years',\n",
      "       'Population aged 90 to 99 years', 'Population older than 100 years',\n",
      "       'population__all__20_24__records', 'population__all__25_29__records',\n",
      "       'population__all__30_34__records', 'population__all__35_39__records',\n",
      "       'population__all__40_44__records', 'population__all__45_49__records',\n",
      "       'population__all__50_54__records', 'population__all__55_59__records',\n",
      "       'population__all__60_64__records', 'population__all__65_69__records',\n",
      "       'population__all__70_74__records', 'population__all__75_79__records',\n",
      "       'population__all__80_84__records', 'population__all__85_89__records',\n",
      "       'population__all__90_94__records', 'population__all__95_99__records'],\n",
      "      dtype='object')\n",
      "\n",
      "\n",
      "--------------------------------------------------------------------------------\n",
      "\u001b[31m\n",
      ">>>>>>>> USING AUTO REPLY...\u001b[0m\n",
      "\u001b[33mdata_scientist_agent\u001b[0m (to code_executor_agent):\n",
      "\n",
      "The columns of the CSV file indicate that the data is segmented by age groups and perhaps years, but there's also a 'Year' column which might indicate the specific years in which the population data was recorded.\n",
      "\n",
      "Given this structure, we'll look specifically at the 'Country name', 'Year', and 'Population' columns, as these seem to directly contain the information we need: the population of each country in specific years.\n",
      "\n",
      "Here’s the plan:\n",
      "1. Filter the dataframe for 'Norway'.\n",
      "2. Extract the population data for the years at the end of each decade from 1950 to 2020 (i.e., 1950, 1960, 1970, 1980, 1990, 2000, 2010, 2020).\n",
      "3. Print the filtered data.\n",
      "\n",
      "Here's the code:\n",
      "\n",
      "```python\n",
      "# filename: population_norway_by_decade.py\n",
      "\n",
      "import pandas as pd\n",
      "\n",
      "# Load the CSV file\n",
      "df = pd.read_csv('population.csv')\n",
      "\n",
      "# Define the years we are interested in\n",
      "years_of_interest = [1950, 1960, 1970, 1980, 1990, 2000, 2010, 2020]\n",
      "\n",
      "# Filter for Norway and required years\n",
      "norway_population = df[(df['Country name'] == 'Norway') & (df['Year'].isin(years_of_interest))]\n",
      "\n",
      "# Select relevant columns\n",
      "norway_population = norway_population[['Year', 'Population']]\n",
      "\n",
      "# Print the result\n",
      "print(norway_population)\n",
      "```\n",
      "\n",
      "Please execute the above code to obtain and print the population of Norway at the end of each decade from 1950 to 2020.\n",
      "\n",
      "--------------------------------------------------------------------------------\n"
     ]
    },
    {
     "name": "stdout",
     "output_type": "stream",
     "text": [
      "Provide feedback to data_scientist_agent. Press enter to skip and use auto-reply, or type 'exit' to end the conversation:  \n"
     ]
    },
    {
     "name": "stdout",
     "output_type": "stream",
     "text": [
      "\u001b[31m\n",
      ">>>>>>>> NO HUMAN INPUT RECEIVED.\u001b[0m\n",
      "\u001b[31m\n",
      ">>>>>>>> USING AUTO REPLY...\u001b[0m\n",
      "\u001b[31m\n",
      ">>>>>>>> EXECUTING CODE BLOCK (inferred language is python)...\u001b[0m\n",
      "\u001b[33mcode_executor_agent\u001b[0m (to data_scientist_agent):\n",
      "\n",
      "exitcode: 0 (execution succeeded)\n",
      "Code output:        Year  Population\n",
      "12384  1950     3281428\n",
      "12394  1960     3581521\n",
      "12404  1970     3875550\n",
      "12414  1980     4085778\n",
      "12424  1990     4241637\n",
      "12434  2000     4491204\n",
      "12444  2010     4889747\n",
      "12454  2020     5379836\n",
      "\n",
      "\n",
      "--------------------------------------------------------------------------------\n",
      "\u001b[31m\n",
      ">>>>>>>> USING AUTO REPLY...\u001b[0m\n",
      "\u001b[33mdata_scientist_agent\u001b[0m (to code_executor_agent):\n",
      "\n",
      "The population of Norway at the end of each decade from 1950 to 2020 is as follows:\n",
      "\n",
      "- 1950: 3,281,428\n",
      "- 1960: 3,581,521\n",
      "- 1970: 3,875,550\n",
      "- 1980: 4,085,778\n",
      "- 1990: 4,241,637\n",
      "- 2000: 4,491,204\n",
      "- 2010: 4,889,747\n",
      "- 2020: 5,379,836\n",
      "\n",
      "This information has been verified based on the extracted data from the CSV file. \n",
      "\n",
      "TERMINATE\n",
      "\n",
      "--------------------------------------------------------------------------------\n"
     ]
    },
    {
     "name": "stdout",
     "output_type": "stream",
     "text": [
      "Provide feedback to data_scientist_agent. Press enter to skip and use auto-reply, or type 'exit' to end the conversation:  \n"
     ]
    },
    {
     "name": "stdout",
     "output_type": "stream",
     "text": [
      "\u001b[31m\n",
      ">>>>>>>> NO HUMAN INPUT RECEIVED.\u001b[0m\n",
      "\u001b[33mcode_executor_agent\u001b[0m (to quiz_master):\n",
      "\n",
      "exitcode: 0 (execution succeeded)\n",
      "Code output:        Year  Population\n",
      "12384  1950     3281428\n",
      "12394  1960     3581521\n",
      "12404  1970     3875550\n",
      "12414  1980     4085778\n",
      "12424  1990     4241637\n",
      "12434  2000     4491204\n",
      "12444  2010     4889747\n",
      "12454  2020     5379836\n",
      "\n",
      "\n",
      "--------------------------------------------------------------------------------\n"
     ]
    },
    {
     "data": {
      "text/plain": [
       "ChatResult(chat_id=None, chat_history=[{'content': 'can you tell me the population norway the end of each decade from 1950 to 2020? I have a population.csv file, and you can find valuable data there', 'role': 'assistant'}, {'content': 'exitcode: 0 (execution succeeded)\\nCode output:        Year  Population\\n12384  1950     3281428\\n12394  1960     3581521\\n12404  1970     3875550\\n12414  1980     4085778\\n12424  1990     4241637\\n12434  2000     4491204\\n12444  2010     4889747\\n12454  2020     5379836\\n', 'role': 'user'}], summary='exitcode: 0 (execution succeeded)\\nCode output:        Year  Population\\n12384  1950     3281428\\n12394  1960     3581521\\n12404  1970     3875550\\n12414  1980     4085778\\n12424  1990     4241637\\n12434  2000     4491204\\n12444  2010     4889747\\n12454  2020     5379836\\n', cost={'usage_including_cached_inference': {'total_cost': 0}, 'usage_excluding_cached_inference': {'total_cost': 0}}, human_input=[])"
      ]
     },
     "execution_count": 7,
     "metadata": {},
     "output_type": "execute_result"
    }
   ],
   "source": [
    "quiz_master.initiate_chat(\n",
    "    code_executor,\n",
    "    message = \"can you tell me the population norway the end of each decade from 1950 to 2020? I have a population.csv file, and you can find valuable data there\",\n",
    "    max_turns = 1\n",
    ")"
   ]
  },
  {
   "cell_type": "markdown",
   "id": "a593aa37-6e8f-4107-b7fb-e4e087acdc25",
   "metadata": {},
   "source": [
    "## Exercise: how to implement branch (if-else)\n",
    "\n",
    "The quiz_master must always start with the magic word \"show me the code:\", otherwise, the code executor will not bother the data scientist."
   ]
  }
 ],
 "metadata": {
  "kernelspec": {
   "display_name": "Python 3 (ipykernel)",
   "language": "python",
   "name": "python3"
  },
  "language_info": {
   "codemirror_mode": {
    "name": "ipython",
    "version": 3
   },
   "file_extension": ".py",
   "mimetype": "text/x-python",
   "name": "python",
   "nbconvert_exporter": "python",
   "pygments_lexer": "ipython3",
   "version": "3.11.9"
  }
 },
 "nbformat": 4,
 "nbformat_minor": 5
}
