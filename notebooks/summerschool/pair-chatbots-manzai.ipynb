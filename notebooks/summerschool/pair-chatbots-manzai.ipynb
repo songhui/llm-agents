{
 "cells": [
  {
   "cell_type": "markdown",
   "id": "52197759-12a6-4b77-9136-46fa6b65e1fe",
   "metadata": {},
   "source": [
    "# A pair of chatting agents"
   ]
  },
  {
   "cell_type": "markdown",
   "id": "672e980c-3aa3-4c5b-be86-fdd8d99ae070",
   "metadata": {},
   "source": [
    "## Prepare the environment"
   ]
  },
  {
   "cell_type": "code",
   "execution_count": 1,
   "id": "c9ff4e11-079c-4817-9bf7-642769b0e4b6",
   "metadata": {},
   "outputs": [],
   "source": [
    "from autogen import ConversableAgent\n",
    "\n",
    "with open('openai.credential', 'r') as file:\n",
    "    key = file.read()\n",
    "MODEL = 'gpt-4o'"
   ]
  },
  {
   "cell_type": "markdown",
   "id": "21d92c90-69e1-4dba-8a28-d3575b6dbdf4",
   "metadata": {},
   "source": [
    "## Agent one"
   ]
  },
  {
   "cell_type": "code",
   "execution_count": 2,
   "id": "cdfd657a-9eb7-4fa0-87a9-3b2c04c2412d",
   "metadata": {},
   "outputs": [],
   "source": [
    "\n",
    "tsukkomi = ConversableAgent(\n",
    "    \"straight_man\",\n",
    "    system_message = \"You are a manzai player, the 'straight man', but you speak english.\",\n",
    "    llm_config = {\"config_list\": [{\"model\": MODEL, \"api_key\": key}]},\n",
    "    is_termination_msg=lambda msg: \"bye-bye\" in msg[\"content\"].lower(),\n",
    "    human_input_mode=\"ALWAYS\",\n",
    ")"
   ]
  },
  {
   "cell_type": "markdown",
   "id": "648d130c-3018-45e2-9087-9283eab064bd",
   "metadata": {},
   "source": [
    "## Chatbot"
   ]
  },
  {
   "cell_type": "code",
   "execution_count": 3,
   "id": "e9338485-9ca3-44b6-9540-e60d2f8782f9",
   "metadata": {},
   "outputs": [],
   "source": [
    "boke = ConversableAgent(\n",
    "    \"funny_man\",\n",
    "    system_message = \"You are a manzai player, the 'funny man', but you speak english\",\n",
    "    llm_config = {\"config_list\": [{\"model\": MODEL, \"api_key\": key}]},\n",
    "    is_termination_msg=lambda msg: \"bye-bye\" in msg[\"content\"].lower()\n",
    ")"
   ]
  },
  {
   "cell_type": "markdown",
   "id": "900991d4-12d5-41d5-9d19-486ff5dd9386",
   "metadata": {},
   "source": [
    "### Now we start\n"
   ]
  },
  {
   "cell_type": "code",
   "execution_count": null,
   "id": "042c02b5-36d3-4c6e-8526-51f4c102eb33",
   "metadata": {},
   "outputs": [
    {
     "name": "stdout",
     "output_type": "stream",
     "text": [
      "\u001b[33mfunny_man\u001b[0m (to straight_man):\n",
      "\n",
      "I will travel to Romania\n",
      "\n",
      "--------------------------------------------------------------------------------\n"
     ]
    },
    {
     "name": "stdin",
     "output_type": "stream",
     "text": [
      "Provide feedback to funny_man. Press enter to skip and use auto-reply, or type 'exit' to end the conversation:  \n"
     ]
    },
    {
     "name": "stdout",
     "output_type": "stream",
     "text": [
      "\u001b[31m\n",
      ">>>>>>>> NO HUMAN INPUT RECEIVED.\u001b[0m\n",
      "\u001b[31m\n",
      ">>>>>>>> USING AUTO REPLY...\u001b[0m\n",
      "\u001b[33mstraight_man\u001b[0m (to funny_man):\n",
      "\n",
      "That's awesome! Romania is a beautiful country with a lot of history and culture. Are you planning to visit the famous Dracula's Castle in Transylvania?\n",
      "\n",
      "--------------------------------------------------------------------------------\n",
      "\u001b[31m\n",
      ">>>>>>>> USING AUTO REPLY...\u001b[0m\n",
      "\u001b[33mfunny_man\u001b[0m (to straight_man):\n",
      "\n",
      "Of course, I can't miss Dracula's Castle! I heard it's a bit batty around there. But hey, maybe I'll get some good tips on how to \"vamp\" up my comedy routine! Did you know that Dracula loves comedy? Yeah, he's always down for \"fangtastic\" puns!\n",
      "\n",
      "--------------------------------------------------------------------------------\n"
     ]
    },
    {
     "name": "stdin",
     "output_type": "stream",
     "text": [
      "Provide feedback to funny_man. Press enter to skip and use auto-reply, or type 'exit' to end the conversation:  \n"
     ]
    },
    {
     "name": "stdout",
     "output_type": "stream",
     "text": [
      "\u001b[31m\n",
      ">>>>>>>> NO HUMAN INPUT RECEIVED.\u001b[0m\n",
      "\u001b[31m\n",
      ">>>>>>>> USING AUTO REPLY...\u001b[0m\n",
      "\u001b[33mstraight_man\u001b[0m (to funny_man):\n",
      "\n",
      "Oh, I've heard Dracula has a \"bite\" for humor! Just make sure your jokes don't \"suck\"! But seriously, visiting Dracula's Castle sounds like an incredible experience. Just don't stay out too late; you know how those \"graveyard\" shifts can be!\n",
      "\n",
      "--------------------------------------------------------------------------------\n",
      "\u001b[31m\n",
      ">>>>>>>> USING AUTO REPLY...\u001b[0m\n",
      "\u001b[33mfunny_man\u001b[0m (to straight_man):\n",
      "\n",
      "That's great advice! I'll make sure not to stay out too late, or I might end up \"dead\" tired! But in all seriousness, I can't wait to explore Romania's beautiful landscapes and rich history. Hopefully, I'll leave with my neck intact and some new material for our manzai acts. And who knows, maybe I'll even learn how to \"count\" my blessings better from the Count himself!\n",
      "\n",
      "--------------------------------------------------------------------------------\n"
     ]
    },
    {
     "name": "stdin",
     "output_type": "stream",
     "text": [
      "Provide feedback to funny_man. Press enter to skip and use auto-reply, or type 'exit' to end the conversation:  \n"
     ]
    },
    {
     "name": "stdout",
     "output_type": "stream",
     "text": [
      "\u001b[31m\n",
      ">>>>>>>> NO HUMAN INPUT RECEIVED.\u001b[0m\n",
      "\u001b[31m\n",
      ">>>>>>>> USING AUTO REPLY...\u001b[0m\n",
      "\u001b[33mstraight_man\u001b[0m (to funny_man):\n",
      "\n",
      "Haha, just make sure you don't get \"counted\" out! Romania’s got more to offer than just vampires—beautiful mountains, historic cities, and vibrant culture. You’ll definitely come back with stories worth their weight in “crypt-o” currency! And remember, if you get lost, just look for garlic—it’ll either lead you to safety or a really well-stocked kitchen! Safe travels, and I hope you gather plenty of \"fang-tastic\" memories!\n",
      "\n",
      "--------------------------------------------------------------------------------\n",
      "\u001b[31m\n",
      ">>>>>>>> USING AUTO REPLY...\u001b[0m\n",
      "\u001b[33mfunny_man\u001b[0m (to straight_man):\n",
      "\n",
      "Thank you! I’ll make sure to keep my garlic handy—it’s like the Swiss Army knife of Romania, right? And I can’t wait to experience everything else the country has to offer! From the Carpathian mountains to the medieval towns, it’s going to be an “absolute unit” of a trip. If I get lost, I’ll just say I’m on the “stake-out” for comedy gold! \n",
      "\n",
      "I’m looking forward to bringing back a treasure trove of “spooktacular” stories and maybe even a few puns that “bite.” Until then, I’ll make sure to follow my “transylvania” itinerary closely! Thanks for the well-wishes and the laughs!\n",
      "\n",
      "--------------------------------------------------------------------------------\n"
     ]
    },
    {
     "name": "stdin",
     "output_type": "stream",
     "text": [
      "Provide feedback to funny_man. Press enter to skip and use auto-reply, or type 'exit' to end the conversation:  exit\n"
     ]
    },
    {
     "name": "stdout",
     "output_type": "stream",
     "text": [
      "\u001b[31m\n",
      ">>>>>>>> USING AUTO REPLY...\u001b[0m\n",
      "\u001b[33mfunny_man\u001b[0m (to straight_man):\n",
      "\n",
      "Thank you! I’ll make sure to keep my garlic handy—it’s like the Swiss Army knife of Romania, right? And I can’t wait to experience everything else the country has to offer! From the Carpathian mountains to the medieval towns, it’s going to be an “absolute unit” of a trip. If I get lost, I’ll just say I’m on the “stake-out” for comedy gold!\n",
      "\n",
      "I’m looking forward to bringing back a treasure trove of “spooktacular” stories and maybe even a few puns that “bite.” Until then, I’ll make sure to follow my “Transylvania” itinerary closely! Thanks for the well-wishes and the laughs—our manzai act will be even better with some international flair!\n",
      "\n",
      "--------------------------------------------------------------------------------\n"
     ]
    }
   ],
   "source": [
    "chat_result = boke.initiate_chat(\n",
    "    tsukkomi,\n",
    "    message=\"I will travel to Romania\",\n",
    "    max_turns=10\n",
    ")\n"
   ]
  },
  {
   "cell_type": "code",
   "execution_count": null,
   "id": "3d6659ca-031a-40a6-93b2-3d596ca27ed7",
   "metadata": {},
   "outputs": [],
   "source": []
  }
 ],
 "metadata": {
  "kernelspec": {
   "display_name": "Python 3 (ipykernel)",
   "language": "python",
   "name": "python3"
  },
  "language_info": {
   "codemirror_mode": {
    "name": "ipython",
    "version": 3
   },
   "file_extension": ".py",
   "mimetype": "text/x-python",
   "name": "python",
   "nbconvert_exporter": "python",
   "pygments_lexer": "ipython3",
   "version": "3.11.9"
  }
 },
 "nbformat": 4,
 "nbformat_minor": 5
}
