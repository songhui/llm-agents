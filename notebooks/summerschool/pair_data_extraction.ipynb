{
 "cells": [
  {
   "cell_type": "markdown",
   "id": "8fb9e0de-292d-4d83-93d4-811a29f1ed91",
   "metadata": {},
   "source": [
    "# A pair of agents to generate code for data analysis"
   ]
  },
  {
   "cell_type": "markdown",
   "id": "672e980c-3aa3-4c5b-be86-fdd8d99ae070",
   "metadata": {},
   "source": [
    "## Prepare the environment"
   ]
  },
  {
   "cell_type": "code",
   "execution_count": 1,
   "id": "c9ff4e11-079c-4817-9bf7-642769b0e4b6",
   "metadata": {},
   "outputs": [],
   "source": [
    "import tempfile\n",
    "import shutil\n",
    "import os\n",
    "import subprocess\n",
    "\n",
    "from autogen import ConversableAgent\n",
    "from autogen.coding import LocalCommandLineCodeExecutor\n",
    "\n",
    "with open('openai.credential', 'r') as file:\n",
    "    key = file.read()\n",
    "MODEL = 'gpt-4o'"
   ]
  },
  {
   "cell_type": "markdown",
   "id": "01d29676-e6b2-42fb-9ebc-673f0dd1fecc",
   "metadata": {},
   "source": [
    "## Create a temporary folder to run the code\n",
    "*Question:* Why not the the work directory, or sub-folder in it?"
   ]
  },
  {
   "cell_type": "code",
   "execution_count": 2,
   "id": "636d880f-6203-49d6-a2f3-df5c678a8460",
   "metadata": {},
   "outputs": [
    {
     "name": "stdout",
     "output_type": "stream",
     "text": [
      "/tmp/tmpi4w4piz5\n"
     ]
    },
    {
     "data": {
      "text/plain": [
       "['population.csv']"
      ]
     },
     "execution_count": 2,
     "metadata": {},
     "output_type": "execute_result"
    }
   ],
   "source": [
    "temp_dir = tempfile.TemporaryDirectory()\n",
    "print(temp_dir.name)\n",
    "\n",
    "subprocess.run([\"cp\", \"population.csv\", temp_dir.name+\"/\"])\n",
    "\n",
    "os.listdir(temp_dir.name)"
   ]
  },
  {
   "cell_type": "markdown",
   "id": "21d92c90-69e1-4dba-8a28-d3575b6dbdf4",
   "metadata": {},
   "source": [
    "## Code executor. A proxy of command line, no LLM"
   ]
  },
  {
   "cell_type": "code",
   "execution_count": 3,
   "id": "cdfd657a-9eb7-4fa0-87a9-3b2c04c2412d",
   "metadata": {},
   "outputs": [],
   "source": [
    "executor = LocalCommandLineCodeExecutor(\n",
    "    timeout=10,  # Timeout for each code execution in seconds.\n",
    "    work_dir=temp_dir.name,  # Use the temporary directory to store the code files.\n",
    ")\n",
    "\n",
    "# Create an agent with code executor configuration.\n",
    "code_executor = ConversableAgent(\n",
    "    \"code_executor_agent\",\n",
    "    llm_config=False,  # Turn off LLM for this agent.\n",
    "    code_execution_config={\"executor\": executor},  # Use the local command line code executor.\n",
    "    human_input_mode=\"ALWAYS\",  # Always take human input for this agent for safety.\n",
    "    is_termination_msg=lambda msg: \"terminate\" in msg[\"content\"].lower(),\n",
    ")"
   ]
  },
  {
   "cell_type": "markdown",
   "id": "648d130c-3018-45e2-9087-9283eab064bd",
   "metadata": {},
   "source": [
    "## Data scientist - the code writer"
   ]
  },
  {
   "cell_type": "code",
   "execution_count": 4,
   "id": "e9338485-9ca3-44b6-9540-e60d2f8782f9",
   "metadata": {},
   "outputs": [],
   "source": [
    "data_scientist_system_message = \"\"\"You are a data scientist, and you can solve problems by writing python code. \n",
    "In the following cases, suggest python code (in a python coding block) or shell script (in a sh coding block) for the user to execute.\n",
    "1. When you need to collect info, use the code to output the info you need, for example, browse or search the web, download/read a file, print the content of a webpage or a file, get the current date/time, check the operating system. After sufficient info is printed and the task is ready to be solved based on your language skill, you can solve the task by yourself.\n",
    "2. When you need to perform some task with code, use the code to perform the task and output the result. Finish the task smartly.\n",
    "Solve the task step by step if you need to. If a plan is not provided, explain your plan first. Be clear which step uses code, and which step uses your language skill.\n",
    "When using code, you must indicate the script type in the code block. The user cannot provide any other feedback or perform any other action beyond executing the code you suggest. The user can't modify your code. So do not suggest incomplete code which requires users to modify. Don't use a code block if it's not intended to be executed by the user.\n",
    "If you want the user to save the code in a file before executing it, put # filename: <filename> inside the code block as the first line. Don't include multiple code blocks in one response. Do not ask users to copy and paste the result. Instead, use 'print' function for the output when relevant. Check the execution result returned by the user.\n",
    "If the result indicates there is an error, fix the error and output the code again. Suggest the full code instead of partial code or code changes. If the error can't be fixed or if the task is not solved even after the code is executed successfully, analyze the problem, revisit your assumption, collect additional info you need, and think of a different approach to try.\n",
    "When you find an answer, verify the answer carefully. Include verifiable evidence in your response if possible.\n",
    "Reply 'TERMINATE' in the end when everything is done.\n",
    "Some of the tasks are about analyzing a csv file. If you don't know the structure of the csv file, you may provide code to the users to extract the csv structure, and use the feedback from the users to generate the csv analysis code. \n",
    "\"\"\"\n",
    "\n",
    "data_scientist = ConversableAgent(\n",
    "    \"data_scientist_agent\",\n",
    "    system_message = data_scientist_system_message,\n",
    "    llm_config = {\"config_list\": [{\"model\": MODEL, \"api_key\": key}]},\n",
    "    code_execution_config=False,  # Turn off code execution for this agent.\n",
    ")"
   ]
  },
  {
   "cell_type": "markdown",
   "id": "900991d4-12d5-41d5-9d19-486ff5dd9386",
   "metadata": {},
   "source": [
    "### Now give the task"
   ]
  },
  {
   "cell_type": "code",
   "execution_count": 6,
   "id": "042c02b5-36d3-4c6e-8526-51f4c102eb33",
   "metadata": {},
   "outputs": [
    {
     "name": "stdout",
     "output_type": "stream",
     "text": [
      "\u001b[33mcode_executor_agent\u001b[0m (to data_scientist_agent):\n",
      "\n",
      "There is a csv file called population.csv, can you please find out the number of newborns each year for Norway, and store it in a new file result.csv\n",
      "\n",
      "--------------------------------------------------------------------------------\n",
      "\u001b[31m\n",
      ">>>>>>>> USING AUTO REPLY...\u001b[0m\n",
      "\u001b[33mdata_scientist_agent\u001b[0m (to code_executor_agent):\n",
      "\n",
      "Sure, let's break down the task into a few steps:\n",
      "\n",
      "1. Load the `population.csv` file and explore its structure to understand which columns contain the necessary data.\n",
      "2. Extract the number of newborns each year for Norway.\n",
      "3. Store the extracted data in a new file called `result.csv`.\n",
      "\n",
      "Here's the Python script to perform these steps:\n",
      "\n",
      "```python\n",
      "# filename: analyze_population.py\n",
      "import pandas as pd\n",
      "\n",
      "# Step 1: Load the CSV file and explore its structure\n",
      "population_data = pd.read_csv('population.csv')\n",
      "print(population_data.head())\n",
      "\n",
      "# Step 2: Filter the data for Norway and the relevant newborns column\n",
      "# Assuming the newborns column is named 'Newborns' and year by 'Year'.\n",
      "# You may need to adjust the column names accordingly after inspecting the CSV structure.\n",
      "norway_newborns = population_data[population_data['Country'] == 'Norway'][['Year', 'Newborns']]\n",
      "\n",
      "# Step 3: Save the filtered data to a new CSV file\n",
      "norway_newborns.to_csv('result.csv', index=False)\n",
      "print(\"Number of newborns each year for Norway has been saved to result.csv\")\n",
      "```\n",
      "\n",
      "If the column names are different than what I assumed, you may need to adjust them based on the structure of your `population.csv` file. Please execute the code and provide the structure of the `population.csv` if there are any adjustments needed.\n",
      "\n",
      "--------------------------------------------------------------------------------\n"
     ]
    },
    {
     "name": "stdin",
     "output_type": "stream",
     "text": [
      "Provide feedback to data_scientist_agent. Press enter to skip and use auto-reply, or type 'exit' to end the conversation:  \n"
     ]
    },
    {
     "name": "stdout",
     "output_type": "stream",
     "text": [
      "\u001b[31m\n",
      ">>>>>>>> NO HUMAN INPUT RECEIVED.\u001b[0m\n",
      "\u001b[31m\n",
      ">>>>>>>> USING AUTO REPLY...\u001b[0m\n",
      "\u001b[31m\n",
      ">>>>>>>> EXECUTING CODE BLOCK (inferred language is python)...\u001b[0m\n",
      "\u001b[33mcode_executor_agent\u001b[0m (to data_scientist_agent):\n",
      "\n",
      "exitcode: 1 (execution failed)\n",
      "Code output: Traceback (most recent call last):\n",
      "  File \"/opt/conda/lib/python3.11/site-packages/pandas/core/indexes/base.py\", line 3805, in get_loc\n",
      "    return self._engine.get_loc(casted_key)\n",
      "           ^^^^^^^^^^^^^^^^^^^^^^^^^^^^^^^^\n",
      "  File \"index.pyx\", line 167, in pandas._libs.index.IndexEngine.get_loc\n",
      "  File \"index.pyx\", line 196, in pandas._libs.index.IndexEngine.get_loc\n",
      "  File \"pandas/_libs/hashtable_class_helper.pxi\", line 7081, in pandas._libs.hashtable.PyObjectHashTable.get_item\n",
      "  File \"pandas/_libs/hashtable_class_helper.pxi\", line 7089, in pandas._libs.hashtable.PyObjectHashTable.get_item\n",
      "KeyError: 'Country'\n",
      "\n",
      "The above exception was the direct cause of the following exception:\n",
      "\n",
      "Traceback (most recent call last):\n",
      "  File \"/tmp/tmpi4w4piz5/analyze_population.py\", line 11, in <module>\n",
      "    norway_newborns = population_data[population_data['Country'] == 'Norway'][['Year', 'Newborns']]\n",
      "                                      ~~~~~~~~~~~~~~~^^^^^^^^^^^\n",
      "  File \"/opt/conda/lib/python3.11/site-packages/pandas/core/frame.py\", line 4102, in __getitem__\n",
      "    indexer = self.columns.get_loc(key)\n",
      "              ^^^^^^^^^^^^^^^^^^^^^^^^^\n",
      "  File \"/opt/conda/lib/python3.11/site-packages/pandas/core/indexes/base.py\", line 3812, in get_loc\n",
      "    raise KeyError(key) from err\n",
      "KeyError: 'Country'\n",
      "  Country name  ...  population__all__95_99__records\n",
      "0  Afghanistan  ...                                8\n",
      "1  Afghanistan  ...                                9\n",
      "2  Afghanistan  ...                               10\n",
      "3  Afghanistan  ...                               11\n",
      "4  Afghanistan  ...                               11\n",
      "\n",
      "[5 rows x 40 columns]\n",
      "\n",
      "\n",
      "--------------------------------------------------------------------------------\n",
      "\u001b[31m\n",
      ">>>>>>>> USING AUTO REPLY...\u001b[0m\n",
      "\u001b[33mdata_scientist_agent\u001b[0m (to code_executor_agent):\n",
      "\n",
      "The error message indicates that the column name `'Country'` does not exist in the `population.csv` file. Let's adjust the code to first print out the column names so we can identify the correct ones.\n",
      "\n",
      "Here is the updated script to help us verify the column names:\n",
      "\n",
      "```python\n",
      "# filename: determine_columns.py\n",
      "import pandas as pd\n",
      "\n",
      "# Load the CSV file\n",
      "population_data = pd.read_csv('population.csv')\n",
      "\n",
      "# Print out the column names\n",
      "print(population_data.columns)\n",
      "```\n",
      "\n",
      "Please run this script to determine the actual column names in the `population.csv` file. Once we have the correct column names, we can update the original script accordingly.\n",
      "\n",
      "--------------------------------------------------------------------------------\n"
     ]
    },
    {
     "name": "stdin",
     "output_type": "stream",
     "text": [
      "Provide feedback to data_scientist_agent. Press enter to skip and use auto-reply, or type 'exit' to end the conversation:  \n"
     ]
    },
    {
     "name": "stdout",
     "output_type": "stream",
     "text": [
      "\u001b[31m\n",
      ">>>>>>>> NO HUMAN INPUT RECEIVED.\u001b[0m\n",
      "\u001b[31m\n",
      ">>>>>>>> USING AUTO REPLY...\u001b[0m\n",
      "\u001b[31m\n",
      ">>>>>>>> EXECUTING CODE BLOCK (inferred language is python)...\u001b[0m\n",
      "\u001b[33mcode_executor_agent\u001b[0m (to data_scientist_agent):\n",
      "\n",
      "exitcode: 0 (execution succeeded)\n",
      "Code output: Index(['Country name', 'Year', 'Population',\n",
      "       'Population of children under the age of 1',\n",
      "       'Population of children under the age of 5',\n",
      "       'Population of children under the age of 15',\n",
      "       'Population under the age of 25', 'Population aged 15 to 64 years',\n",
      "       'Population older than 15 years', 'Population older than 18 years',\n",
      "       'Population at age 1', 'Population aged 1 to 4 years',\n",
      "       'Population aged 5 to 9 years', 'Population aged 10 to 14 years',\n",
      "       'Population aged 15 to 19 years', 'Population aged 20 to 29 years',\n",
      "       'Population aged 30 to 39 years', 'Population aged 40 to 49 years',\n",
      "       'Population aged 50 to 59 years', 'Population aged 60 to 69 years',\n",
      "       'Population aged 70 to 79 years', 'Population aged 80 to 89 years',\n",
      "       'Population aged 90 to 99 years', 'Population older than 100 years',\n",
      "       'population__all__20_24__records', 'population__all__25_29__records',\n",
      "       'population__all__30_34__records', 'population__all__35_39__records',\n",
      "       'population__all__40_44__records', 'population__all__45_49__records',\n",
      "       'population__all__50_54__records', 'population__all__55_59__records',\n",
      "       'population__all__60_64__records', 'population__all__65_69__records',\n",
      "       'population__all__70_74__records', 'population__all__75_79__records',\n",
      "       'population__all__80_84__records', 'population__all__85_89__records',\n",
      "       'population__all__90_94__records', 'population__all__95_99__records'],\n",
      "      dtype='object')\n",
      "\n",
      "\n",
      "--------------------------------------------------------------------------------\n",
      "\u001b[31m\n",
      ">>>>>>>> USING AUTO REPLY...\u001b[0m\n",
      "\u001b[33mdata_scientist_agent\u001b[0m (to code_executor_agent):\n",
      "\n",
      "Based on the output, the appropriate column names to use are `'Country name'` and `'Population of children under the age of 1'`. Let's update the script accordingly to filter and store the number of newborns for Norway.\n",
      "\n",
      "```python\n",
      "# filename: analyze_population.py\n",
      "import pandas as pd\n",
      "\n",
      "# Load the CSV file\n",
      "population_data = pd.read_csv('population.csv')\n",
      "\n",
      "# Filter the data for Norway and the relevant newborns column\n",
      "norway_newborns = population_data[population_data['Country name'] == 'Norway'][['Year', 'Population of children under the age of 1']]\n",
      "\n",
      "# Rename columns for better clarity\n",
      "norway_newborns = norway_newborns.rename(columns={\n",
      "    'Year': 'Year',\n",
      "    'Population of children under the age of 1': 'Newborns'\n",
      "})\n",
      "\n",
      "# Save the filtered data to a new CSV file\n",
      "norway_newborns.to_csv('result.csv', index=False)\n",
      "print(\"Number of newborns each year for Norway has been saved to result.csv\")\n",
      "```\n",
      "\n",
      "Please run this updated script to extract the required data and store it in `result.csv`.\n",
      "\n",
      "--------------------------------------------------------------------------------\n"
     ]
    },
    {
     "name": "stdin",
     "output_type": "stream",
     "text": [
      "Provide feedback to data_scientist_agent. Press enter to skip and use auto-reply, or type 'exit' to end the conversation:  \n"
     ]
    },
    {
     "name": "stdout",
     "output_type": "stream",
     "text": [
      "\u001b[31m\n",
      ">>>>>>>> NO HUMAN INPUT RECEIVED.\u001b[0m\n",
      "\u001b[31m\n",
      ">>>>>>>> USING AUTO REPLY...\u001b[0m\n",
      "\u001b[31m\n",
      ">>>>>>>> EXECUTING CODE BLOCK (inferred language is python)...\u001b[0m\n",
      "\u001b[33mcode_executor_agent\u001b[0m (to data_scientist_agent):\n",
      "\n",
      "exitcode: 0 (execution succeeded)\n",
      "Code output: Number of newborns each year for Norway has been saved to result.csv\n",
      "\n",
      "\n",
      "--------------------------------------------------------------------------------\n",
      "\u001b[31m\n",
      ">>>>>>>> USING AUTO REPLY...\u001b[0m\n",
      "\u001b[33mdata_scientist_agent\u001b[0m (to code_executor_agent):\n",
      "\n",
      "Great! The script has executed successfully, and the number of newborns each year for Norway has been saved to `result.csv`. The task is now completed.\n",
      "\n",
      "TERMINATE\n",
      "\n",
      "--------------------------------------------------------------------------------\n"
     ]
    },
    {
     "name": "stdin",
     "output_type": "stream",
     "text": [
      "Provide feedback to data_scientist_agent. Press enter to skip and use auto-reply, or type 'exit' to end the conversation:  \n"
     ]
    },
    {
     "name": "stdout",
     "output_type": "stream",
     "text": [
      "\u001b[31m\n",
      ">>>>>>>> NO HUMAN INPUT RECEIVED.\u001b[0m\n"
     ]
    },
    {
     "data": {
      "text/plain": [
       "['result.csv',\n",
       " 'population.csv',\n",
       " 'determine_columns.py',\n",
       " 'analyze_population.py']"
      ]
     },
     "execution_count": 6,
     "metadata": {},
     "output_type": "execute_result"
    }
   ],
   "source": [
    "chat_result = code_executor.initiate_chat(\n",
    "    data_scientist,\n",
    "    message=\"There is a csv file called population.csv, can you please find out the number of newborns each year for Norway, and store it in a new file result.csv\",\n",
    ")\n",
    "os.listdir(temp_dir.name)"
   ]
  },
  {
   "cell_type": "code",
   "execution_count": 8,
   "id": "3d6659ca-031a-40a6-93b2-3d596ca27ed7",
   "metadata": {},
   "outputs": [
    {
     "data": {
      "text/html": [
       "<div>\n",
       "<style scoped>\n",
       "    .dataframe tbody tr th:only-of-type {\n",
       "        vertical-align: middle;\n",
       "    }\n",
       "\n",
       "    .dataframe tbody tr th {\n",
       "        vertical-align: top;\n",
       "    }\n",
       "\n",
       "    .dataframe thead th {\n",
       "        text-align: right;\n",
       "    }\n",
       "</style>\n",
       "<table border=\"1\" class=\"dataframe\">\n",
       "  <thead>\n",
       "    <tr style=\"text-align: right;\">\n",
       "      <th></th>\n",
       "      <th>Year</th>\n",
       "      <th>Newborns</th>\n",
       "    </tr>\n",
       "  </thead>\n",
       "  <tbody>\n",
       "    <tr>\n",
       "      <th>0</th>\n",
       "      <td>1950</td>\n",
       "      <td>61151.0</td>\n",
       "    </tr>\n",
       "    <tr>\n",
       "      <th>1</th>\n",
       "      <td>1951</td>\n",
       "      <td>60184.0</td>\n",
       "    </tr>\n",
       "    <tr>\n",
       "      <th>2</th>\n",
       "      <td>1952</td>\n",
       "      <td>60279.0</td>\n",
       "    </tr>\n",
       "    <tr>\n",
       "      <th>3</th>\n",
       "      <td>1953</td>\n",
       "      <td>61516.0</td>\n",
       "    </tr>\n",
       "    <tr>\n",
       "      <th>4</th>\n",
       "      <td>1954</td>\n",
       "      <td>61642.0</td>\n",
       "    </tr>\n",
       "    <tr>\n",
       "      <th>...</th>\n",
       "      <td>...</td>\n",
       "      <td>...</td>\n",
       "    </tr>\n",
       "    <tr>\n",
       "      <th>67</th>\n",
       "      <td>2017</td>\n",
       "      <td>58155.0</td>\n",
       "    </tr>\n",
       "    <tr>\n",
       "      <th>68</th>\n",
       "      <td>2018</td>\n",
       "      <td>56184.0</td>\n",
       "    </tr>\n",
       "    <tr>\n",
       "      <th>69</th>\n",
       "      <td>2019</td>\n",
       "      <td>55115.0</td>\n",
       "    </tr>\n",
       "    <tr>\n",
       "      <th>70</th>\n",
       "      <td>2020</td>\n",
       "      <td>53986.0</td>\n",
       "    </tr>\n",
       "    <tr>\n",
       "      <th>71</th>\n",
       "      <td>2021</td>\n",
       "      <td>53544.0</td>\n",
       "    </tr>\n",
       "  </tbody>\n",
       "</table>\n",
       "<p>72 rows × 2 columns</p>\n",
       "</div>"
      ],
      "text/plain": [
       "    Year  Newborns\n",
       "0   1950   61151.0\n",
       "1   1951   60184.0\n",
       "2   1952   60279.0\n",
       "3   1953   61516.0\n",
       "4   1954   61642.0\n",
       "..   ...       ...\n",
       "67  2017   58155.0\n",
       "68  2018   56184.0\n",
       "69  2019   55115.0\n",
       "70  2020   53986.0\n",
       "71  2021   53544.0\n",
       "\n",
       "[72 rows x 2 columns]"
      ]
     },
     "execution_count": 8,
     "metadata": {},
     "output_type": "execute_result"
    }
   ],
   "source": [
    "import pandas as pd\n",
    "pd.read_csv(temp_dir.name + \"/result.csv\")"
   ]
  },
  {
   "cell_type": "code",
   "execution_count": null,
   "id": "5ef1b6f5-dab9-47c8-88e1-014eb78ed832",
   "metadata": {},
   "outputs": [],
   "source": []
  }
 ],
 "metadata": {
  "kernelspec": {
   "display_name": "Python 3 (ipykernel)",
   "language": "python",
   "name": "python3"
  },
  "language_info": {
   "codemirror_mode": {
    "name": "ipython",
    "version": 3
   },
   "file_extension": ".py",
   "mimetype": "text/x-python",
   "name": "python",
   "nbconvert_exporter": "python",
   "pygments_lexer": "ipython3",
   "version": "3.11.9"
  }
 },
 "nbformat": 4,
 "nbformat_minor": 5
}
