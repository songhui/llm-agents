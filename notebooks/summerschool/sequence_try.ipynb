{
 "cells": [
  {
   "cell_type": "markdown",
   "id": "908494f7-6a00-43a8-b17d-8061a45f349d",
   "metadata": {},
   "source": [
    "# Sequence chat - extract data, draw image, and summarize\n",
    "\n",
    "\n"
   ]
  },
  {
   "cell_type": "markdown",
   "id": "e6996e2e-c01c-4bc4-85e4-2ed67e135854",
   "metadata": {},
   "source": [
    "## Import libaries and prepare the API credential"
   ]
  },
  {
   "cell_type": "code",
   "execution_count": 1,
   "id": "c9ff4e11-079c-4817-9bf7-642769b0e4b6",
   "metadata": {},
   "outputs": [],
   "source": [
    "import tempfile\n",
    "import shutil\n",
    "import os\n",
    "import subprocess\n",
    "\n",
    "from autogen import ConversableAgent\n",
    "from autogen.coding import LocalCommandLineCodeExecutor\n",
    "\n",
    "with open('openai.credential', 'r') as file:\n",
    "    key = file.read()\n",
    "MODEL = 'gpt-4o'"
   ]
  },
  {
   "cell_type": "markdown",
   "id": "b40dc390-df09-4791-a87d-517d75dacec5",
   "metadata": {},
   "source": [
    "## Create a temporary folder to execute code\n"
   ]
  },
  {
   "cell_type": "code",
   "execution_count": 2,
   "id": "636d880f-6203-49d6-a2f3-df5c678a8460",
   "metadata": {},
   "outputs": [
    {
     "name": "stdout",
     "output_type": "stream",
     "text": [
      "/tmp/tmpwvuvxicb\n"
     ]
    },
    {
     "data": {
      "text/plain": [
       "['population.csv']"
      ]
     },
     "execution_count": 2,
     "metadata": {},
     "output_type": "execute_result"
    }
   ],
   "source": [
    "temp_dir = tempfile.TemporaryDirectory()\n",
    "print(temp_dir.name)\n",
    "\n",
    "subprocess.run([\"cp\", \"population.csv\", temp_dir.name+\"/\"])\n",
    "\n",
    "os.listdir(temp_dir.name)"
   ]
  },
  {
   "cell_type": "markdown",
   "id": "691ee968-b9bf-4b2a-9c52-acba6a2ae41b",
   "metadata": {},
   "source": [
    "## Agent 1: code executor, who can run python code locally"
   ]
  },
  {
   "cell_type": "code",
   "execution_count": 3,
   "id": "cdfd657a-9eb7-4fa0-87a9-3b2c04c2412d",
   "metadata": {},
   "outputs": [],
   "source": [
    "executor = LocalCommandLineCodeExecutor(\n",
    "    timeout=10,  # Timeout for each code execution in seconds.\n",
    "    work_dir=temp_dir.name,  # Use the temporary directory to store the code files.\n",
    ")\n",
    "\n",
    "# Create an agent with code executor configuration.\n",
    "code_executor = ConversableAgent(\n",
    "    \"code_executor_agent\",\n",
    "    llm_config=False,  # Turn off LLM for this agent.\n",
    "    code_execution_config={\"executor\": executor},  # Use the local command line code executor.\n",
    "    human_input_mode=\"ALWAYS\",  # Always take human input for this agent for safety.\n",
    "    is_termination_msg=lambda msg: \"terminate\" in msg[\"content\"].lower(),\n",
    ")"
   ]
  },
  {
   "cell_type": "markdown",
   "id": "20ac2be8-e3aa-4f7a-8827-c73676733f87",
   "metadata": {},
   "source": [
    "## Agent 2: data scientist, who can write python code"
   ]
  },
  {
   "cell_type": "code",
   "execution_count": 4,
   "id": "e9338485-9ca3-44b6-9540-e60d2f8782f9",
   "metadata": {},
   "outputs": [],
   "source": [
    "data_scientist_system_message = \"\"\"You are a data scientist, and you can solve problems by writing python code. \n",
    "In the following cases, suggest python code (in a python coding block) or shell script (in a sh coding block) for the user to execute.\n",
    "1. When you need to collect info, use the code to output the info you need, for example, browse or search the web, download/read a file, print the content of a webpage or a file, get the current date/time, check the operating system. After sufficient info is printed and the task is ready to be solved based on your language skill, you can solve the task by yourself.\n",
    "2. When you need to perform some task with code, use the code to perform the task and output the result. Finish the task smartly.\n",
    "Solve the task step by step if you need to. If a plan is not provided, explain your plan first. Be clear which step uses code, and which step uses your language skill.\n",
    "When using code, you must indicate the script type in the code block. The user cannot provide any other feedback or perform any other action beyond executing the code you suggest. The user can't modify your code. So do not suggest incomplete code which requires users to modify. Don't use a code block if it's not intended to be executed by the user.\n",
    "If you want the user to save the code in a file before executing it, put # filename: <filename> inside the code block as the first line. Don't include multiple code blocks in one response. Do not ask users to copy and paste the result. Instead, use 'print' function for the output when relevant. Check the execution result returned by the user.\n",
    "If the result indicates there is an error, fix the error and output the code again. Suggest the full code instead of partial code or code changes. If the error can't be fixed or if the task is not solved even after the code is executed successfully, analyze the problem, revisit your assumption, collect additional info you need, and think of a different approach to try.\n",
    "When you find an answer, verify the answer carefully. Include verifiable evidence in your response if possible.\n",
    "Reply 'TERMINATE' in the end when everything is done.\n",
    "Some of the tasks are about analyzing a csv file. If you don't know the structure of the csv file, you may provide code to the users to extract the csv structure, and use the feedback from the users to generate the csv analysis code. \n",
    "\"\"\"\n",
    "\n",
    "data_scientist = ConversableAgent(\n",
    "    \"data_scientist_agent\",\n",
    "    system_message = data_scientist_system_message,\n",
    "    llm_config = {\"config_list\": [{\"model\": MODEL, \"api_key\": key}]},\n",
    "    code_execution_config=False,  # Turn off code execution for this agent.\n",
    "    is_termination_msg=lambda msg: \"terminate\" in msg[\"content\"].lower(),\n",
    ")"
   ]
  },
  {
   "cell_type": "code",
   "execution_count": null,
   "id": "042c02b5-36d3-4c6e-8526-51f4c102eb33",
   "metadata": {},
   "outputs": [
    {
     "name": "stdout",
     "output_type": "stream",
     "text": [
      "\u001b[34m\n",
      "********************************************************************************\u001b[0m\n",
      "\u001b[34mStarting a new chat....\u001b[0m\n",
      "\u001b[34m\n",
      "********************************************************************************\u001b[0m\n",
      "\u001b[33mcode_executor_agent\u001b[0m (to data_scientist_agent):\n",
      "\n",
      "There is a csv file called population.csv, can you find out the number of newborns each year for Norway, and store it in a result.csv file\n",
      "\n",
      "--------------------------------------------------------------------------------\n",
      "\u001b[31m\n",
      ">>>>>>>> USING AUTO REPLY...\u001b[0m\n",
      "\u001b[33mdata_scientist_agent\u001b[0m (to code_executor_agent):\n",
      "\n",
      "Sure, the plan is as follows:\n",
      "\n",
      "1. **Read the `population.csv` file** to understand its structure.\n",
      "2. **Process the data** to extract the number of newborns each year for Norway.\n",
      "3. **Save the extracted data** into a new file called `result.csv`.\n",
      "\n",
      "Let's start by reading the `population.csv` file to understand its contents. This will allow us to tailor the analysis to the structure of the data.\n",
      "\n",
      "```python\n",
      "# filename: read_population.py\n",
      "\n",
      "import pandas as pd\n",
      "\n",
      "# Read the CSV file\n",
      "df = pd.read_csv('population.csv')\n",
      "\n",
      "# Output the first few rows of the dataframe to understand its structure\n",
      "print(df.head())\n",
      "```\n",
      "\n",
      "Run the above script first to display the structure of `population.csv`. Once I know the structure, I can provide the code to extract the required data and save it to `result.csv`.\n",
      "\n",
      "--------------------------------------------------------------------------------\n"
     ]
    },
    {
     "name": "stderr",
     "output_type": "stream",
     "text": [
      "/opt/conda/lib/python3.11/site-packages/autogen/agentchat/chat.py:47: UserWarning: Repetitive recipients detected: The chat history will be cleared by default if a recipient appears more than once. To retain the chat history, please set 'clear_history=False' in the configuration of the repeating agent.\n",
      "  warnings.warn(\n"
     ]
    },
    {
     "name": "stdin",
     "output_type": "stream",
     "text": [
      "Provide feedback to data_scientist_agent. Press enter to skip and use auto-reply, or type 'exit' to end the conversation:  \n"
     ]
    },
    {
     "name": "stdout",
     "output_type": "stream",
     "text": [
      "\u001b[31m\n",
      ">>>>>>>> NO HUMAN INPUT RECEIVED.\u001b[0m\n",
      "\u001b[31m\n",
      ">>>>>>>> USING AUTO REPLY...\u001b[0m\n",
      "\u001b[31m\n",
      ">>>>>>>> EXECUTING CODE BLOCK (inferred language is python)...\u001b[0m\n",
      "\u001b[33mcode_executor_agent\u001b[0m (to data_scientist_agent):\n",
      "\n",
      "exitcode: 0 (execution succeeded)\n",
      "Code output:   Country name  ...  population__all__95_99__records\n",
      "0  Afghanistan  ...                                8\n",
      "1  Afghanistan  ...                                9\n",
      "2  Afghanistan  ...                               10\n",
      "3  Afghanistan  ...                               11\n",
      "4  Afghanistan  ...                               11\n",
      "\n",
      "[5 rows x 40 columns]\n",
      "\n",
      "\n",
      "--------------------------------------------------------------------------------\n",
      "\u001b[31m\n",
      ">>>>>>>> USING AUTO REPLY...\u001b[0m\n",
      "\u001b[33mdata_scientist_agent\u001b[0m (to code_executor_agent):\n",
      "\n",
      "Based on the output, it seems the CSV file has detailed population records, possibly across different age groups or categories. To find the number of newborns each year for Norway, we need to identify columns related to newborns and isolate the relevant data for Norway. Let's proceed by assuming the file includes year-wise columns for population data.\n",
      "\n",
      "Here is the complete code to perform the extraction and save the results:\n",
      "\n",
      "```python\n",
      "# filename: extract_newborns_norway.py\n",
      "\n",
      "import pandas as pd\n",
      "\n",
      "# Read the CSV file\n",
      "df = pd.read_csv('population.csv')\n",
      "\n",
      "# Filter the rows for Norway\n",
      "norway_df = df[df['Country name'] == 'Norway']\n",
      "\n",
      "# Collect columns related to newborns (assuming age group 0-4 indicates newborn to 4 years)\n",
      "# Based on common naming conventions in population datasets\n",
      "newborn_years_df = norway_df.filter(like='0_4__records')\n",
      "\n",
      "# Transpose to have years in a single column and reset index\n",
      "newborn_years_df = newborn_years_df.T.reset_index()\n",
      "\n",
      "# Rename columns for clarity\n",
      "newborn_years_df.columns = ['Year', 'Newborns']\n",
      "\n",
      "# Extract year from the column names\n",
      "newborn_years_df['Year'] = newborn_years_df['Year'].str.extract(r'(\\d{4})').astype(int)\n",
      "\n",
      "# Sort by year\n",
      "newborn_years_df = newborn_years_df.sort_values(by='Year')\n",
      "\n",
      "# Save to result.csv\n",
      "newborn_years_df.to_csv('result.csv', index=False)\n",
      "print(newborn_years_df)\n",
      "```\n",
      "\n",
      "This script performs the following tasks:\n",
      "1. Reads the `population.csv`.\n",
      "2. Filters the data for Norway.\n",
      "3. Extracts year-wise newborn data (assuming columns for ages `0_4__records` exist).\n",
      "4. Cleans and formats the data.\n",
      "5. Saves the result in `result.csv`.\n",
      "\n",
      "Run this script to generate `result.csv` with the newborns data for Norway each year.\n",
      "\n",
      "--------------------------------------------------------------------------------\n",
      "\u001b[34m\n",
      "********************************************************************************\u001b[0m\n",
      "\u001b[34mStarting a new chat....\u001b[0m\n",
      "\u001b[34m\n",
      "********************************************************************************\u001b[0m\n",
      "\u001b[33mcode_executor_agent\u001b[0m (to data_scientist_agent):\n",
      "\n",
      "the previous task produced a csv file, could you draw a bar chart for this result, in a result.png file, and print out the content of the csv file in the console\n",
      "Context: \n",
      "exitcode: 0 (execution succeeded)\n",
      "Code output:   Country name  ...  population__all__95_99__records\n",
      "0  Afghanistan  ...                                8\n",
      "1  Afghanistan  ...                                9\n",
      "2  Afghanistan  ...                               10\n",
      "3  Afghanistan  ...                               11\n",
      "4  Afghanistan  ...                               11\n",
      "\n",
      "[5 rows x 40 columns]\n",
      "\n",
      "\n",
      "--------------------------------------------------------------------------------\n",
      "\u001b[31m\n",
      ">>>>>>>> USING AUTO REPLY...\u001b[0m\n",
      "\u001b[33mdata_scientist_agent\u001b[0m (to code_executor_agent):\n",
      "\n",
      "To address your request, the plan includes the following steps:\n",
      "1. Read the content of the CSV file and print it to the console.\n",
      "2. Generate a bar chart using the CSV data and save it as `result.png`.\n",
      "\n",
      "To execute the plan, I'm assuming the CSV file is named `result.csv`. Here's the full script for the steps:\n",
      "\n",
      "```python\n",
      "# filename: analyze_csv.py\n",
      "\n",
      "import pandas as pd\n",
      "import matplotlib.pyplot as plt\n",
      "\n",
      "# Step 1: Read and print the content of the CSV file\n",
      "csv_file = 'result.csv'\n",
      "data = pd.read_csv(csv_file)\n",
      "print(data)\n",
      "\n",
      "# Step 2: Generate a bar chart and save to result.png\n",
      "# For demonstration, I'll use 'Country name' and 'population__all__95_99__records' columns\n",
      "# You can adjust the columns based on the actual CSV structure\n",
      "\n",
      "data_grouped = data.groupby('Country name')['population__all__95_99__records'].sum()\n",
      "data_grouped.plot(kind='bar', title='Population Records by Country (Age 95-99)')\n",
      "\n",
      "# Save the bar chart to a file\n",
      "plt.savefig('result.png')\n",
      "plt.show()\n",
      "```\n",
      "\n",
      "Make sure you have the necessary libraries installed:\n",
      "\n",
      "```sh\n",
      "pip install pandas matplotlib\n",
      "```\n",
      "\n",
      "Save the Python code into a file named `analyze_csv.py` and then execute the script:\n",
      "\n",
      "```sh\n",
      "python analyze_csv.py\n",
      "```\n",
      "Replace `result.csv` with the correct CSV file name if it differs. The script will read the content, print it to the console, and generate a bar chart saved as `result.png`.\n",
      "\n",
      "Please run the script and provide feedback based on the output.\n",
      "\n",
      "--------------------------------------------------------------------------------\n"
     ]
    }
   ],
   "source": [
    "\n",
    "def my_summary_method(\n",
    "    sender: ConversableAgent,\n",
    "    recipient: ConversableAgent,\n",
    "    summary_args: dict,\n",
    "):\n",
    "    return sender.chat_messages[recipient][-2][\"content\"]\n",
    "\n",
    "chat_results = code_executor.initiate_chats(\n",
    "    [\n",
    "        {\n",
    "            \"recipient\": data_scientist,\n",
    "            \"message\": \"There is a csv file called population.csv, can you find out the number of newborns each year for Norway, and store it in a result.csv file\",\n",
    "            \"max_turns\": 2,\n",
    "            \"summary_method\": my_summary_method\n",
    "        },\n",
    "        {\n",
    "            \"recipient\": data_scientist,\n",
    "            \"message\": \"the previous task produced a csv file, could you draw a bar chart for this result, in a result.png file, and print out the content of the csv file in the console\",\n",
    "            \"max_turns\": 2,\n",
    "            \"summary_method\": my_summary_method\n",
    "        }\n",
    "    ]\n",
    ")\n",
    "\n",
    "os.listdir(temp_dir.name)"
   ]
  },
  {
   "cell_type": "code",
   "execution_count": null,
   "id": "c8caba8e-2062-4300-b192-6caf82e629c7",
   "metadata": {},
   "outputs": [],
   "source": []
  },
  {
   "cell_type": "code",
   "execution_count": null,
   "id": "3d6659ca-031a-40a6-93b2-3d596ca27ed7",
   "metadata": {},
   "outputs": [],
   "source": [
    "chart = \"result.png\"\n",
    "from PIL import Image\n",
    "from IPython.display import display\n",
    "img = Image.open(temp_dir.name + \"/\" + chart)\n",
    "display(img)"
   ]
  },
  {
   "cell_type": "code",
   "execution_count": null,
   "id": "a593aa37-6e8f-4107-b7fb-e4e087acdc25",
   "metadata": {},
   "outputs": [],
   "source": []
  }
 ],
 "metadata": {
  "kernelspec": {
   "display_name": "Python 3 (ipykernel)",
   "language": "python",
   "name": "python3"
  },
  "language_info": {
   "codemirror_mode": {
    "name": "ipython",
    "version": 3
   },
   "file_extension": ".py",
   "mimetype": "text/x-python",
   "name": "python",
   "nbconvert_exporter": "python",
   "pygments_lexer": "ipython3",
   "version": "3.11.9"
  }
 },
 "nbformat": 4,
 "nbformat_minor": 5
}
