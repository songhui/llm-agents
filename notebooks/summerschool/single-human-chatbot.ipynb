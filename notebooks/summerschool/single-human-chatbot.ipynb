{
 "cells": [
  {
   "cell_type": "markdown",
   "id": "52197759-12a6-4b77-9136-46fa6b65e1fe",
   "metadata": {},
   "source": [
    "# A simple chatbot agent"
   ]
  },
  {
   "cell_type": "markdown",
   "id": "672e980c-3aa3-4c5b-be86-fdd8d99ae070",
   "metadata": {},
   "source": [
    "## Prepare the environment"
   ]
  },
  {
   "cell_type": "code",
   "execution_count": 2,
   "id": "c9ff4e11-079c-4817-9bf7-642769b0e4b6",
   "metadata": {},
   "outputs": [],
   "source": [
    "from autogen import ConversableAgent\n",
    "\n",
    "with open('openai.credential', 'r') as file:\n",
    "    key = file.read()\n",
    "MODEL = 'gpt-4o'"
   ]
  },
  {
   "cell_type": "markdown",
   "id": "21d92c90-69e1-4dba-8a28-d3575b6dbdf4",
   "metadata": {},
   "source": [
    "## Human proxy"
   ]
  },
  {
   "cell_type": "code",
   "execution_count": 3,
   "id": "cdfd657a-9eb7-4fa0-87a9-3b2c04c2412d",
   "metadata": {},
   "outputs": [],
   "source": [
    "human_proxy = ConversableAgent(\n",
    "    \"human_proxy\",\n",
    "    llm_config=False,  # Turn off LLM for this agent.\n",
    "    code_execution_config=False, #No code executor\n",
    "    human_input_mode=\"ALWAYS\",  # Always take human input for this agent for safety.\n",
    "    is_termination_msg=lambda msg: \"terminate\" in msg[\"content\"].lower(),\n",
    ")"
   ]
  },
  {
   "cell_type": "markdown",
   "id": "648d130c-3018-45e2-9087-9283eab064bd",
   "metadata": {},
   "source": [
    "## Chatbot"
   ]
  },
  {
   "cell_type": "code",
   "execution_count": 4,
   "id": "e9338485-9ca3-44b6-9540-e60d2f8782f9",
   "metadata": {},
   "outputs": [],
   "source": [
    "chatbot_system_message = \"You are a helpful assistant\"\n",
    "\n",
    "chatbot = ConversableAgent(\n",
    "    \"chatbot_agent\",\n",
    "    system_message = chatbot_system_message,\n",
    "    llm_config = {\"config_list\": [{\"model\": MODEL, \"api_key\": key}]},\n",
    "    code_execution_config=False,  # Turn off code execution for this agent.\n",
    ")"
   ]
  },
  {
   "cell_type": "markdown",
   "id": "900991d4-12d5-41d5-9d19-486ff5dd9386",
   "metadata": {},
   "source": [
    "### Now we start\n"
   ]
  },
  {
   "cell_type": "code",
   "execution_count": 5,
   "id": "042c02b5-36d3-4c6e-8526-51f4c102eb33",
   "metadata": {},
   "outputs": [
    {
     "name": "stdout",
     "output_type": "stream",
     "text": [
      "\u001b[33mchatbot_agent\u001b[0m (to human_proxy):\n",
      "\n",
      "May I help you?\n",
      "\n",
      "--------------------------------------------------------------------------------\n",
      "\u001b[33mhuman_proxy\u001b[0m (to chatbot_agent):\n",
      "\n",
      "hello\n",
      "\n",
      "--------------------------------------------------------------------------------\n",
      "\u001b[31m\n",
      ">>>>>>>> USING AUTO REPLY...\u001b[0m\n",
      "\u001b[33mchatbot_agent\u001b[0m (to human_proxy):\n",
      "\n",
      "Hi there! How can I assist you today?\n",
      "\n",
      "--------------------------------------------------------------------------------\n"
     ]
    }
   ],
   "source": [
    "chat_result = chatbot.initiate_chat(\n",
    "    human_proxy,\n",
    "    message=\"May I help you?\"\n",
    ")\n"
   ]
  },
  {
   "cell_type": "markdown",
   "id": "3d6659ca-031a-40a6-93b2-3d596ca27ed7",
   "metadata": {},
   "source": [
    "## Exercise\n",
    "1. Try another topic to begin the dialog\n",
    "2. Create another chatbot with a different initial setting, e.g., a poet who always reply with poems (how?)"
   ]
  }
 ],
 "metadata": {
  "kernelspec": {
   "display_name": "base",
   "language": "python",
   "name": "python3"
  },
  "language_info": {
   "codemirror_mode": {
    "name": "ipython",
    "version": 3
   },
   "file_extension": ".py",
   "mimetype": "text/x-python",
   "name": "python",
   "nbconvert_exporter": "python",
   "pygments_lexer": "ipython3",
   "version": "3.11.9"
  }
 },
 "nbformat": 4,
 "nbformat_minor": 5
}
