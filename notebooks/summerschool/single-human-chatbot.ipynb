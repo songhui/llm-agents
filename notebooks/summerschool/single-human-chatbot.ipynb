{
 "cells": [
  {
   "cell_type": "markdown",
   "id": "52197759-12a6-4b77-9136-46fa6b65e1fe",
   "metadata": {},
   "source": [
    "# A simple chatbot agent"
   ]
  },
  {
   "cell_type": "markdown",
   "id": "672e980c-3aa3-4c5b-be86-fdd8d99ae070",
   "metadata": {},
   "source": [
    "## Prepare the environment"
   ]
  },
  {
   "cell_type": "code",
   "execution_count": 1,
   "id": "c9ff4e11-079c-4817-9bf7-642769b0e4b6",
   "metadata": {},
   "outputs": [],
   "source": [
    "from autogen import ConversableAgent\n",
    "\n",
    "with open('openai.credential', 'r') as file:\n",
    "    key = file.read()\n",
    "MODEL = 'gpt-4o'"
   ]
  },
  {
   "cell_type": "markdown",
   "id": "21d92c90-69e1-4dba-8a28-d3575b6dbdf4",
   "metadata": {},
   "source": [
    "## Human proxy"
   ]
  },
  {
   "cell_type": "code",
   "execution_count": 2,
   "id": "cdfd657a-9eb7-4fa0-87a9-3b2c04c2412d",
   "metadata": {},
   "outputs": [],
   "source": [
    "\n",
    "human_proxy = ConversableAgent(\n",
    "    \"human_proxy\",\n",
    "    llm_config=False,  # Turn off LLM for this agent.\n",
    "    code_execution_config=False, #No code executor\n",
    "    human_input_mode=\"ALWAYS\",  # Always take human input for this agent for safety.\n",
    "    is_termination_msg=lambda msg: \"terminate\" in msg[\"content\"].lower(),\n",
    ")"
   ]
  },
  {
   "cell_type": "markdown",
   "id": "648d130c-3018-45e2-9087-9283eab064bd",
   "metadata": {},
   "source": [
    "## Chatbot"
   ]
  },
  {
   "cell_type": "code",
   "execution_count": 3,
   "id": "e9338485-9ca3-44b6-9540-e60d2f8782f9",
   "metadata": {},
   "outputs": [],
   "source": [
    "chatbot_system_message = \"You are a helpful assistant\"\n",
    "\n",
    "chatbot = ConversableAgent(\n",
    "    \"chatbot_agent\",\n",
    "    system_message = chatbot_system_message,\n",
    "    llm_config = {\"config_list\": [{\"model\": MODEL, \"api_key\": key}]},\n",
    "    code_execution_config=False,  # Turn off code execution for this agent.\n",
    ")"
   ]
  },
  {
   "cell_type": "markdown",
   "id": "900991d4-12d5-41d5-9d19-486ff5dd9386",
   "metadata": {},
   "source": [
    "### Now we start\n"
   ]
  },
  {
   "cell_type": "code",
   "execution_count": null,
   "id": "042c02b5-36d3-4c6e-8526-51f4c102eb33",
   "metadata": {},
   "outputs": [
    {
     "name": "stdout",
     "output_type": "stream",
     "text": [
      "\u001b[33mchatbot_agent\u001b[0m (to human_proxy):\n",
      "\n",
      "May I help you?\n",
      "\n",
      "--------------------------------------------------------------------------------\n"
     ]
    },
    {
     "name": "stdin",
     "output_type": "stream",
     "text": [
      "Provide feedback to chatbot_agent. Press enter to skip and use auto-reply, or type 'exit' to end the conversation:  Tell me something about Predeal.\n"
     ]
    },
    {
     "name": "stdout",
     "output_type": "stream",
     "text": [
      "\u001b[33mhuman_proxy\u001b[0m (to chatbot_agent):\n",
      "\n",
      "Tell me something about Predeal.\n",
      "\n",
      "--------------------------------------------------------------------------------\n",
      "\u001b[31m\n",
      ">>>>>>>> USING AUTO REPLY...\u001b[0m\n",
      "\u001b[33mchatbot_agent\u001b[0m (to human_proxy):\n",
      "\n",
      "Predeal is a town in Brașov County, Romania, located in the Prahova Valley, at the transition between the Eastern and Southern Carpathians. As one of the highest towns in Romania (situated at around 1030 m elevation), it is a popular tourist destination, particularly for winter sports and mountain hiking.\n",
      "\n",
      "### Key Highlights:\n",
      "\n",
      "1. **Skiing and Winter Sports**:\n",
      "   - Predeal boasts several ski slopes of varying difficulty levels, making it a favored spot for both amateur and professional skiers.\n",
      "   - The Clăbucet slope is the most famous, equipped with modern facilities including ski lifts and snowmaking systems.\n",
      "\n",
      "2. **Hiking and Nature**:\n",
      "   - In the warmer months, Predeal offers numerous hiking trails that lead to the surrounding mountains, such as Piatra Mare, Bucegi, and Postăvarul.\n",
      "   - The area is known for its picturesque landscapes, dense forests, and alpine meadows.\n",
      "\n",
      "3. **Tourist Infrastructure**:\n",
      "   - The town has a range of accommodations from luxury hotels to budget-friendly guesthouses.\n",
      "   - There are also various restaurants, bars, and shops catering to tourists.\n",
      "\n",
      "4. **Transportation**:\n",
      "   - Predeal is accessible by road and rail. It is situated on the main railway line between Bucharest and Brașov, making it convenient to reach from both cities.\n",
      "\n",
      "5. **Climate**:\n",
      "   - The climate is alpine, with cold winters and mild summers. Snowfall is common from December to March, ideal for winter sports.\n",
      "\n",
      "6. **Historical and Cultural Aspects**:\n",
      "   - While primarily known for its natural beauty, Predeal also has historical sites, including the St. Nicholas Church.\n",
      "   - The town’s development as a tourist resort began in the late 19th and early 20th centuries.\n",
      "\n",
      "Overall, Predeal is a versatile destination that offers a blend of outdoor adventure, natural beauty, and relaxation. Whether you're interested in skiing, snowboarding, hiking, or simply enjoying the mountain air, Predeal has something to offer.\n",
      "\n",
      "--------------------------------------------------------------------------------\n"
     ]
    },
    {
     "name": "stdin",
     "output_type": "stream",
     "text": [
      "Provide feedback to chatbot_agent. Press enter to skip and use auto-reply, or type 'exit' to end the conversation:  Where did you get this info?\n"
     ]
    },
    {
     "name": "stdout",
     "output_type": "stream",
     "text": [
      "\u001b[33mhuman_proxy\u001b[0m (to chatbot_agent):\n",
      "\n",
      "Where did you get this info?\n",
      "\n",
      "--------------------------------------------------------------------------------\n",
      "\u001b[31m\n",
      ">>>>>>>> USING AUTO REPLY...\u001b[0m\n",
      "\u001b[33mchatbot_agent\u001b[0m (to human_proxy):\n",
      "\n",
      "The information provided about Predeal is based on general knowledge and publicly available sources, such as travel guides, tourism websites, and geographical resources. I synthesized this knowledge to offer a concise overview of the town. If you're looking for more detailed or specific information, I can help you find resources or answer any further questions you might have!\n",
      "\n",
      "--------------------------------------------------------------------------------\n"
     ]
    },
    {
     "name": "stdin",
     "output_type": "stream",
     "text": [
      "Provide feedback to chatbot_agent. Press enter to skip and use auto-reply, or type 'exit' to end the conversation:  Tell me a joke about this city?\n"
     ]
    },
    {
     "name": "stdout",
     "output_type": "stream",
     "text": [
      "\u001b[33mhuman_proxy\u001b[0m (to chatbot_agent):\n",
      "\n",
      "Tell me a joke about this city?\n",
      "\n",
      "--------------------------------------------------------------------------------\n",
      "\u001b[31m\n",
      ">>>>>>>> USING AUTO REPLY...\u001b[0m\n",
      "\u001b[33mchatbot_agent\u001b[0m (to human_proxy):\n",
      "\n",
      "Sure, here's a light-hearted joke about Predeal:\n",
      "\n",
      "Why did the skier bring a map to Predeal?\n",
      "\n",
      "Because he didn’t want to go down the wrong “slope” of town!\n",
      "\n",
      "--------------------------------------------------------------------------------\n"
     ]
    },
    {
     "name": "stdin",
     "output_type": "stream",
     "text": [
      "Provide feedback to chatbot_agent. Press enter to skip and use auto-reply, or type 'exit' to end the conversation:  I didn't get it\n"
     ]
    },
    {
     "name": "stdout",
     "output_type": "stream",
     "text": [
      "\u001b[33mhuman_proxy\u001b[0m (to chatbot_agent):\n",
      "\n",
      "I didn't get it\n",
      "\n",
      "--------------------------------------------------------------------------------\n",
      "\u001b[31m\n",
      ">>>>>>>> USING AUTO REPLY...\u001b[0m\n",
      "\u001b[33mchatbot_agent\u001b[0m (to human_proxy):\n",
      "\n",
      "I apologize if the joke was unclear. It was meant to play on the idea of skiing down slopes and not wanting to end up in the wrong place. Let me try another one:\n",
      "\n",
      "Why was the snowman so happy in Predeal?\n",
      "\n",
      "Because every day was a \"snow-day\"!\n",
      "\n",
      "--------------------------------------------------------------------------------\n"
     ]
    }
   ],
   "source": [
    "chat_result = chatbot.initiate_chat(\n",
    "    human_proxy,\n",
    "    message=\"May I help you?\"\n",
    ")\n"
   ]
  },
  {
   "cell_type": "code",
   "execution_count": null,
   "id": "3d6659ca-031a-40a6-93b2-3d596ca27ed7",
   "metadata": {},
   "outputs": [],
   "source": []
  }
 ],
 "metadata": {
  "kernelspec": {
   "display_name": "Python 3 (ipykernel)",
   "language": "python",
   "name": "python3"
  },
  "language_info": {
   "codemirror_mode": {
    "name": "ipython",
    "version": 3
   },
   "file_extension": ".py",
   "mimetype": "text/x-python",
   "name": "python",
   "nbconvert_exporter": "python",
   "pygments_lexer": "ipython3",
   "version": "3.11.9"
  }
 },
 "nbformat": 4,
 "nbformat_minor": 5
}
