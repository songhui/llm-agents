{
 "cells": [
  {
   "cell_type": "markdown",
   "id": "908494f7-6a00-43a8-b17d-8061a45f349d",
   "metadata": {},
   "source": [
    "# Using tool to get information about a country, from wikipedia\n",
    "\n",
    "\n"
   ]
  },
  {
   "cell_type": "markdown",
   "id": "e6996e2e-c01c-4bc4-85e4-2ed67e135854",
   "metadata": {},
   "source": [
    "## Import libaries and prepare the API credential"
   ]
  },
  {
   "cell_type": "code",
   "execution_count": 13,
   "id": "c9ff4e11-079c-4817-9bf7-642769b0e4b6",
   "metadata": {},
   "outputs": [],
   "source": [
    "import tempfile\n",
    "import shutil\n",
    "import os\n",
    "import subprocess\n",
    "import requests\n",
    "\n",
    "from autogen import ConversableAgent, register_function\n",
    "from autogen.coding import LocalCommandLineCodeExecutor\n",
    "\n",
    "with open('openai.credential', 'r') as file:\n",
    "    key = file.read()\n",
    "MODEL = 'gpt-4o'"
   ]
  },
  {
   "cell_type": "markdown",
   "id": "b40dc390-df09-4791-a87d-517d75dacec5",
   "metadata": {},
   "source": [
    "## A Python function to call Wiki API\n"
   ]
  },
  {
   "cell_type": "code",
   "execution_count": 14,
   "id": "636d880f-6203-49d6-a2f3-df5c678a8460",
   "metadata": {},
   "outputs": [],
   "source": [
    "def describe_country(country_name:str)->str:\n",
    "    url = \"https://en.wikipedia.org/w/api.php?format=json&action=query&prop=extracts&exintro&explaintext&redirects=1&titles=\"+country_name\n",
    "    try:\n",
    "        response = requests.get(url)\n",
    "        response.raise_for_status()  # Check if the request was successful\n",
    "        json_data = response.json()  # Extract JSON content\n",
    "        page = next(iter(json_data[\"query\"][\"pages\"].values()))\n",
    "        return page[\"extract\"]\n",
    "    except requests.exceptions.HTTPError as http_err:\n",
    "        print(f\"HTTP error occurred: {http_err}\")\n",
    "    except Exception as err:\n",
    "        print(f\"Other error occurred: {err}\")\n"
   ]
  },
  {
   "cell_type": "markdown",
   "id": "691ee968-b9bf-4b2a-9c52-acba6a2ae41b",
   "metadata": {},
   "source": [
    "## Agent 1: tool executor (just to wrap up the function)"
   ]
  },
  {
   "cell_type": "code",
   "execution_count": 15,
   "id": "cdfd657a-9eb7-4fa0-87a9-3b2c04c2412d",
   "metadata": {},
   "outputs": [],
   "source": [
    "\n",
    "wiki_tool = ConversableAgent(\n",
    "    \"wiki_tool\",\n",
    "    system_message = \"You are a helpful assistant. You may decide to use some external tools if necessary\",\n",
    "    llm_config=False,  # Turn off LLM for this agent.\n",
    "    code_execution_config=False\n",
    ")\n"
   ]
  },
  {
   "cell_type": "markdown",
   "id": "4e40a94d-e683-46af-9a1a-ba4410c21404",
   "metadata": {},
   "source": [
    "### Agent 2: Tool driver (caller of the function)"
   ]
  },
  {
   "cell_type": "code",
   "execution_count": 16,
   "id": "15f407d3-38b2-4d4d-a633-a069b5ad0bc1",
   "metadata": {},
   "outputs": [],
   "source": [
    "wiki_tool_driver = ConversableAgent(\n",
    "    \"wiki_tool_driver\",\n",
    "    llm_config = {\"config_list\": [{\"model\": MODEL, \"api_key\": key}]},\n",
    "    code_execution_config=False\n",
    ")"
   ]
  },
  {
   "cell_type": "markdown",
   "id": "5a553d80-4f70-4eb4-be18-437626460b6f",
   "metadata": {},
   "source": [
    "### Register the tool to both caller and executor\n",
    "\n",
    "*Question:* Why we need tool agents to use a tool?"
   ]
  },
  {
   "cell_type": "code",
   "execution_count": 17,
   "id": "45a6c1bc-8ef5-42ff-87ff-fa7880728dfc",
   "metadata": {},
   "outputs": [],
   "source": [
    "register_function(\n",
    "    describe_country,\n",
    "    caller = wiki_tool_driver,\n",
    "    executor = wiki_tool,\n",
    "    description = \"get the description of a country from wiki. this service only receive the formal name of a country\"\n",
    ")"
   ]
  },
  {
   "cell_type": "markdown",
   "id": "d99696aa-394c-4620-b8ec-0775b1cbf18a",
   "metadata": {},
   "source": [
    "## Now we start"
   ]
  },
  {
   "cell_type": "code",
   "execution_count": 18,
   "id": "042c02b5-36d3-4c6e-8526-51f4c102eb33",
   "metadata": {},
   "outputs": [
    {
     "name": "stdout",
     "output_type": "stream",
     "text": [
      "\u001b[33mwiki_tool\u001b[0m (to wiki_tool_driver):\n",
      "\n",
      "I want to know something about the united states\n",
      "\n",
      "--------------------------------------------------------------------------------\n",
      "\u001b[31m\n",
      ">>>>>>>> USING AUTO REPLY...\u001b[0m\n",
      "\u001b[33mwiki_tool_driver\u001b[0m (to wiki_tool):\n",
      "\n",
      "\u001b[32m***** Suggested tool call (call_9IeUf0dCYcHZF9DDPgCpGDk2): describe_country *****\u001b[0m\n",
      "Arguments: \n",
      "{\"country_name\":\"United States\"}\n",
      "\u001b[32m*********************************************************************************\u001b[0m\n",
      "\n",
      "--------------------------------------------------------------------------------\n",
      "\u001b[31m\n",
      ">>>>>>>> USING AUTO REPLY...\u001b[0m\n",
      "\u001b[35m\n",
      ">>>>>>>> EXECUTING FUNCTION describe_country...\u001b[0m\n",
      "\u001b[33mwiki_tool\u001b[0m (to wiki_tool_driver):\n",
      "\n",
      "\u001b[33mwiki_tool\u001b[0m (to wiki_tool_driver):\n",
      "\n",
      "\u001b[32m***** Response from calling tool (call_9IeUf0dCYcHZF9DDPgCpGDk2) *****\u001b[0m\n",
      "The United States of America (USA or U.S.A.), commonly known as the United States (US or U.S.) or America, is a country primarily located in North America. It is a federation of 50 states, which also includes its federal capital district of Washington, D.C., and 326 Indian reservations. The 48 contiguous states border Canada to the north and Mexico to the south. The State of Alaska is non-contiguous and lies to the northwest, while the State of Hawaii is an archipelago in the Pacific Ocean. Outside the union of states, the U.S. also asserts sovereignty over five major unincorporated island territories and various uninhabited islands. The country has the world's third-largest land area, second-largest exclusive economic zone, and third-largest population, exceeding 334 million.\n",
      "Paleo-Indians migrated across the Bering land bridge more than 12,000 years ago, and went on to form various civilizations and societies. British colonization led to the first settlement of the Thirteen Colonies in Virginia in 1607. Clashes with the British Crown over taxation and political representation sparked the American Revolution, with the Second Continental Congress formally declaring independence on July 4, 1776. Following its victory in the 1775–1783 Revolutionary War, the country continued to expand across North America. As more states were admitted, sectional division over slavery led to the secession of the Confederate States of America, which fought the remaining states of the Union during the 1861–1865 American Civil War. With the Union's victory and preservation, slavery was abolished nationally. By 1890, the United States had established itself as a great power. After Japan's attack on Pearl Harbor in December 1941, the U.S. entered World War II. The aftermath of the war left the U.S. and the Soviet Union as the world's two superpowers and led to the Cold War, during which both countries engaged in a struggle for ideological dominance and international influence. Following the Soviet Union's collapse and the end of the Cold War in 1991, the U.S. emerged as the world's sole superpower.\n",
      "The U.S. national government is a presidential constitutional republic and liberal democracy with three separate branches: legislative, executive, and judicial. It has a bicameral national legislature composed of the House of Representatives, a lower house based on population; and the Senate, an upper house based on equal representation for each state. Substantial autonomy is given to states and several territories, with a political culture promoting liberty, equality, individualism, personal autonomy, and limited government.\n",
      "One of the world's most developed countries, the United States has had the largest nominal GDP since about 1890 and accounted for 15% of the global economy in 2023. It possesses by far the largest amount of wealth of any country and has the highest disposable household income per capita among OECD countries. The U.S. ranks among the world's highest in human rights, economic competitiveness, productivity, innovation, and higher education. Its hard power and cultural influence have a global reach. The U.S. is a founding member of the World Bank, Organization of American States, NATO, and United Nations, as well as a permanent member of the UN Security Council.\n",
      "\u001b[32m**********************************************************************\u001b[0m\n",
      "\n",
      "--------------------------------------------------------------------------------\n",
      "\u001b[31m\n",
      ">>>>>>>> USING AUTO REPLY...\u001b[0m\n",
      "\u001b[33mwiki_tool_driver\u001b[0m (to wiki_tool):\n",
      "\n",
      "The United States of America (USA or U.S.A.), commonly known as the United States (US or U.S.) or America, is a country primarily located in North America. Here are some key points about the United States:\n",
      "\n",
      "- **Geography**: It is a federation of 50 states, including the federal capital district of Washington, D.C., and 326 Indian reservations. The 48 contiguous states border Canada to the north and Mexico to the south. Alaska is located to the northwest, while Hawaii is an archipelago in the Pacific Ocean. The US also has sovereignty over five major unincorporated island territories and various uninhabited islands. The US has the world's third-largest land area, second-largest exclusive economic zone, and the third-largest population, exceeding 334 million.\n",
      "\n",
      "- **History**: Paleo-Indians migrated across the Bering land bridge more than 12,000 years ago. The British colonization led to the first settlement of the Thirteen Colonies in Virginia in 1607. After clashes with the British Crown, the American Revolution began, leading to the Declaration of Independence on July 4, 1776. The United States continued to expand across North America, and sectional division over slavery eventually led to the American Civil War from 1861 to 1865. The Union's victory preserved the nation and abolished slavery nationally. By 1890, the US had established itself as a great power. The US became a superpower after World War II and engaged in the Cold War with the Soviet Union, emerging as the world's sole superpower following the Soviet Union's collapse in 1991.\n",
      "\n",
      "- **Government**: The US national government is a presidential constitutional republic and liberal democracy with three branches: legislative, executive, and judicial. It has a bicameral legislature composed of the House of Representatives and the Senate. States and several territories enjoy substantial autonomy.\n",
      "\n",
      "- **Economy and Development**: One of the world's most developed countries, the US has had the largest nominal GDP since about 1890 and accounted for 15% of the global economy in 2023. It possesses the largest amount of wealth of any country and has the highest disposable household income per capita among OECD countries. The US ranks high in human rights, economic competitiveness, productivity, innovation, and higher education. Its hard power and cultural influence are globally significant.\n",
      "\n",
      "- **International Role**: The US is a founding member of major international organizations such as the World Bank, Organization of American States, NATO, and the United Nations, and it is a permanent member of the UN Security Council.\n",
      "\n",
      "The United States is known for its significant global influence, both economically and culturally.\n",
      "\n",
      "--------------------------------------------------------------------------------\n"
     ]
    },
    {
     "data": {
      "text/plain": [
       "ChatResult(chat_id=None, chat_history=[{'content': 'I want to know something about the united states', 'role': 'assistant'}, {'tool_calls': [{'id': 'call_9IeUf0dCYcHZF9DDPgCpGDk2', 'function': {'arguments': '{\"country_name\":\"United States\"}', 'name': 'describe_country'}, 'type': 'function'}], 'content': None, 'role': 'assistant'}, {'content': \"The United States of America (USA or U.S.A.), commonly known as the United States (US or U.S.) or America, is a country primarily located in North America. It is a federation of 50 states, which also includes its federal capital district of Washington, D.C., and 326 Indian reservations. The 48 contiguous states border Canada to the north and Mexico to the south. The State of Alaska is non-contiguous and lies to the northwest, while the State of Hawaii is an archipelago in the Pacific Ocean. Outside the union of states, the U.S. also asserts sovereignty over five major unincorporated island territories and various uninhabited islands. The country has the world's third-largest land area, second-largest exclusive economic zone, and third-largest population, exceeding 334 million.\\nPaleo-Indians migrated across the Bering land bridge more than 12,000 years ago, and went on to form various civilizations and societies. British colonization led to the first settlement of the Thirteen Colonies in Virginia in 1607. Clashes with the British Crown over taxation and political representation sparked the American Revolution, with the Second Continental Congress formally declaring independence on July 4, 1776. Following its victory in the 1775–1783 Revolutionary War, the country continued to expand across North America. As more states were admitted, sectional division over slavery led to the secession of the Confederate States of America, which fought the remaining states of the Union during the 1861–1865 American Civil War. With the Union's victory and preservation, slavery was abolished nationally. By 1890, the United States had established itself as a great power. After Japan's attack on Pearl Harbor in December 1941, the U.S. entered World War II. The aftermath of the war left the U.S. and the Soviet Union as the world's two superpowers and led to the Cold War, during which both countries engaged in a struggle for ideological dominance and international influence. Following the Soviet Union's collapse and the end of the Cold War in 1991, the U.S. emerged as the world's sole superpower.\\nThe U.S. national government is a presidential constitutional republic and liberal democracy with three separate branches: legislative, executive, and judicial. It has a bicameral national legislature composed of the House of Representatives, a lower house based on population; and the Senate, an upper house based on equal representation for each state. Substantial autonomy is given to states and several territories, with a political culture promoting liberty, equality, individualism, personal autonomy, and limited government.\\nOne of the world's most developed countries, the United States has had the largest nominal GDP since about 1890 and accounted for 15% of the global economy in 2023. It possesses by far the largest amount of wealth of any country and has the highest disposable household income per capita among OECD countries. The U.S. ranks among the world's highest in human rights, economic competitiveness, productivity, innovation, and higher education. Its hard power and cultural influence have a global reach. The U.S. is a founding member of the World Bank, Organization of American States, NATO, and United Nations, as well as a permanent member of the UN Security Council.\", 'tool_responses': [{'tool_call_id': 'call_9IeUf0dCYcHZF9DDPgCpGDk2', 'role': 'tool', 'content': \"The United States of America (USA or U.S.A.), commonly known as the United States (US or U.S.) or America, is a country primarily located in North America. It is a federation of 50 states, which also includes its federal capital district of Washington, D.C., and 326 Indian reservations. The 48 contiguous states border Canada to the north and Mexico to the south. The State of Alaska is non-contiguous and lies to the northwest, while the State of Hawaii is an archipelago in the Pacific Ocean. Outside the union of states, the U.S. also asserts sovereignty over five major unincorporated island territories and various uninhabited islands. The country has the world's third-largest land area, second-largest exclusive economic zone, and third-largest population, exceeding 334 million.\\nPaleo-Indians migrated across the Bering land bridge more than 12,000 years ago, and went on to form various civilizations and societies. British colonization led to the first settlement of the Thirteen Colonies in Virginia in 1607. Clashes with the British Crown over taxation and political representation sparked the American Revolution, with the Second Continental Congress formally declaring independence on July 4, 1776. Following its victory in the 1775–1783 Revolutionary War, the country continued to expand across North America. As more states were admitted, sectional division over slavery led to the secession of the Confederate States of America, which fought the remaining states of the Union during the 1861–1865 American Civil War. With the Union's victory and preservation, slavery was abolished nationally. By 1890, the United States had established itself as a great power. After Japan's attack on Pearl Harbor in December 1941, the U.S. entered World War II. The aftermath of the war left the U.S. and the Soviet Union as the world's two superpowers and led to the Cold War, during which both countries engaged in a struggle for ideological dominance and international influence. Following the Soviet Union's collapse and the end of the Cold War in 1991, the U.S. emerged as the world's sole superpower.\\nThe U.S. national government is a presidential constitutional republic and liberal democracy with three separate branches: legislative, executive, and judicial. It has a bicameral national legislature composed of the House of Representatives, a lower house based on population; and the Senate, an upper house based on equal representation for each state. Substantial autonomy is given to states and several territories, with a political culture promoting liberty, equality, individualism, personal autonomy, and limited government.\\nOne of the world's most developed countries, the United States has had the largest nominal GDP since about 1890 and accounted for 15% of the global economy in 2023. It possesses by far the largest amount of wealth of any country and has the highest disposable household income per capita among OECD countries. The U.S. ranks among the world's highest in human rights, economic competitiveness, productivity, innovation, and higher education. Its hard power and cultural influence have a global reach. The U.S. is a founding member of the World Bank, Organization of American States, NATO, and United Nations, as well as a permanent member of the UN Security Council.\"}], 'role': 'tool'}, {'content': \"The United States of America (USA or U.S.A.), commonly known as the United States (US or U.S.) or America, is a country primarily located in North America. Here are some key points about the United States:\\n\\n- **Geography**: It is a federation of 50 states, including the federal capital district of Washington, D.C., and 326 Indian reservations. The 48 contiguous states border Canada to the north and Mexico to the south. Alaska is located to the northwest, while Hawaii is an archipelago in the Pacific Ocean. The US also has sovereignty over five major unincorporated island territories and various uninhabited islands. The US has the world's third-largest land area, second-largest exclusive economic zone, and the third-largest population, exceeding 334 million.\\n\\n- **History**: Paleo-Indians migrated across the Bering land bridge more than 12,000 years ago. The British colonization led to the first settlement of the Thirteen Colonies in Virginia in 1607. After clashes with the British Crown, the American Revolution began, leading to the Declaration of Independence on July 4, 1776. The United States continued to expand across North America, and sectional division over slavery eventually led to the American Civil War from 1861 to 1865. The Union's victory preserved the nation and abolished slavery nationally. By 1890, the US had established itself as a great power. The US became a superpower after World War II and engaged in the Cold War with the Soviet Union, emerging as the world's sole superpower following the Soviet Union's collapse in 1991.\\n\\n- **Government**: The US national government is a presidential constitutional republic and liberal democracy with three branches: legislative, executive, and judicial. It has a bicameral legislature composed of the House of Representatives and the Senate. States and several territories enjoy substantial autonomy.\\n\\n- **Economy and Development**: One of the world's most developed countries, the US has had the largest nominal GDP since about 1890 and accounted for 15% of the global economy in 2023. It possesses the largest amount of wealth of any country and has the highest disposable household income per capita among OECD countries. The US ranks high in human rights, economic competitiveness, productivity, innovation, and higher education. Its hard power and cultural influence are globally significant.\\n\\n- **International Role**: The US is a founding member of major international organizations such as the World Bank, Organization of American States, NATO, and the United Nations, and it is a permanent member of the UN Security Council.\\n\\nThe United States is known for its significant global influence, both economically and culturally.\", 'role': 'user'}], summary=\"The United States of America (USA or U.S.A.), commonly known as the United States (US or U.S.) or America, is a country primarily located in North America. Here are some key points about the United States:\\n\\n- **Geography**: It is a federation of 50 states, including the federal capital district of Washington, D.C., and 326 Indian reservations. The 48 contiguous states border Canada to the north and Mexico to the south. Alaska is located to the northwest, while Hawaii is an archipelago in the Pacific Ocean. The US also has sovereignty over five major unincorporated island territories and various uninhabited islands. The US has the world's third-largest land area, second-largest exclusive economic zone, and the third-largest population, exceeding 334 million.\\n\\n- **History**: Paleo-Indians migrated across the Bering land bridge more than 12,000 years ago. The British colonization led to the first settlement of the Thirteen Colonies in Virginia in 1607. After clashes with the British Crown, the American Revolution began, leading to the Declaration of Independence on July 4, 1776. The United States continued to expand across North America, and sectional division over slavery eventually led to the American Civil War from 1861 to 1865. The Union's victory preserved the nation and abolished slavery nationally. By 1890, the US had established itself as a great power. The US became a superpower after World War II and engaged in the Cold War with the Soviet Union, emerging as the world's sole superpower following the Soviet Union's collapse in 1991.\\n\\n- **Government**: The US national government is a presidential constitutional republic and liberal democracy with three branches: legislative, executive, and judicial. It has a bicameral legislature composed of the House of Representatives and the Senate. States and several territories enjoy substantial autonomy.\\n\\n- **Economy and Development**: One of the world's most developed countries, the US has had the largest nominal GDP since about 1890 and accounted for 15% of the global economy in 2023. It possesses the largest amount of wealth of any country and has the highest disposable household income per capita among OECD countries. The US ranks high in human rights, economic competitiveness, productivity, innovation, and higher education. Its hard power and cultural influence are globally significant.\\n\\n- **International Role**: The US is a founding member of major international organizations such as the World Bank, Organization of American States, NATO, and the United Nations, and it is a permanent member of the UN Security Council.\\n\\nThe United States is known for its significant global influence, both economically and culturally.\", cost={'usage_including_cached_inference': {'total_cost': 0.012595, 'gpt-4o-2024-05-13': {'cost': 0.012595, 'prompt_tokens': 842, 'completion_tokens': 559, 'total_tokens': 1401}}, 'usage_excluding_cached_inference': {'total_cost': 0.012595, 'gpt-4o-2024-05-13': {'cost': 0.012595, 'prompt_tokens': 842, 'completion_tokens': 559, 'total_tokens': 1401}}}, human_input=[])"
      ]
     },
     "execution_count": 18,
     "metadata": {},
     "output_type": "execute_result"
    }
   ],
   "source": [
    "wiki_tool.initiate_chat(\n",
    "    wiki_tool_driver,\n",
    "    message = \"I want to know something about the united states\",\n",
    "    max_turns = 2\n",
    ")\n"
   ]
  },
  {
   "cell_type": "code",
   "execution_count": null,
   "id": "f3fab508-c434-4872-a08b-c0570d9c5990",
   "metadata": {},
   "outputs": [],
   "source": []
  },
  {
   "cell_type": "code",
   "execution_count": null,
   "id": "c8caba8e-2062-4300-b192-6caf82e629c7",
   "metadata": {},
   "outputs": [],
   "source": []
  },
  {
   "cell_type": "code",
   "execution_count": null,
   "id": "a593aa37-6e8f-4107-b7fb-e4e087acdc25",
   "metadata": {},
   "outputs": [],
   "source": []
  }
 ],
 "metadata": {
  "kernelspec": {
   "display_name": "Python 3 (ipykernel)",
   "language": "python",
   "name": "python3"
  },
  "language_info": {
   "codemirror_mode": {
    "name": "ipython",
    "version": 3
   },
   "file_extension": ".py",
   "mimetype": "text/x-python",
   "name": "python",
   "nbconvert_exporter": "python",
   "pygments_lexer": "ipython3",
   "version": "3.11.9"
  }
 },
 "nbformat": 4,
 "nbformat_minor": 5
}
