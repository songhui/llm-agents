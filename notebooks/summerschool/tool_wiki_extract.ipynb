{
 "cells": [
  {
   "cell_type": "markdown",
   "id": "908494f7-6a00-43a8-b17d-8061a45f349d",
   "metadata": {},
   "source": [
    "# Using tool to get information about a country, from wikipedia\n",
    "\n",
    "\n"
   ]
  },
  {
   "cell_type": "markdown",
   "id": "e6996e2e-c01c-4bc4-85e4-2ed67e135854",
   "metadata": {},
   "source": [
    "## Import libaries and prepare the API credential"
   ]
  },
  {
   "cell_type": "code",
   "execution_count": null,
   "id": "c9ff4e11-079c-4817-9bf7-642769b0e4b6",
   "metadata": {},
   "outputs": [],
   "source": [
    "import tempfile\n",
    "import shutil\n",
    "import os\n",
    "import subprocess\n",
    "import requests\n",
    "\n",
    "from autogen import ConversableAgent, register_function\n",
    "from autogen.coding import LocalCommandLineCodeExecutor\n",
    "\n",
    "with open('openai.credential', 'r') as file:\n",
    "    key = file.read()\n",
    "MODEL = 'gpt-4o'"
   ]
  },
  {
   "cell_type": "markdown",
   "id": "b40dc390-df09-4791-a87d-517d75dacec5",
   "metadata": {},
   "source": [
    "## A Python function to call Wiki API\n"
   ]
  },
  {
   "cell_type": "code",
   "execution_count": null,
   "id": "636d880f-6203-49d6-a2f3-df5c678a8460",
   "metadata": {},
   "outputs": [],
   "source": [
    "def describe_country(country_name:str)->str:\n",
    "    url = \"https://en.wikipedia.org/w/api.php?format=json&action=query&prop=extracts&exintro&explaintext&redirects=1&titles=\"+country_name\n",
    "    try:\n",
    "        response = requests.get(url)\n",
    "        response.raise_for_status()  # Check if the request was successful\n",
    "        json_data = response.json()  # Extract JSON content\n",
    "        page = next(iter(json_data[\"query\"][\"pages\"].values()))\n",
    "        return page[\"extract\"]\n",
    "    except requests.exceptions.HTTPError as http_err:\n",
    "        print(f\"HTTP error occurred: {http_err}\")\n",
    "    except Exception as err:\n",
    "        print(f\"Other error occurred: {err}\")\n"
   ]
  },
  {
   "cell_type": "markdown",
   "id": "691ee968-b9bf-4b2a-9c52-acba6a2ae41b",
   "metadata": {},
   "source": [
    "## Agent 1: tool executor (just to wrap up the function)"
   ]
  },
  {
   "cell_type": "code",
   "execution_count": null,
   "id": "cdfd657a-9eb7-4fa0-87a9-3b2c04c2412d",
   "metadata": {},
   "outputs": [],
   "source": [
    "\n",
    "wiki_tool = ConversableAgent(\n",
    "    \"wiki_tool\",\n",
    "    system_message = \"You are a helpful assistant. You may decide to use some external tools\"\n",
    "    \"when you received the return of the tool, which is normally a text description of a country, try to shorten it, \"\n",
    "    \"focusing on the relation with other countries, and the history after 1950\",\n",
    "    llm_config=False,  # Turn off LLM for this agent.\n",
    "    code_execution_config=False\n",
    ")\n"
   ]
  },
  {
   "cell_type": "markdown",
   "id": "4e40a94d-e683-46af-9a1a-ba4410c21404",
   "metadata": {},
   "source": [
    "### Agent 2: Tool driver (caller of the function)"
   ]
  },
  {
   "cell_type": "code",
   "execution_count": null,
   "id": "15f407d3-38b2-4d4d-a633-a069b5ad0bc1",
   "metadata": {},
   "outputs": [],
   "source": [
    "wiki_tool_driver = ConversableAgent(\n",
    "    \"wiki_tool_driver\",\n",
    "    llm_config = {\"config_list\": [{\"model\": MODEL, \"api_key\": key}]},\n",
    "    code_execution_config=False\n",
    ")"
   ]
  },
  {
   "cell_type": "markdown",
   "id": "5a553d80-4f70-4eb4-be18-437626460b6f",
   "metadata": {},
   "source": [
    "### Register the tool to both caller and executor\n",
    "\n",
    "*Question:* Why we need tool agents to use a tool?"
   ]
  },
  {
   "cell_type": "code",
   "execution_count": null,
   "id": "45a6c1bc-8ef5-42ff-87ff-fa7880728dfc",
   "metadata": {},
   "outputs": [],
   "source": [
    "register_function(\n",
    "    describe_country,\n",
    "    caller = wiki_tool_driver,\n",
    "    executor = wiki_tool,\n",
    "    description = \"get country description from wiki\"\n",
    ")"
   ]
  },
  {
   "cell_type": "markdown",
   "id": "d99696aa-394c-4620-b8ec-0775b1cbf18a",
   "metadata": {},
   "source": [
    "## Now we start"
   ]
  },
  {
   "cell_type": "code",
   "execution_count": null,
   "id": "042c02b5-36d3-4c6e-8526-51f4c102eb33",
   "metadata": {},
   "outputs": [],
   "source": [
    "wiki_tool.initiate_chat(\n",
    "    wiki_tool_driver,\n",
    "    message = \"I want to know something about china\",\n",
    "    max_turns = 2\n",
    ")\n"
   ]
  },
  {
   "cell_type": "code",
   "execution_count": null,
   "id": "f3fab508-c434-4872-a08b-c0570d9c5990",
   "metadata": {},
   "outputs": [],
   "source": []
  },
  {
   "cell_type": "code",
   "execution_count": null,
   "id": "c8caba8e-2062-4300-b192-6caf82e629c7",
   "metadata": {},
   "outputs": [],
   "source": []
  },
  {
   "cell_type": "code",
   "execution_count": null,
   "id": "a593aa37-6e8f-4107-b7fb-e4e087acdc25",
   "metadata": {},
   "outputs": [],
   "source": []
  }
 ],
 "metadata": {
  "kernelspec": {
   "display_name": "Python 3 (ipykernel)",
   "language": "python",
   "name": "python3"
  },
  "language_info": {
   "codemirror_mode": {
    "name": "ipython",
    "version": 3
   },
   "file_extension": ".py",
   "mimetype": "text/x-python",
   "name": "python",
   "nbconvert_exporter": "python",
   "pygments_lexer": "ipython3",
   "version": "3.11.9"
  }
 },
 "nbformat": 4,
 "nbformat_minor": 5
}
