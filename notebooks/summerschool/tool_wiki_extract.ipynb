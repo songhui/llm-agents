{
 "cells": [
  {
   "cell_type": "markdown",
   "id": "908494f7-6a00-43a8-b17d-8061a45f349d",
   "metadata": {},
   "source": [
    "# Using tool to get information about a country, from wikipedia\n",
    "\n",
    "\n"
   ]
  },
  {
   "cell_type": "markdown",
   "id": "e6996e2e-c01c-4bc4-85e4-2ed67e135854",
   "metadata": {},
   "source": [
    "## Import libaries and prepare the API credential"
   ]
  },
  {
   "cell_type": "code",
   "execution_count": 7,
   "id": "c9ff4e11-079c-4817-9bf7-642769b0e4b6",
   "metadata": {},
   "outputs": [],
   "source": [
    "from autogen import ConversableAgent, register_function\n",
    "\n",
    "with open('openai.credential', 'r') as file:\n",
    "    key = file.read()\n",
    "MODEL = 'gpt-4o'"
   ]
  },
  {
   "cell_type": "markdown",
   "id": "b40dc390-df09-4791-a87d-517d75dacec5",
   "metadata": {},
   "source": [
    "## A Python function to call Wiki API\n"
   ]
  },
  {
   "cell_type": "markdown",
   "id": "691ee968-b9bf-4b2a-9c52-acba6a2ae41b",
   "metadata": {},
   "source": [
    "## Agent 1: tool executor (just to wrap up the function)"
   ]
  },
  {
   "cell_type": "code",
   "execution_count": null,
   "id": "747a3753",
   "metadata": {},
   "outputs": [],
   "source": [
    "\n",
    "wiki_tool = ConversableAgent(\n",
    "    \"wiki_tool\",\n",
    "    llm_config=False,  # Turn off LLM for this agent.\n",
    "    code_execution_config=False,\n",
    "    # is_termination_msg=lambda msg: \"terminate\" in msg[\"content\"].lower(),\n",
    ")"
   ]
  },
  {
   "cell_type": "markdown",
   "id": "4e40a94d-e683-46af-9a1a-ba4410c21404",
   "metadata": {},
   "source": [
    "### Agent 2: Tool driver (caller of the function)"
   ]
  },
  {
   "cell_type": "code",
   "execution_count": 10,
   "id": "15f407d3-38b2-4d4d-a633-a069b5ad0bc1",
   "metadata": {},
   "outputs": [],
   "source": [
    "wiki_tool_driver = ConversableAgent(\n",
    "    \"wiki_tool_driver\",\n",
    "    system_message = \"You are a helpful assistant. You may decide to use some external tools if necessary\"\n",
    "    \"If you are happy with the result of the tool, just say TERMINATE\",\n",
    "    llm_config = {\"config_list\": [{\"model\": MODEL, \"api_key\": key}]},\n",
    "    code_execution_config=False\n",
    ")"
   ]
  },
  {
   "cell_type": "markdown",
   "id": "5a553d80-4f70-4eb4-be18-437626460b6f",
   "metadata": {},
   "source": [
    "### Register the tool to both caller and executor\n",
    "\n",
    "*Question:* Why we need tool agents to use a tool?"
   ]
  },
  {
   "cell_type": "code",
   "execution_count": 11,
   "id": "45a6c1bc-8ef5-42ff-87ff-fa7880728dfc",
   "metadata": {},
   "outputs": [],
   "source": [
    "from tools.tools import describe_country\n",
    "\n",
    "register_function(\n",
    "    describe_country,\n",
    "    caller = wiki_tool_driver,\n",
    "    executor = wiki_tool,\n",
    "    description = \"get the description of a country from wiki. this service only receive the formal name of a country\"\n",
    ")"
   ]
  },
  {
   "cell_type": "markdown",
   "id": "d99696aa-394c-4620-b8ec-0775b1cbf18a",
   "metadata": {},
   "source": [
    "## Now we start"
   ]
  },
  {
   "cell_type": "code",
   "execution_count": 12,
   "id": "042c02b5-36d3-4c6e-8526-51f4c102eb33",
   "metadata": {},
   "outputs": [
    {
     "name": "stdout",
     "output_type": "stream",
     "text": [
      "\u001b[33mwiki_tool\u001b[0m (to wiki_tool_driver):\n",
      "\n",
      "I want to know something about a country with nick name uncle sam\n",
      "\n",
      "--------------------------------------------------------------------------------\n",
      "\u001b[31m\n",
      ">>>>>>>> USING AUTO REPLY...\u001b[0m\n",
      "\u001b[33mwiki_tool_driver\u001b[0m (to wiki_tool):\n",
      "\n",
      "\u001b[32m***** Suggested tool call (call_GUgkGpyazEMwnbYf8D1No4xx): describe_country *****\u001b[0m\n",
      "Arguments: \n",
      "{\"country_name\":\"United States of America\"}\n",
      "\u001b[32m*********************************************************************************\u001b[0m\n",
      "\n",
      "--------------------------------------------------------------------------------\n",
      "\u001b[31m\n",
      ">>>>>>>> USING AUTO REPLY...\u001b[0m\n",
      "\u001b[35m\n",
      ">>>>>>>> EXECUTING FUNCTION describe_country...\u001b[0m\n",
      "\u001b[33mwiki_tool\u001b[0m (to wiki_tool_driver):\n",
      "\n",
      "\u001b[33mwiki_tool\u001b[0m (to wiki_tool_driver):\n",
      "\n",
      "\u001b[32m***** Response from calling tool (call_GUgkGpyazEMwnbYf8D1No4xx) *****\u001b[0m\n",
      "The United States of America (USA or U.S.A.), commonly known as the United States (US or U.S.) or America, is a country primarily located in North America. It is a federation of 50 states, which also includes its federal capital district of Washington, D.C., and 326 Indian reservations. The 48 contiguous states border Canada to the north and Mexico to the south. The State of Alaska is non-contiguous and lies to the northwest, while the State of Hawaii is an archipelago in the Pacific Ocean. Outside the union of states, the U.S. also asserts sovereignty over five major unincorporated island territories and various uninhabited islands. The country has the world's third-largest land area, second-largest exclusive economic zone, and third-largest population, exceeding 334 million.\n",
      "Paleo-Indians migrated across the Bering land bridge more than 12,000 years ago, and went on to form various civilizations and societies. British colonization led to the first settlement of the Thirteen Colonies in Virginia in 1607. Clashes with the British Crown over taxation and political representation sparked the American Revolution, with the Second Continental Congress formally declaring independence on July 4, 1776. Following its victory in the 1775–1783 Revolutionary War, the country continued to expand across North America. As more states were admitted, sectional division over slavery led to the secession of the Confederate States of America, which fought the remaining states of the Union during the 1861–1865 American Civil War. With the Union's victory and preservation, slavery was abolished nationally. By 1890, the United States had established itself as a great power. After Japan's attack on Pearl Harbor in December 1941, the U.S. entered World War II. The aftermath of the war left the U.S. and the Soviet Union as the world's two superpowers and led to the Cold War, during which both countries engaged in a struggle for ideological dominance and international influence. Following the Soviet Union's collapse and the end of the Cold War in 1991, the U.S. emerged as the world's sole superpower.\n",
      "The U.S. national government is a presidential constitutional republic and liberal democracy with three separate branches: legislative, executive, and judicial. It has a bicameral national legislature composed of the House of Representatives, a lower house based on population; and the Senate, an upper house based on equal representation for each state. Substantial autonomy is given to states and several territories, with a political culture promoting liberty, equality, individualism, personal autonomy, and limited government.\n",
      "One of the world's most developed countries, the United States has had the largest nominal GDP since about 1890 and accounted for 15% of the global economy in 2023. It possesses by far the largest amount of wealth of any country and has the highest disposable household income per capita among OECD countries. The U.S. ranks among the world's highest in human rights, economic competitiveness, productivity, innovation, and higher education. Its hard power and cultural influence have a global reach. The U.S. is a founding member of the World Bank, Organization of American States, NATO, and United Nations, as well as a permanent member of the UN Security Council.\n",
      "\u001b[32m**********************************************************************\u001b[0m\n",
      "\n",
      "--------------------------------------------------------------------------------\n",
      "\u001b[31m\n",
      ">>>>>>>> USING AUTO REPLY...\u001b[0m\n",
      "\u001b[33mwiki_tool_driver\u001b[0m (to wiki_tool):\n",
      "\n",
      "The United States of America (USA), often referred to as \"Uncle Sam,\" is a notable country in North America known for its extensive history, diverse landscape, and profound global influence. Here are some key highlights:\n",
      "\n",
      "- **Geography**: The USA is a federation of 50 states, including the federal capital district of Washington, D.C., 326 Indian reservations, and various territories. It shares borders with Canada to the north and Mexico to the south, with the State of Alaska and the archipelago of Hawaii situated apart from the contiguous states.\n",
      "\n",
      "- **History**: \n",
      "  - Early Settlement: Populated by Paleo-Indians more than 12,000 years ago, the land saw the development of various civilizations.\n",
      "  - Colonization: British settled the region in the 17th century, establishing the Thirteen Colonies.\n",
      "  - Independence: American Revolution led to the declaration of independence on July 4, 1776, followed by expansion and development.\n",
      "  - Civil War: The 1861–1865 U.S. Civil War led to the abolition of slavery and preservation of the Union.\n",
      "\n",
      "- **Government & Politics**: The U.S. operates a presidential constitutional republic with a liberal democracy format. It has three separate branches (legislative, executive, judicial) and a bicameral legislature made up of the House of Representatives and the Senate.\n",
      "\n",
      "- **Economy**: The U.S. has the world's largest nominal GDP, representing 15% of the global economy in 2023, and leads in wealth, household income, innovation, and higher education.\n",
      "\n",
      "- **Global Influence**: The U.S. is a founding member of various international organizations (e.g., World Bank, UN, NATO) and possesses significant hard power and cultural influence worldwide.\n",
      "\n",
      "With its rich history and profound impact on modern society, the United States is a cornerstone in global dynamics across diverse sectors.\n",
      "\n",
      "--------------------------------------------------------------------------------\n"
     ]
    },
    {
     "data": {
      "text/plain": [
       "ChatResult(chat_id=None, chat_history=[{'content': 'I want to know something about a country with nick name uncle sam', 'role': 'assistant'}, {'tool_calls': [{'id': 'call_GUgkGpyazEMwnbYf8D1No4xx', 'function': {'arguments': '{\"country_name\":\"United States of America\"}', 'name': 'describe_country'}, 'type': 'function'}], 'content': None, 'role': 'assistant'}, {'content': \"The United States of America (USA or U.S.A.), commonly known as the United States (US or U.S.) or America, is a country primarily located in North America. It is a federation of 50 states, which also includes its federal capital district of Washington, D.C., and 326 Indian reservations. The 48 contiguous states border Canada to the north and Mexico to the south. The State of Alaska is non-contiguous and lies to the northwest, while the State of Hawaii is an archipelago in the Pacific Ocean. Outside the union of states, the U.S. also asserts sovereignty over five major unincorporated island territories and various uninhabited islands. The country has the world's third-largest land area, second-largest exclusive economic zone, and third-largest population, exceeding 334 million.\\nPaleo-Indians migrated across the Bering land bridge more than 12,000 years ago, and went on to form various civilizations and societies. British colonization led to the first settlement of the Thirteen Colonies in Virginia in 1607. Clashes with the British Crown over taxation and political representation sparked the American Revolution, with the Second Continental Congress formally declaring independence on July 4, 1776. Following its victory in the 1775–1783 Revolutionary War, the country continued to expand across North America. As more states were admitted, sectional division over slavery led to the secession of the Confederate States of America, which fought the remaining states of the Union during the 1861–1865 American Civil War. With the Union's victory and preservation, slavery was abolished nationally. By 1890, the United States had established itself as a great power. After Japan's attack on Pearl Harbor in December 1941, the U.S. entered World War II. The aftermath of the war left the U.S. and the Soviet Union as the world's two superpowers and led to the Cold War, during which both countries engaged in a struggle for ideological dominance and international influence. Following the Soviet Union's collapse and the end of the Cold War in 1991, the U.S. emerged as the world's sole superpower.\\nThe U.S. national government is a presidential constitutional republic and liberal democracy with three separate branches: legislative, executive, and judicial. It has a bicameral national legislature composed of the House of Representatives, a lower house based on population; and the Senate, an upper house based on equal representation for each state. Substantial autonomy is given to states and several territories, with a political culture promoting liberty, equality, individualism, personal autonomy, and limited government.\\nOne of the world's most developed countries, the United States has had the largest nominal GDP since about 1890 and accounted for 15% of the global economy in 2023. It possesses by far the largest amount of wealth of any country and has the highest disposable household income per capita among OECD countries. The U.S. ranks among the world's highest in human rights, economic competitiveness, productivity, innovation, and higher education. Its hard power and cultural influence have a global reach. The U.S. is a founding member of the World Bank, Organization of American States, NATO, and United Nations, as well as a permanent member of the UN Security Council.\", 'tool_responses': [{'tool_call_id': 'call_GUgkGpyazEMwnbYf8D1No4xx', 'role': 'tool', 'content': \"The United States of America (USA or U.S.A.), commonly known as the United States (US or U.S.) or America, is a country primarily located in North America. It is a federation of 50 states, which also includes its federal capital district of Washington, D.C., and 326 Indian reservations. The 48 contiguous states border Canada to the north and Mexico to the south. The State of Alaska is non-contiguous and lies to the northwest, while the State of Hawaii is an archipelago in the Pacific Ocean. Outside the union of states, the U.S. also asserts sovereignty over five major unincorporated island territories and various uninhabited islands. The country has the world's third-largest land area, second-largest exclusive economic zone, and third-largest population, exceeding 334 million.\\nPaleo-Indians migrated across the Bering land bridge more than 12,000 years ago, and went on to form various civilizations and societies. British colonization led to the first settlement of the Thirteen Colonies in Virginia in 1607. Clashes with the British Crown over taxation and political representation sparked the American Revolution, with the Second Continental Congress formally declaring independence on July 4, 1776. Following its victory in the 1775–1783 Revolutionary War, the country continued to expand across North America. As more states were admitted, sectional division over slavery led to the secession of the Confederate States of America, which fought the remaining states of the Union during the 1861–1865 American Civil War. With the Union's victory and preservation, slavery was abolished nationally. By 1890, the United States had established itself as a great power. After Japan's attack on Pearl Harbor in December 1941, the U.S. entered World War II. The aftermath of the war left the U.S. and the Soviet Union as the world's two superpowers and led to the Cold War, during which both countries engaged in a struggle for ideological dominance and international influence. Following the Soviet Union's collapse and the end of the Cold War in 1991, the U.S. emerged as the world's sole superpower.\\nThe U.S. national government is a presidential constitutional republic and liberal democracy with three separate branches: legislative, executive, and judicial. It has a bicameral national legislature composed of the House of Representatives, a lower house based on population; and the Senate, an upper house based on equal representation for each state. Substantial autonomy is given to states and several territories, with a political culture promoting liberty, equality, individualism, personal autonomy, and limited government.\\nOne of the world's most developed countries, the United States has had the largest nominal GDP since about 1890 and accounted for 15% of the global economy in 2023. It possesses by far the largest amount of wealth of any country and has the highest disposable household income per capita among OECD countries. The U.S. ranks among the world's highest in human rights, economic competitiveness, productivity, innovation, and higher education. Its hard power and cultural influence have a global reach. The U.S. is a founding member of the World Bank, Organization of American States, NATO, and United Nations, as well as a permanent member of the UN Security Council.\"}], 'role': 'tool'}, {'content': 'The United States of America (USA), often referred to as \"Uncle Sam,\" is a notable country in North America known for its extensive history, diverse landscape, and profound global influence. Here are some key highlights:\\n\\n- **Geography**: The USA is a federation of 50 states, including the federal capital district of Washington, D.C., 326 Indian reservations, and various territories. It shares borders with Canada to the north and Mexico to the south, with the State of Alaska and the archipelago of Hawaii situated apart from the contiguous states.\\n\\n- **History**: \\n  - Early Settlement: Populated by Paleo-Indians more than 12,000 years ago, the land saw the development of various civilizations.\\n  - Colonization: British settled the region in the 17th century, establishing the Thirteen Colonies.\\n  - Independence: American Revolution led to the declaration of independence on July 4, 1776, followed by expansion and development.\\n  - Civil War: The 1861–1865 U.S. Civil War led to the abolition of slavery and preservation of the Union.\\n\\n- **Government & Politics**: The U.S. operates a presidential constitutional republic with a liberal democracy format. It has three separate branches (legislative, executive, judicial) and a bicameral legislature made up of the House of Representatives and the Senate.\\n\\n- **Economy**: The U.S. has the world\\'s largest nominal GDP, representing 15% of the global economy in 2023, and leads in wealth, household income, innovation, and higher education.\\n\\n- **Global Influence**: The U.S. is a founding member of various international organizations (e.g., World Bank, UN, NATO) and possesses significant hard power and cultural influence worldwide.\\n\\nWith its rich history and profound impact on modern society, the United States is a cornerstone in global dynamics across diverse sectors.', 'role': 'user'}], summary='The United States of America (USA), often referred to as \"Uncle Sam,\" is a notable country in North America known for its extensive history, diverse landscape, and profound global influence. Here are some key highlights:\\n\\n- **Geography**: The USA is a federation of 50 states, including the federal capital district of Washington, D.C., 326 Indian reservations, and various territories. It shares borders with Canada to the north and Mexico to the south, with the State of Alaska and the archipelago of Hawaii situated apart from the contiguous states.\\n\\n- **History**: \\n  - Early Settlement: Populated by Paleo-Indians more than 12,000 years ago, the land saw the development of various civilizations.\\n  - Colonization: British settled the region in the 17th century, establishing the Thirteen Colonies.\\n  - Independence: American Revolution led to the declaration of independence on July 4, 1776, followed by expansion and development.\\n  - Civil War: The 1861–1865 U.S. Civil War led to the abolition of slavery and preservation of the Union.\\n\\n- **Government & Politics**: The U.S. operates a presidential constitutional republic with a liberal democracy format. It has three separate branches (legislative, executive, judicial) and a bicameral legislature made up of the House of Representatives and the Senate.\\n\\n- **Economy**: The U.S. has the world\\'s largest nominal GDP, representing 15% of the global economy in 2023, and leads in wealth, household income, innovation, and higher education.\\n\\n- **Global Influence**: The U.S. is a founding member of various international organizations (e.g., World Bank, UN, NATO) and possesses significant hard power and cultural influence worldwide.\\n\\nWith its rich history and profound impact on modern society, the United States is a cornerstone in global dynamics across diverse sectors.', cost={'usage_including_cached_inference': {'total_cost': 0.010584999999999999, 'gpt-4o-2024-05-13': {'cost': 0.010584999999999999, 'prompt_tokens': 902, 'completion_tokens': 405, 'total_tokens': 1307}}, 'usage_excluding_cached_inference': {'total_cost': 0.010584999999999999, 'gpt-4o-2024-05-13': {'cost': 0.010584999999999999, 'prompt_tokens': 902, 'completion_tokens': 405, 'total_tokens': 1307}}}, human_input=[])"
      ]
     },
     "execution_count": 12,
     "metadata": {},
     "output_type": "execute_result"
    }
   ],
   "source": [
    "wiki_tool.initiate_chat(\n",
    "    wiki_tool_driver,\n",
    "    message = \"I want to know something about a country with nick name uncle sam\",\n",
    "    max_turns = 2\n",
    ")\n"
   ]
  },
  {
   "cell_type": "markdown",
   "id": "f3fab508-c434-4872-a08b-c0570d9c5990",
   "metadata": {},
   "source": [
    "## Exercise\n",
    "1. Try to register multiple tools in one agent, and let the drive decide which tool to call\n",
    "2. Combine code executation and tool usage: Create a tool agent that can query a Neo4j database, and the driver need to generate the CYPHER query and call the tool."
   ]
  }
 ],
 "metadata": {
  "kernelspec": {
   "display_name": "base",
   "language": "python",
   "name": "python3"
  },
  "language_info": {
   "codemirror_mode": {
    "name": "ipython",
    "version": 3
   },
   "file_extension": ".py",
   "mimetype": "text/x-python",
   "name": "python",
   "nbconvert_exporter": "python",
   "pygments_lexer": "ipython3",
   "version": "3.11.9"
  }
 },
 "nbformat": 4,
 "nbformat_minor": 5
}
